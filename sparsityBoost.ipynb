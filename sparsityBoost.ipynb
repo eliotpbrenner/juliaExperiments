{
 "cells": [
  {
   "cell_type": "code",
   "execution_count": 213,
   "metadata": {
    "collapsed": false
   },
   "outputs": [
    {
     "data": {
      "text/plain": [
       "100000"
      ]
     },
     "execution_count": 213,
     "metadata": {},
     "output_type": "execute_result"
    }
   ],
   "source": [
    "#PARAMETERS\n",
    "testDataFile=\"/Users/eliotpbrenner/PycharmProjects/SparsityBoost/data/synthetic_examples/experiments/0/alarm1000.dat\"\n",
    "numTestVariable=37\n",
    "numTestDataPts=1000\n",
    "studentJSONFile = \"student.txt\"\n",
    "studentDataFile=\"student_100kSamples.csv\"\n",
    "studentNValsFile=\"student_nvals.csv\"\n",
    "numStudentVariable=5\n",
    "numStudentDataPts=100000"
   ]
  },
  {
   "cell_type": "code",
   "execution_count": 216,
   "metadata": {
    "collapsed": false
   },
   "outputs": [],
   "source": [
    "# Imports\n",
    "using Base.Test\n",
    "using Iterators"
   ]
  },
  {
   "cell_type": "code",
   "execution_count": 217,
   "metadata": {
    "collapsed": true
   },
   "outputs": [],
   "source": [
    "type model\n",
    "  nodes::Int64\n",
    "  nval::Array{Int64,1}\n",
    "  dataArray::Array{Int64,2}\n",
    "end"
   ]
  },
  {
   "cell_type": "code",
   "execution_count": 218,
   "metadata": {
    "collapsed": false
   },
   "outputs": [],
   "source": [
    "type jointDistWithMarginals\n",
    "  pdist::Array{Float64,2}\n",
    "  p_A::Array{Float64,1}\n",
    "  p_B::Array{Float64,1}\n",
    "end"
   ]
  },
  {
   "cell_type": "code",
   "execution_count": 219,
   "metadata": {
    "collapsed": false
   },
   "outputs": [
    {
     "data": {
      "text/plain": [
       "jointDistWithMarginals"
      ]
     },
     "execution_count": 219,
     "metadata": {},
     "output_type": "execute_result"
    }
   ],
   "source": [
    "# Constructor which calculates the marginals\n",
    "jointDistWithMarginals(pdist::Array{Float64,2}) = jointDistWithMarginals(pdist, vec(sum(pdist,2)), vec(sum(pdist,1)))"
   ]
  },
  {
   "cell_type": "code",
   "execution_count": 220,
   "metadata": {
    "collapsed": false
   },
   "outputs": [
    {
     "data": {
      "text/plain": [
       "jointDistWithMarginals(2x2 Array{Float64,2}:\n",
       " 0.25  0.25\n",
       " 0.25  0.25,[0.5,0.5],[0.5,0.5])"
      ]
     },
     "execution_count": 220,
     "metadata": {},
     "output_type": "execute_result"
    }
   ],
   "source": [
    "jointDistWithMarginals([[0.25 0.25]; [ 0.25 0.25]])"
   ]
  },
  {
   "cell_type": "code",
   "execution_count": 221,
   "metadata": {
    "collapsed": false
   },
   "outputs": [
    {
     "data": {
      "text/plain": [
       "jointDistWithMarginals(2x3 Array{Float64,2}:\n",
       " 0.25  0.125  0.125\n",
       " 0.25  0.125  0.125,[0.5,0.5],[0.5,0.25,0.25])"
      ]
     },
     "execution_count": 221,
     "metadata": {},
     "output_type": "execute_result"
    }
   ],
   "source": [
    "jointDistWithMarginals([[0.25 0.125 0.125]; [ 0.25 0.125 0.125]])"
   ]
  },
  {
   "cell_type": "code",
   "execution_count": 222,
   "metadata": {
    "collapsed": false
   },
   "outputs": [
    {
     "data": {
      "text/plain": [
       "readDataBinary (generic function with 1 method)"
      ]
     },
     "execution_count": 222,
     "metadata": {},
     "output_type": "execute_result"
    }
   ],
   "source": [
    "function readDataBinary(filePath::AbstractString)\n",
    "  dataArray = readdlm(filePath, ' ', Int);\n",
    "  nodes=size(dataArray)[2];\n",
    "  nval=2*ones(Int, nodes)\n",
    "  theModel = model(nodes,nval,dataArray);\n",
    "end\n"
   ]
  },
  {
   "cell_type": "code",
   "execution_count": 223,
   "metadata": {
    "collapsed": false
   },
   "outputs": [
    {
     "data": {
      "text/plain": [
       "readData (generic function with 1 method)"
      ]
     },
     "execution_count": 223,
     "metadata": {},
     "output_type": "execute_result"
    }
   ],
   "source": [
    "function readData(dataFilePath::AbstractString, nvalsFilePath::AbstractString)\n",
    "  dataArray = readdlm(dataFilePath, ',', Int);\n",
    "  nodes=size(dataArray)[2];\n",
    "    nval=vec(readdlm(nvalsFilePath, ',', Int));   #2*ones(Int, nodes)\n",
    "  theModel = model(nodes,nval,dataArray);\n",
    "end"
   ]
  },
  {
   "cell_type": "code",
   "execution_count": 196,
   "metadata": {
    "collapsed": false
   },
   "outputs": [
    {
     "data": {
      "text/plain": [
       "model(5,[2,2,3,2,2],100000x5 Array{Int64,2}:\n",
       " 0  0  1  0  0\n",
       " 0  0  0  1  1\n",
       " 1  0  2  0  0\n",
       " 0  0  2  0  0\n",
       " 1  1  0  1  1\n",
       " 0  0  1  0  0\n",
       " 0  0  2  0  0\n",
       " 0  0  0  0  1\n",
       " 0  0  1  0  1\n",
       " 0  0  1  0  0\n",
       " 0  0  1  0  0\n",
       " 0  1  0  1  1\n",
       " 0  0  0  0  1\n",
       " ⋮            \n",
       " 0  0  1  0  0\n",
       " 1  1  2  1  0\n",
       " 0  0  1  0  1\n",
       " 0  0  0  0  1\n",
       " 0  0  2  0  0\n",
       " 0  0  1  0  0\n",
       " 0  1  0  0  1\n",
       " 1  1  1  1  0\n",
       " 0  1  0  0  0\n",
       " 1  0  1  1  0\n",
       " 1  1  0  1  1\n",
       " 0  0  2  0  0)"
      ]
     },
     "execution_count": 196,
     "metadata": {},
     "output_type": "execute_result"
    }
   ],
   "source": [
    "m=readData(studentDataFile, studentNValsFile)"
   ]
  },
  {
   "cell_type": "code",
   "execution_count": 224,
   "metadata": {
    "collapsed": false
   },
   "outputs": [],
   "source": [
    "# test readData function\n",
    "m=readData(studentDataFile, studentNValsFile)\n",
    "@test size(m.dataArray) == (numStudentDataPts, numStudentVariable)"
   ]
  },
  {
   "cell_type": "code",
   "execution_count": 225,
   "metadata": {
    "collapsed": false
   },
   "outputs": [
    {
     "data": {
      "text/plain": [
       "verify (generic function with 1 method)"
      ]
     },
     "execution_count": 225,
     "metadata": {},
     "output_type": "execute_result"
    }
   ],
   "source": [
    "function verify(aJointDistributionWithMarginals::jointDistWithMarginals)\n",
    "  sumA=sum(aJointDistributionWithMarginals.pdist,2)\n",
    "  sumB=sum(aJointDistributionWithMarginals.pdist,1)\n",
    "  @test_approx_eq(transpose(sumA),aJointDistributionWithMarginals.p_A)\n",
    "  @test_approx_eq(sumB,aJointDistributionWithMarginals.p_B)\n",
    "  @test_approx_eq(sum(sumA),1.0)\n",
    "  return true\n",
    "end"
   ]
  },
  {
   "cell_type": "code",
   "execution_count": 226,
   "metadata": {
    "collapsed": false
   },
   "outputs": [],
   "source": [
    "goodDist=jointDistWithMarginals([[0.25 0.25]; [ 0.25 0.25]], [0.5; 0.5], [0.5; 0.5])\n",
    "@test verify(goodDist) == true"
   ]
  },
  {
   "cell_type": "code",
   "execution_count": 227,
   "metadata": {
    "collapsed": false
   },
   "outputs": [
    {
     "data": {
      "text/plain": [
       "ErrorException(\"assertion failed: |transpose(sumA) - aJointDistributionWithMarginals.p_A| <= 2.220446049250313e-12\\n  transpose(sumA) = [0.5 0.5]\\n  aJointDistributionWithMarginals.p_A = [0.6,0.4]\\n  difference = 0.09999999999999998 > 2.220446049250313e-12\")"
      ]
     },
     "execution_count": 227,
     "metadata": {},
     "output_type": "execute_result"
    }
   ],
   "source": [
    "#TODO: determine why this this test fails instead of succeeding!\n",
    "badDist = jointDistWithMarginals([[0.25 0.25]; [ 0.25 0.25]], [0.6; 0.4], [0.5; 0.5])\n",
    "@test_throws( ErrorException, verify(badDist))"
   ]
  },
  {
   "cell_type": "code",
   "execution_count": 228,
   "metadata": {
    "collapsed": false
   },
   "outputs": [
    {
     "data": {
      "text/plain": [
       "MI_term (generic function with 1 method)"
      ]
     },
     "execution_count": 228,
     "metadata": {},
     "output_type": "execute_result"
    }
   ],
   "source": [
    "function MI_term(i::Int, j::Int, dist::jointDistWithMarginals)\n",
    "  return dist.pdist[i,j]*log(dist.pdist[i,j]/(dist.p_A[i]*dist.p_B[j])  )\n",
    "end"
   ]
  },
  {
   "cell_type": "code",
   "execution_count": 269,
   "metadata": {
    "collapsed": false
   },
   "outputs": [
    {
     "data": {
      "text/plain": [
       "MI (generic function with 3 methods)"
      ]
     },
     "execution_count": 269,
     "metadata": {},
     "output_type": "execute_result"
    }
   ],
   "source": [
    "function MI(dist::jointDistWithMarginals)\n",
    "  (a,b)=size(dist.pdist)\n",
    "  return sum([(MI_term(i,j,dist)) for i=1:a, j=1:b])\n",
    "end"
   ]
  },
  {
   "cell_type": "code",
   "execution_count": 230,
   "metadata": {
    "collapsed": false
   },
   "outputs": [
    {
     "data": {
      "text/plain": [
       "MI (generic function with 3 methods)"
      ]
     },
     "execution_count": 230,
     "metadata": {},
     "output_type": "execute_result"
    }
   ],
   "source": [
    "function MI(m::model,i::Int,j::Int,SToVal::Dict)\n",
    "  \"\"\"\n",
    "  TODO: test\n",
    "  \"\"\"\n",
    "  MI(conditionalDist(m::model,i::Int,j::Int,SToVal::Dict))\n",
    "end"
   ]
  },
  {
   "cell_type": "code",
   "execution_count": 212,
   "metadata": {
    "collapsed": false
   },
   "outputs": [
    {
     "ename": "LoadError",
     "evalue": "LoadError: lengths of transpose(sumA) and aJointDistributionWithMarginals.p_A do not match: \n  transpose(sumA) (length 3) = [0.7418091468036722\n 0.16798618714730904\n 0.09020466604901879]\n  aJointDistributionWithMarginals.p_A (length 2) = [0.6002695190768971,0.3997304809231028]\nwhile loading In[212], in expression starting on line 1",
     "output_type": "error",
     "traceback": [
      "LoadError: lengths of transpose(sumA) and aJointDistributionWithMarginals.p_A do not match: \n  transpose(sumA) (length 3) = [0.7418091468036722\n 0.16798618714730904\n 0.09020466604901879]\n  aJointDistributionWithMarginals.p_A (length 2) = [0.6002695190768971,0.3997304809231028]\nwhile loading In[212], in expression starting on line 1",
      "",
      " in test_approx_eq at test.jl:117",
      " in test_approx_eq at test.jl:145",
      " in verify at In[198]:4",
      " in conditionalDist at In[185]:18",
      " in MI at In[211]:5"
     ]
    }
   ],
   "source": [
    "MI(m,1,3,Dict(2=>1, 4=>1))"
   ]
  },
  {
   "cell_type": "code",
   "execution_count": 205,
   "metadata": {
    "collapsed": false
   },
   "outputs": [
    {
     "data": {
      "text/plain": [
       "0.0"
      ]
     },
     "execution_count": 205,
     "metadata": {},
     "output_type": "execute_result"
    }
   ],
   "source": [
    "MI_term(1,1,goodDist)"
   ]
  },
  {
   "cell_type": "code",
   "execution_count": 34,
   "metadata": {
    "collapsed": false
   },
   "outputs": [],
   "source": [
    "@test_approx_eq(MI(goodDist),0)"
   ]
  },
  {
   "cell_type": "code",
   "execution_count": 35,
   "metadata": {
    "collapsed": false
   },
   "outputs": [],
   "source": [
    "t=0.01\n",
    "anotherDist=jointDistWithMarginals([[0.25+t 0.25-t]; [ 0.25-t 0.25+t]], [0.5; 0.5], [0.5; 0.5])\n",
    "verify(anotherDist)\n",
    "@test_approx_eq(MI(anotherDist), 0.0008002134699838133)"
   ]
  },
  {
   "cell_type": "code",
   "execution_count": 36,
   "metadata": {
    "collapsed": false
   },
   "outputs": [
    {
     "data": {
      "text/plain": [
       "testNotInDict (generic function with 1 method)"
      ]
     },
     "execution_count": 36,
     "metadata": {},
     "output_type": "execute_result"
    }
   ],
   "source": [
    "testNotInDict(elt::Int, SToVal::Dict) = try\n",
    "    \"\"\"TODO: figure out how to propagate y up the call stack if it's not a KeyError\"\"\"\n",
    "    x=SToVal[elt] \n",
    "    warn(\"$elt is in $SToVal with value $x\")\n",
    "    throw(DomainError())\n",
    "  catch y\n",
    "    if isa(y, KeyError)\n",
    "      return true\n",
    "    else\n",
    "      return y\n",
    "    end\n",
    "  end"
   ]
  },
  {
   "cell_type": "code",
   "execution_count": 37,
   "metadata": {
    "collapsed": false
   },
   "outputs": [
    {
     "data": {
      "text/plain": [
       "Dict{Int64,Int64} with 2 entries:\n",
       "  3 => 4\n",
       "  1 => 2"
      ]
     },
     "execution_count": 37,
     "metadata": {},
     "output_type": "execute_result"
    }
   ],
   "source": [
    "S=Dict(1=>2, 3=>4)"
   ]
  },
  {
   "cell_type": "code",
   "execution_count": 38,
   "metadata": {
    "collapsed": false
   },
   "outputs": [
    {
     "name": "stderr",
     "output_type": "stream",
     "text": [
      "WARNING: 1 is in Dict(3=>4,1=>2) with value 2\n"
     ]
    },
    {
     "data": {
      "text/plain": [
       "DomainError()"
      ]
     },
     "execution_count": 38,
     "metadata": {},
     "output_type": "execute_result"
    }
   ],
   "source": [
    "testNotInDict(1,S)"
   ]
  },
  {
   "cell_type": "code",
   "execution_count": 231,
   "metadata": {
    "collapsed": false
   },
   "outputs": [
    {
     "data": {
      "text/plain": [
       "conditionalDist (generic function with 1 method)"
      ]
     },
     "execution_count": 231,
     "metadata": {},
     "output_type": "execute_result"
    }
   ],
   "source": [
    "function conditionalDist(m::model,i::Int,j::Int,SToVal::Dict)\n",
    "  \"\"\"\n",
    "  TODO: that S is a dict of integers and that both are valid for the model\n",
    "  TODO: vectorize the computation of the pDist\n",
    "  \"\"\"\n",
    "  @test i!=j\n",
    "  @test testNotInDict(i, SToVal) == true\n",
    "  @test testNotInDict(j, SToVal) ==true\n",
    "  selectedPoints = m.dataArray[reduce(&,[m.dataArray[:,condVar] .==SToVal[condVar] for condVar in keys(SToVal)]),:]\n",
    "  numSelectedPoints = size(selectedPoints)[1]\n",
    "  pDist = zeros(m.nval[i], m.nval[j])\n",
    "  for k = 1:m.nval[i]\n",
    "      for l = 1:m.nval[j]\n",
    "          pDist[k,l] = size(selectedPoints[(selectedPoints[:,i] .==k-1)&(selectedPoints[:,j] .==l-1), :])[1]/numSelectedPoints\n",
    "    end\n",
    "  end\n",
    "    jd = jointDistWithMarginals(pDist)\n",
    "    #verify(jd)\n",
    "    return jd\n",
    "end"
   ]
  },
  {
   "cell_type": "code",
   "execution_count": 232,
   "metadata": {
    "collapsed": false
   },
   "outputs": [
    {
     "data": {
      "text/plain": [
       "jointDistWithMarginals(2x3 Array{Float64,2}:\n",
       " 0.18229    0.241131  0.183444\n",
       " 0.0227863  0.09576   0.274589,[0.6068647245457167,0.39313527545428323],[0.2050764349581771,0.3368906835881165,0.45803288145370635])"
      ]
     },
     "execution_count": 232,
     "metadata": {},
     "output_type": "execute_result"
    }
   ],
   "source": [
    "SToVal = Dict(2=>0, 4=>1)\n",
    "cd = conditionalDist(m, 1, 3, SToVal)"
   ]
  },
  {
   "cell_type": "code",
   "execution_count": 233,
   "metadata": {
    "collapsed": false
   },
   "outputs": [
    {
     "data": {
      "text/plain": [
       "ErrorException(\"test failed: 1 != 1\\n in expression: i != j\")"
      ]
     },
     "execution_count": 233,
     "metadata": {},
     "output_type": "execute_result"
    }
   ],
   "source": [
    "@test_throws(ErrorException,conditionalDist(m, 1, 1, SToVal))"
   ]
  },
  {
   "cell_type": "code",
   "execution_count": 234,
   "metadata": {
    "collapsed": false
   },
   "outputs": [
    {
     "data": {
      "text/plain": [
       "jointDistWithMarginals(3x2 Array{Float64,2}:\n",
       " 0.18229   0.0227863\n",
       " 0.241131  0.09576  \n",
       " 0.183444  0.274589 ,[0.2050764349581771,0.3368906835881165,0.45803288145370635],[0.6068647245457167,0.39313527545428323])"
      ]
     },
     "execution_count": 234,
     "metadata": {},
     "output_type": "execute_result"
    }
   ],
   "source": [
    "conditionalDist(m, 3, 1, SToVal)"
   ]
  },
  {
   "cell_type": "code",
   "execution_count": 235,
   "metadata": {
    "collapsed": false
   },
   "outputs": [
    {
     "name": "stderr",
     "output_type": "stream",
     "text": [
      "WARNING: 3 is in Dict(3=>4,1=>2) with value 4\n"
     ]
    },
    {
     "ename": "LoadError",
     "evalue": "LoadError: test failed: ErrorException(\"test failed: DomainError() == true\\n in expression: testNotInDict(i,SToVal) == true\") was thrown instead of DomainError\n in expression: conditionalDist(m,3,1,S)\nwhile loading In[235], in expression starting on line 2",
     "output_type": "error",
     "traceback": [
      "LoadError: test failed: ErrorException(\"test failed: DomainError() == true\\n in expression: testNotInDict(i,SToVal) == true\") was thrown instead of DomainError\n in expression: conditionalDist(m,3,1,S)\nwhile loading In[235], in expression starting on line 2",
      "",
      " in error at /Applications/Julia-0.4.0.app/Contents/Resources/julia/lib/julia/sys.dylib",
      " in default_handler at test.jl:30",
      " in do_test_throws at test.jl:75"
     ]
    }
   ],
   "source": [
    "#TODO: determine why this test is failing\n",
    "@test_throws(DomainError, conditionalDist(m, 3, 1, S))"
   ]
  },
  {
   "cell_type": "code",
   "execution_count": 236,
   "metadata": {
    "collapsed": false
   },
   "outputs": [
    {
     "name": "stderr",
     "output_type": "stream",
     "text": [
      "WARNING: 3 is in Dict(3=>4,1=>2) with value 4\n"
     ]
    },
    {
     "ename": "LoadError",
     "evalue": "LoadError: test failed: DomainError() == true\n in expression: testNotInDict(i,SToVal) == true\nwhile loading In[236], in expression starting on line 1",
     "output_type": "error",
     "traceback": [
      "LoadError: test failed: DomainError() == true\n in expression: testNotInDict(i,SToVal) == true\nwhile loading In[236], in expression starting on line 1",
      "",
      " in error at /Applications/Julia-0.4.0.app/Contents/Resources/julia/lib/julia/sys.dylib",
      " in default_handler at test.jl:30",
      " in do_test at test.jl:53",
      " in conditionalDist at In[231]:7"
     ]
    }
   ],
   "source": [
    "conditionalDist(m, 3, 1, S)"
   ]
  },
  {
   "cell_type": "code",
   "execution_count": 237,
   "metadata": {
    "collapsed": false
   },
   "outputs": [
    {
     "data": {
      "text/plain": [
       "MI (generic function with 3 methods)"
      ]
     },
     "execution_count": 237,
     "metadata": {},
     "output_type": "execute_result"
    }
   ],
   "source": [
    "function MI(m::model, i::Int, j::Int, S::Array{Int64,1})\n",
    "  \"\"\"\n",
    "  TODO: test\n",
    "  \"\"\"\n",
    "  max=-Inf\n",
    "  for p in Iterators.product([1:m.nval[k]-1 for k in S]...)\n",
    "        candidate=MI(m,i,j, Dict(zip(S,p)))\n",
    "    if candidate > max\n",
    "      max=candidate\n",
    "    end\n",
    "  end\n",
    "  return max\n",
    "end"
   ]
  },
  {
   "cell_type": "code",
   "execution_count": 272,
   "metadata": {
    "collapsed": false
   },
   "outputs": [
    {
     "data": {
      "text/plain": [
       "epsilon (generic function with 2 methods)"
      ]
     },
     "execution_count": 272,
     "metadata": {},
     "output_type": "execute_result"
    }
   ],
   "source": [
    "function epsilon(m::model, i::Int, j::Int, d::Int)\n",
    "    min=Inf\n",
    "    bestK=Array([])\n",
    "    for di in (1:d)\n",
    "        for k in combinations(1:m.nodes,di)\n",
    "            if (i in k) || (j in k)\n",
    "                continue\n",
    "            end\n",
    "            candidate = MI(m,i,j,k)\n",
    "            if candidate < min\n",
    "                min=candidate\n",
    "                bestK=k\n",
    "            end\n",
    "        end\n",
    "    end\n",
    "    return bestK, min\n",
    "end"
   ]
  },
  {
   "cell_type": "code",
   "execution_count": 270,
   "metadata": {
    "collapsed": false
   },
   "outputs": [
    {
     "name": "stdout",
     "output_type": "stream",
     "text": [
      "22"
     ]
    },
    {
     "data": {
      "text/plain": [
       "([4],1.0097662376677198e-5)"
      ]
     },
     "execution_count": 270,
     "metadata": {},
     "output_type": "execute_result"
    },
    {
     "name": "stdout",
     "output_type": "stream",
     "text": [
      "[0.5899072125832154 0.04856679659204581\n",
      " 0.24014349280811287 0.12138249801662584]22[0.36414959163203897 0.010259349477002435\n",
      " 0.559335148302049 0.06625591058890959]22[0.07731598868187999 0.5237937750339912\n",
      " 0.05008635578583765 0.34880388049829125]22[0.43130112856033914 0.3037758006409108\n",
      " 0.1146274954718258 0.15029557532692422]"
     ]
    }
   ],
   "source": [
    "epsilon(m,1,2,1)"
   ]
  },
  {
   "cell_type": "code",
   "execution_count": 240,
   "metadata": {
    "collapsed": true
   },
   "outputs": [],
   "source": [
    "using PyCall\n"
   ]
  },
  {
   "cell_type": "code",
   "execution_count": 241,
   "metadata": {
    "collapsed": false
   },
   "outputs": [],
   "source": [
    "@pyimport graphviz"
   ]
  },
  {
   "cell_type": "code",
   "execution_count": 242,
   "metadata": {
    "collapsed": false
   },
   "outputs": [
    {
     "data": {
      "text/plain": [
       "PyObject <module 'libpgm.nodedata' from '/Users/eliotpbrenner/anaconda/lib/python2.7/site-packages/libpgm/nodedata.pyc'>"
      ]
     },
     "execution_count": 242,
     "metadata": {},
     "output_type": "execute_result"
    }
   ],
   "source": [
    "ndModule = pyimport(\"libpgm.nodedata\")"
   ]
  },
  {
   "cell_type": "code",
   "execution_count": 243,
   "metadata": {
    "collapsed": false
   },
   "outputs": [
    {
     "data": {
      "text/plain": [
       "PyObject <libpgm.nodedata.NodeData object at 0x319067ed0>"
      ]
     },
     "execution_count": 243,
     "metadata": {},
     "output_type": "execute_result"
    }
   ],
   "source": [
    "ndObj=pycall(ndModule[\"NodeData\"], PyCall.PyObject)"
   ]
  },
  {
   "cell_type": "code",
   "execution_count": 244,
   "metadata": {
    "collapsed": false
   },
   "outputs": [
    {
     "data": {
      "text/plain": [
       "PyObject None"
      ]
     },
     "execution_count": 244,
     "metadata": {},
     "output_type": "execute_result"
    }
   ],
   "source": [
    "pycall(ndObj[\"load\"],PyCall.PyObject, studentJSONFile)"
   ]
  },
  {
   "cell_type": "code",
   "execution_count": 245,
   "metadata": {
    "collapsed": false
   },
   "outputs": [
    {
     "data": {
      "text/plain": [
       "PyObject <module 'libpgm.graphskeleton' from '/Users/eliotpbrenner/anaconda/lib/python2.7/site-packages/libpgm/graphskeleton.pyc'>"
      ]
     },
     "execution_count": 245,
     "metadata": {},
     "output_type": "execute_result"
    }
   ],
   "source": [
    "gsModule = pyimport(\"libpgm.graphskeleton\")"
   ]
  },
  {
   "cell_type": "code",
   "execution_count": 246,
   "metadata": {
    "collapsed": false
   },
   "outputs": [
    {
     "data": {
      "text/plain": [
       "PyObject <libpgm.graphskeleton.GraphSkeleton object at 0x319067f90>"
      ]
     },
     "execution_count": 246,
     "metadata": {},
     "output_type": "execute_result"
    }
   ],
   "source": [
    "gsObj=pycall(gsModule[\"GraphSkeleton\"], PyCall.PyObject)"
   ]
  },
  {
   "cell_type": "code",
   "execution_count": 247,
   "metadata": {
    "collapsed": true
   },
   "outputs": [],
   "source": [
    "pycall(gsObj[\"load\"], PyCall.PyAny, studentJSONFile )"
   ]
  },
  {
   "cell_type": "markdown",
   "metadata": {},
   "source": [
    "dbnModule = pyimport(\"libpgm.discretebayesnetwork\")\n",
    "dbnObj = pycall(dbnModule[\"discretebayesiannetwork\"], PyCall.PyAny)\n",
    "adbn = pycall(dbnObj[\"DiscreteBayesianNetwork\"], PyCall.PyObject, skel, ndb)"
   ]
  },
  {
   "cell_type": "code",
   "execution_count": 248,
   "metadata": {
    "collapsed": false
   },
   "outputs": [
    {
     "data": {
      "text/plain": [
       "PyObject <module 'libpgm.discretebayesiannetwork' from '/Users/eliotpbrenner/anaconda/lib/python2.7/site-packages/libpgm/discretebayesiannetwork.pyc'>"
      ]
     },
     "execution_count": 248,
     "metadata": {},
     "output_type": "execute_result"
    }
   ],
   "source": [
    "dbnModule = pyimport(\"libpgm.discretebayesiannetwork\")\n"
   ]
  },
  {
   "cell_type": "code",
   "execution_count": 249,
   "metadata": {
    "collapsed": false
   },
   "outputs": [
    {
     "data": {
      "text/plain": [
       "PyObject <libpgm.discretebayesiannetwork.DiscreteBayesianNetwork object at 0x319067a10>"
      ]
     },
     "execution_count": 249,
     "metadata": {},
     "output_type": "execute_result"
    }
   ],
   "source": [
    "dbnObj = pycall(dbnModule[\"DiscreteBayesianNetwork\"], PyCall.PyAny, gsObj, ndObj)\n"
   ]
  },
  {
   "cell_type": "code",
   "execution_count": 250,
   "metadata": {
    "collapsed": false
   },
   "outputs": [
    {
     "data": {
      "text/plain": [
       "5-element Array{Any,1}:\n",
       " \"Difficulty\"  \n",
       " \"Intelligence\"\n",
       " \"Grade\"       \n",
       " \"SAT\"         \n",
       " \"Letter\"      "
      ]
     },
     "execution_count": 250,
     "metadata": {},
     "output_type": "execute_result"
    }
   ],
   "source": [
    "V = pycall(dbnObj[\"__getattribute__\"], Array, \"V\")"
   ]
  },
  {
   "cell_type": "code",
   "execution_count": 251,
   "metadata": {
    "collapsed": false
   },
   "outputs": [
    {
     "data": {
      "text/plain": [
       "4x2 Array{Any,2}:\n",
       " \"Intelligence\"  \"Grade\" \n",
       " \"Difficulty\"    \"Grade\" \n",
       " \"Intelligence\"  \"SAT\"   \n",
       " \"Grade\"         \"Letter\""
      ]
     },
     "execution_count": 251,
     "metadata": {},
     "output_type": "execute_result"
    }
   ],
   "source": [
    "E = pycall(dbnObj[\"__getattribute__\"], Array, \"E\")"
   ]
  },
  {
   "cell_type": "code",
   "execution_count": 252,
   "metadata": {
    "collapsed": false
   },
   "outputs": [
    {
     "data": {
      "image/svg+xml": [
       "<?xml version=\"1.0\" encoding=\"UTF-8\" standalone=\"no\"?>\n",
       "<!DOCTYPE svg PUBLIC \"-//W3C//DTD SVG 1.1//EN\"\n",
       " \"http://www.w3.org/Graphics/SVG/1.1/DTD/svg11.dtd\">\n",
       "<!-- Generated by graphviz version 2.36.0 (20140111.2315)\n",
       " -->\n",
       "<!-- Title: %3 Pages: 1 -->\n",
       "<svg width=\"8pt\" height=\"8pt\"\n",
       " viewBox=\"0.00 0.00 8.00 8.00\" xmlns=\"http://www.w3.org/2000/svg\" xmlns:xlink=\"http://www.w3.org/1999/xlink\">\n",
       "<g id=\"graph0\" class=\"graph\" transform=\"scale(1 1) rotate(0) translate(4 4)\">\n",
       "<title>%3</title>\n",
       "<polygon fill=\"white\" stroke=\"none\" points=\"-4,4 -4,-4 4,-4 4,4 -4,4\"/>\n",
       "</g>\n",
       "</svg>\n"
      ],
      "text/plain": [
       "PyObject <graphviz.dot.Graph object at 0x319076050>"
      ]
     },
     "execution_count": 252,
     "metadata": {},
     "output_type": "execute_result"
    }
   ],
   "source": [
    "g = graphviz.Graph(format=\"svg\")"
   ]
  },
  {
   "cell_type": "code",
   "execution_count": 253,
   "metadata": {
    "collapsed": false
   },
   "outputs": [
    {
     "data": {
      "text/plain": [
       "PyObject None"
      ]
     },
     "execution_count": 253,
     "metadata": {},
     "output_type": "execute_result"
    }
   ],
   "source": [
    "pycall(g[\"node\"], PyCall.PyObject, \"Difficulty\")\n",
    "pycall(g[\"node\"], PyCall.PyObject, \"Grade\")\n",
    "pycall(g[\"edge\"], PyCall.PyObject, \"Difficulty\", \"Grade\")"
   ]
  },
  {
   "cell_type": "code",
   "execution_count": 254,
   "metadata": {
    "collapsed": false
   },
   "outputs": [
    {
     "name": "stdout",
     "output_type": "stream",
     "text": [
      "graph {\n",
      "\tDifficulty\n",
      "\tGrade\n",
      "\t\tDifficulty -- Grade\n",
      "}"
     ]
    }
   ],
   "source": [
    "print(pycall(g[\"__getattribute__\"], ASCIIString, \"source\"))"
   ]
  },
  {
   "cell_type": "code",
   "execution_count": 255,
   "metadata": {
    "collapsed": false
   },
   "outputs": [
    {
     "data": {
      "text/plain": [
       "Dict{Any,Int64} with 5 entries:\n",
       "  \"Intelligence\" => 2\n",
       "  \"Difficulty\"   => 1\n",
       "  \"SAT\"          => 4\n",
       "  \"Grade\"        => 3\n",
       "  \"Letter\"       => 5"
      ]
     },
     "execution_count": 255,
     "metadata": {},
     "output_type": "execute_result"
    }
   ],
   "source": [
    "vertexEncodings = [v=>i for (i,v) in enumerate(V)]"
   ]
  },
  {
   "cell_type": "code",
   "execution_count": 256,
   "metadata": {
    "collapsed": false
   },
   "outputs": [
    {
     "data": {
      "text/plain": [
       "4x2 Array{Any,2}:\n",
       " \"Intelligence\"  \"Grade\" \n",
       " \"Difficulty\"    \"Grade\" \n",
       " \"Intelligence\"  \"SAT\"   \n",
       " \"Grade\"         \"Letter\""
      ]
     },
     "execution_count": 256,
     "metadata": {},
     "output_type": "execute_result"
    }
   ],
   "source": [
    "E"
   ]
  },
  {
   "cell_type": "code",
   "execution_count": 257,
   "metadata": {
    "collapsed": false
   },
   "outputs": [
    {
     "data": {
      "text/plain": [
       "4-element Array{Any,1}:\n",
       " [2,3]\n",
       " [1,3]\n",
       " [2,4]\n",
       " [3,5]"
      ]
     },
     "execution_count": 257,
     "metadata": {},
     "output_type": "execute_result"
    }
   ],
   "source": [
    "edgesEncoded = [[vertexEncodings[E[i,1]],vertexEncodings[E[i,2]]] for i in 1:size(E)[1]]"
   ]
  },
  {
   "cell_type": "code",
   "execution_count": 258,
   "metadata": {
    "collapsed": false
   },
   "outputs": [
    {
     "data": {
      "image/svg+xml": [
       "<?xml version=\"1.0\" encoding=\"UTF-8\" standalone=\"no\"?>\n",
       "<!DOCTYPE svg PUBLIC \"-//W3C//DTD SVG 1.1//EN\"\n",
       " \"http://www.w3.org/Graphics/SVG/1.1/DTD/svg11.dtd\">\n",
       "<!-- Generated by graphviz version 2.36.0 (20140111.2315)\n",
       " -->\n",
       "<!-- Title: %3 Pages: 1 -->\n",
       "<svg width=\"8pt\" height=\"8pt\"\n",
       " viewBox=\"0.00 0.00 8.00 8.00\" xmlns=\"http://www.w3.org/2000/svg\" xmlns:xlink=\"http://www.w3.org/1999/xlink\">\n",
       "<g id=\"graph0\" class=\"graph\" transform=\"scale(1 1) rotate(0) translate(4 4)\">\n",
       "<title>%3</title>\n",
       "<polygon fill=\"white\" stroke=\"none\" points=\"-4,4 -4,-4 4,-4 4,4 -4,4\"/>\n",
       "</g>\n",
       "</svg>\n"
      ],
      "text/plain": [
       "PyObject <graphviz.dot.Digraph object at 0x319076550>"
      ]
     },
     "execution_count": 258,
     "metadata": {},
     "output_type": "execute_result"
    }
   ],
   "source": [
    "dg = graphviz.Digraph()"
   ]
  },
  {
   "cell_type": "code",
   "execution_count": 259,
   "metadata": {
    "collapsed": true
   },
   "outputs": [],
   "source": [
    "for (v,i) in vertexEncodings\n",
    "    pycall(dg[\"node\"], PyCall.PyObject, string(uppercase(Char(i+96))), v)\n",
    "end"
   ]
  },
  {
   "cell_type": "code",
   "execution_count": 260,
   "metadata": {
    "collapsed": false
   },
   "outputs": [],
   "source": [
    "for rownum in 1:size(edgesEncoded)[1]\n",
    "    string(uppercase(Char(edgesEncoded[rownum][1]+96)))*string(uppercase(Char(edgesEncoded[rownum][2]+96))) #*string(uppercase(Char(edgesEncoded[rownum][2]+96)))\n",
    "    pycall(dg[\"edges\"], PyCall.PyObject, [string(uppercase(Char(edgesEncoded[rownum][1]+96)))*string(uppercase(Char(edgesEncoded[rownum][2]+96)))])\n",
    "end"
   ]
  },
  {
   "cell_type": "code",
   "execution_count": 261,
   "metadata": {
    "collapsed": false
   },
   "outputs": [
    {
     "data": {
      "image/svg+xml": [
       "<?xml version=\"1.0\" encoding=\"UTF-8\" standalone=\"no\"?>\n",
       "<!DOCTYPE svg PUBLIC \"-//W3C//DTD SVG 1.1//EN\"\n",
       " \"http://www.w3.org/Graphics/SVG/1.1/DTD/svg11.dtd\">\n",
       "<!-- Generated by graphviz version 2.36.0 (20140111.2315)\n",
       " -->\n",
       "<!-- Title: %3 Pages: 1 -->\n",
       "<svg width=\"225pt\" height=\"188pt\"\n",
       " viewBox=\"0.00 0.00 225.00 188.00\" xmlns=\"http://www.w3.org/2000/svg\" xmlns:xlink=\"http://www.w3.org/1999/xlink\">\n",
       "<g id=\"graph0\" class=\"graph\" transform=\"scale(1 1) rotate(0) translate(4 184)\">\n",
       "<title>%3</title>\n",
       "<polygon fill=\"white\" stroke=\"none\" points=\"-4,4 -4,-184 221,-184 221,4 -4,4\"/>\n",
       "<!-- B -->\n",
       "<g id=\"node1\" class=\"node\"><title>B</title>\n",
       "<ellipse fill=\"none\" stroke=\"black\" cx=\"53\" cy=\"-162\" rx=\"53.4184\" ry=\"18\"/>\n",
       "<text text-anchor=\"middle\" x=\"53\" y=\"-158.3\" font-family=\"Times,serif\" font-size=\"14.00\">Intelligence</text>\n",
       "</g>\n",
       "<!-- D -->\n",
       "<g id=\"node3\" class=\"node\"><title>D</title>\n",
       "<ellipse fill=\"none\" stroke=\"black\" cx=\"53\" cy=\"-90\" rx=\"27.4223\" ry=\"18\"/>\n",
       "<text text-anchor=\"middle\" x=\"53\" y=\"-86.3\" font-family=\"Times,serif\" font-size=\"14.00\">SAT</text>\n",
       "</g>\n",
       "<!-- B&#45;&gt;D -->\n",
       "<g id=\"edge3\" class=\"edge\"><title>B&#45;&gt;D</title>\n",
       "<path fill=\"none\" stroke=\"black\" d=\"M53,-143.697C53,-135.983 53,-126.712 53,-118.112\"/>\n",
       "<polygon fill=\"black\" stroke=\"black\" points=\"56.5001,-118.104 53,-108.104 49.5001,-118.104 56.5001,-118.104\"/>\n",
       "</g>\n",
       "<!-- C -->\n",
       "<g id=\"node4\" class=\"node\"><title>C</title>\n",
       "<ellipse fill=\"none\" stroke=\"black\" cx=\"151\" cy=\"-90\" rx=\"33.2209\" ry=\"18\"/>\n",
       "<text text-anchor=\"middle\" x=\"151\" y=\"-86.3\" font-family=\"Times,serif\" font-size=\"14.00\">Grade</text>\n",
       "</g>\n",
       "<!-- B&#45;&gt;C -->\n",
       "<g id=\"edge1\" class=\"edge\"><title>B&#45;&gt;C</title>\n",
       "<path fill=\"none\" stroke=\"black\" d=\"M74.7494,-145.465C89.1182,-135.201 108.071,-121.664 123.486,-110.653\"/>\n",
       "<polygon fill=\"black\" stroke=\"black\" points=\"125.532,-113.493 131.635,-104.832 121.463,-107.797 125.532,-113.493\"/>\n",
       "</g>\n",
       "<!-- A -->\n",
       "<g id=\"node2\" class=\"node\"><title>A</title>\n",
       "<ellipse fill=\"none\" stroke=\"black\" cx=\"171\" cy=\"-162\" rx=\"46.2191\" ry=\"18\"/>\n",
       "<text text-anchor=\"middle\" x=\"171\" y=\"-158.3\" font-family=\"Times,serif\" font-size=\"14.00\">Difficulty</text>\n",
       "</g>\n",
       "<!-- A&#45;&gt;C -->\n",
       "<g id=\"edge2\" class=\"edge\"><title>A&#45;&gt;C</title>\n",
       "<path fill=\"none\" stroke=\"black\" d=\"M166.159,-144.055C163.932,-136.261 161.235,-126.822 158.737,-118.079\"/>\n",
       "<polygon fill=\"black\" stroke=\"black\" points=\"162.048,-116.929 155.936,-108.275 155.318,-118.852 162.048,-116.929\"/>\n",
       "</g>\n",
       "<!-- E -->\n",
       "<g id=\"node5\" class=\"node\"><title>E</title>\n",
       "<ellipse fill=\"none\" stroke=\"black\" cx=\"151\" cy=\"-18\" rx=\"32.2457\" ry=\"18\"/>\n",
       "<text text-anchor=\"middle\" x=\"151\" y=\"-14.3\" font-family=\"Times,serif\" font-size=\"14.00\">Letter</text>\n",
       "</g>\n",
       "<!-- C&#45;&gt;E -->\n",
       "<g id=\"edge4\" class=\"edge\"><title>C&#45;&gt;E</title>\n",
       "<path fill=\"none\" stroke=\"black\" d=\"M151,-71.6966C151,-63.9827 151,-54.7125 151,-46.1124\"/>\n",
       "<polygon fill=\"black\" stroke=\"black\" points=\"154.5,-46.1043 151,-36.1043 147.5,-46.1044 154.5,-46.1043\"/>\n",
       "</g>\n",
       "</g>\n",
       "</svg>\n"
      ],
      "text/plain": [
       "PyObject <graphviz.dot.Digraph object at 0x319076550>"
      ]
     },
     "execution_count": 261,
     "metadata": {},
     "output_type": "execute_result"
    }
   ],
   "source": [
    "dg"
   ]
  },
  {
   "cell_type": "code",
   "execution_count": 268,
   "metadata": {
    "collapsed": false
   },
   "outputs": [
    {
     "name": "stdout",
     "output_type": "stream",
     "text": [
      "23"
     ]
    },
    {
     "data": {
      "text/plain": [
       "([2,5],3.9410283949802694e-5)"
      ]
     },
     "execution_count": 268,
     "metadata": {},
     "output_type": "execute_result"
    },
    {
     "name": "stdout",
     "output_type": "stream",
     "text": [
      "[0.06459408432976715 0.18308370044052863 0.47906859660163625\n",
      " 0.12203901825047199 0.08075519194461926 0.07045940843297671]23[0.14887583552764838 0.03166565390588076 0.01782458983188171\n",
      " 0.5946593747890082 0.13466342583215177 0.0723111201134292]23[0.3191417368284867 0.2838319300969328 0.0059712187257419235\n",
      " 0.32883501522660774 0.06140403256304612 0.0008160665591847296]23[0.10344244269643914 0.05438551974964053 0.0393301192590713\n",
      " 0.40336631988496996 0.2432546730948152 0.15622092531506385]23[0.1743801652892562 0.33478587528174303 0.012997746055597295\n",
      " 0.32922614575507136 0.1464312546957175 0.0021788129226145755]23[0.17323455924253714 0.0245474071801166 0.0003068425897514575\n",
      " 0.6961381668346995 0.10480866172796213 0.0009643624249331521]"
     ]
    }
   ],
   "source": [
    "epsilon(bn, \"SAT\", \"Grade\", 2)"
   ]
  },
  {
   "cell_type": "code",
   "execution_count": 263,
   "metadata": {
    "collapsed": false
   },
   "outputs": [],
   "source": [
    "type ModelWithBN\n",
    "    m::model\n",
    "    vertexEncodings::Dict{ASCIIString,Int64}\n",
    "    edgesEncoded::Array{Array{Int64,1},1}\n",
    "end"
   ]
  },
  {
   "cell_type": "code",
   "execution_count": 273,
   "metadata": {
    "collapsed": false
   },
   "outputs": [
    {
     "data": {
      "text/plain": [
       "epsilon (generic function with 2 methods)"
      ]
     },
     "execution_count": 273,
     "metadata": {},
     "output_type": "execute_result"
    }
   ],
   "source": [
    "function epsilon(BN::ModelWithBN, node_i::ASCIIString, node_j::ASCIIString, d::Int)\n",
    "    epsilon(BN.m, BN.vertexEncodings[node_i], BN.vertexEncodings[node_j],d)\n",
    "end"
   ]
  },
  {
   "cell_type": "code",
   "execution_count": 265,
   "metadata": {
    "collapsed": false
   },
   "outputs": [
    {
     "data": {
      "text/plain": [
       "ModelWithBN(model(5,[2,2,3,2,2],100000x5 Array{Int64,2}:\n",
       " 0  0  1  0  0\n",
       " 0  0  0  1  1\n",
       " 1  0  2  0  0\n",
       " 0  0  2  0  0\n",
       " 1  1  0  1  1\n",
       " 0  0  1  0  0\n",
       " 0  0  2  0  0\n",
       " 0  0  0  0  1\n",
       " 0  0  1  0  1\n",
       " 0  0  1  0  0\n",
       " 0  0  1  0  0\n",
       " 0  1  0  1  1\n",
       " 0  0  0  0  1\n",
       " ⋮            \n",
       " 0  0  1  0  0\n",
       " 1  1  2  1  0\n",
       " 0  0  1  0  1\n",
       " 0  0  0  0  1\n",
       " 0  0  2  0  0\n",
       " 0  0  1  0  0\n",
       " 0  1  0  0  1\n",
       " 1  1  1  1  0\n",
       " 0  1  0  0  0\n",
       " 1  0  1  1  0\n",
       " 1  1  0  1  1\n",
       " 0  0  2  0  0),Dict(\"Intelligence\"=>2,\"Difficulty\"=>1,\"SAT\"=>4,\"Grade\"=>3,\"Letter\"=>5),[[2,3],[1,3],[2,4],[3,5]])"
      ]
     },
     "execution_count": 265,
     "metadata": {},
     "output_type": "execute_result"
    }
   ],
   "source": [
    "bn = ModelWithBN(m,vertexEncodings, edgesEncoded)"
   ]
  },
  {
   "cell_type": "code",
   "execution_count": 286,
   "metadata": {
    "collapsed": false
   },
   "outputs": [
    {
     "data": {
      "text/plain": [
       "computeEpsilonArray (generic function with 1 method)"
      ]
     },
     "execution_count": 286,
     "metadata": {},
     "output_type": "execute_result"
    }
   ],
   "source": [
    "function computeEpsilonArray(BN::ModelWithBN, d::Int)\n",
    "    for i in 1:1 #length(BN.edgesEncoded)\n",
    "        return [epsilon(BN.m,BN.edgesEncoded[i][1], BN.edgesEncoded[i][2],d ) for i in 1:length(BN.edgesEncoded)]\n",
    "    end\n",
    "end"
   ]
  },
  {
   "cell_type": "code",
   "execution_count": 289,
   "metadata": {
    "collapsed": true
   },
   "outputs": [
    {
     "name": "stdout",
     "output_type": "stream",
     "text": [
      "23[0.0357960981749528 0.175254877281309 0.4913278791692889\n",
      " 0.15083700440528636 0.0885840151038389 0.0582001258653241]23[0.02612721860875317 0.04292066291845809 0.05835446294050638\n",
      " 0.6473009223532871 0.14658435306654907 0.07871238011244626]23[0.25321948209629586 0.2864990744610975 0.006210067474771601\n",
      " 0.3947572699587986 0.05873688819888139 0.0005772178101550526]23[0.007277752187931828 0.030584983878397053 0.08770152003684938\n",
      " 0.4393367111929986 0.2649470290188853 0.17015200368493782]23[0.09827197595792637 0.32096168294515404 0.013448534936138241\n",
      " 0.4053343350864012 0.16025544703230654 0.0017280240420736287]23[0.032574947829185116 0.03532345905227261 0.0009670687636789332\n",
      " 0.8083167913676388 0.12169796915559628 0.0011197638316282385]23[0.5412531226790899 0.047532239551684556 0.012085612045101614\n",
      " 0.20228208763756667 0.11879684018634798 0.07805009790020931]23[0.4952779921361114 0.07162018153088598 0.0342115900488737\n",
      " 0.17815014882592878 0.11788483445412119 0.10285525300407894]23[0.5145598216596007 0.21775044286538883 0.0027666646762604247\n",
      " 0.1334169303954937 0.12748551979459008 0.0040206206086662285]23[0.5409753221595216 0.046871051966647016 0.012423144950728543\n",
      " 0.2008338246441506 0.12111513518066201 0.07778152109829024]23[0.6328847586902205 0.035856748345241746 0.00026300793407267787\n",
      " 0.23648796738701616 0.09349932056283698 0.0010081970806119318]23[0.6178551432788721 0.057820532396803584 0.0006107802717972209\n",
      " 0.22303659591795186 0.09920089581106531 0.0014760523235099506]22[0.6680679672750157 0.034310887350534926\n",
      " 0.0586784140969163 0.23894273127753304]22[0.7897623400365631 0.04028836535476527\n",
      " 0.032354868752371424 0.13759442585630022]22"
     ]
    },
    {
     "data": {
      "text/plain": [
       "4-element Array{Tuple{Union{Array{Any,1},Array{Int64,1}},Float64},1}:\n",
       " ([4,5],0.027708964861958035)\n",
       " ([5],0.016717629711182107)  \n",
       " ([3],0.22425733287320757)   \n",
       " ([2],0.1807663791582597)    "
      ]
     },
     "execution_count": 289,
     "metadata": {},
     "output_type": "execute_result"
    },
    {
     "name": "stdout",
     "output_type": "stream",
     "text": [
      "[0.8779767875053732 0.045507952428714714\n",
      " 0.015131107608539906 0.06138415245737212]22[0.5189984275790689 0.026930196453096078\n",
      " 0.08994645807209252 0.36412491789574253]22[0.6325732277454441 0.031676366758897054\n",
      " 0.061349107909550615 0.2744012975861082]22[0.8504809894640403 0.043609711406321576\n",
      " 0.02130096197892808 0.08460833715071003]22[0.41111945905334335 0.02156273478587528\n",
      " 0.1110443275732532 0.45627347858752815]22[0.7898529835687518 0.04001153070049005\n",
      " 0.03228596137215336 0.13784952435860479]22[0.8592375366568915 0.05571847507331378\n",
      " 0.020527859237536656 0.06451612903225806]32[0.0178980490874764 0.16873505349276274\n",
      " 0.10260541220893644 0.16123348017621145\n",
      " 0.5444430459408433 0.0050849590937696665]32[0.07399905475659982 0.6695361555600567\n",
      " 0.06670717709810275 0.09962190263992979\n",
      " 0.08915670785227196 0.0009790020930389575]32[0.066328592951898 0.6070995480101422\n",
      " 0.07614008010877155 0.11336493587623563\n",
      " 0.13556021019365744 0.0015066328592951898]32[0.050494798274549606 0.4563139643068595\n",
      " 0.1172291296625222 0.1804110631819335\n",
      " 0.1936056838365897 0.0019453607375454621]32[0.0429295255642561 0.40368493781667436\n",
      " 0.11598341777982496 0.17954859511745738\n",
      " 0.2551819438046983 0.002671579917088899]32[0.07302282489682473 0.6687863219068475\n",
      " 0.06729554451276004 0.10069064263454898\n",
      " 0.08927819422218479 0.0009264718268339931]"
     ]
    }
   ],
   "source": [
    "a=computeEpsilonArray(bn,2)"
   ]
  },
  {
   "cell_type": "code",
   "execution_count": 284,
   "metadata": {
    "collapsed": false
   },
   "outputs": [
    {
     "data": {
      "text/plain": [
       "0.0"
      ]
     },
     "execution_count": 284,
     "metadata": {},
     "output_type": "execute_result"
    }
   ],
   "source": [
    "epsilonArray[1]"
   ]
  },
  {
   "cell_type": "code",
   "execution_count": 290,
   "metadata": {
    "collapsed": false
   },
   "outputs": [
    {
     "data": {
      "text/plain": [
       "4-element Array{Tuple{Union{Array{Any,1},Array{Int64,1}},Float64},1}:\n",
       " ([4,5],0.027708964861958035)\n",
       " ([5],0.016717629711182107)  \n",
       " ([3],0.22425733287320757)   \n",
       " ([2],0.1807663791582597)    "
      ]
     },
     "execution_count": 290,
     "metadata": {},
     "output_type": "execute_result"
    }
   ],
   "source": [
    "a"
   ]
  },
  {
   "cell_type": "code",
   "execution_count": null,
   "metadata": {
    "collapsed": true
   },
   "outputs": [],
   "source": []
  }
 ],
 "metadata": {
  "kernelspec": {
   "display_name": "Julia 0.4.0",
   "language": "julia",
   "name": "julia-0.4"
  },
  "language_info": {
   "file_extension": ".jl",
   "mimetype": "application/julia",
   "name": "julia",
   "version": "0.4.0"
  }
 },
 "nbformat": 4,
 "nbformat_minor": 0
}
