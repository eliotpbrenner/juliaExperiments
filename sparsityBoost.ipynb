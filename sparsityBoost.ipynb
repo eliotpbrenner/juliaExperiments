{
 "cells": [
  {
   "cell_type": "code",
   "execution_count": 17,
   "metadata": {
    "collapsed": false
   },
   "outputs": [
    {
     "data": {
      "text/plain": [
       "100000"
      ]
     },
     "execution_count": 17,
     "metadata": {},
     "output_type": "execute_result"
    }
   ],
   "source": [
    "#PARAMETERS\n",
    "testDataFile=\"/Users/eliotpbrenner/PycharmProjects/SparsityBoost/data/synthetic_examples/experiments/0/alarm1000.dat\"\n",
    "numTestVariable=37\n",
    "numTestDataPts=1000\n",
    "studentJSONFile = \"student.txt\"\n",
    "studentDataFile=\"student_100kSamples.csv\"\n",
    "studentNValsFile=\"student_nvals.csv\"\n",
    "numStudentVariable=5\n",
    "numStudentDataPts=100000"
   ]
  },
  {
   "cell_type": "code",
   "execution_count": 18,
   "metadata": {
    "collapsed": false
   },
   "outputs": [
    {
     "name": "stderr",
     "output_type": "stream",
     "text": [
      "INFO: Updating METADATA...\n",
      "INFO: Computing changes...\n",
      "INFO: No packages to install, update or remove\n"
     ]
    }
   ],
   "source": [
    "Pkg.update()"
   ]
  },
  {
   "cell_type": "code",
   "execution_count": 19,
   "metadata": {
    "collapsed": false
   },
   "outputs": [],
   "source": [
    "# Imports\n",
    "using Base.Test\n",
    "using Iterators"
   ]
  },
  {
   "cell_type": "code",
   "execution_count": 20,
   "metadata": {
    "collapsed": true
   },
   "outputs": [],
   "source": [
    "type model\n",
    "  nodes::Int64\n",
    "  nval::Array{Int64,1}\n",
    "  dataArray::Array{Int64,2}\n",
    "end"
   ]
  },
  {
   "cell_type": "code",
   "execution_count": 21,
   "metadata": {
    "collapsed": false
   },
   "outputs": [],
   "source": [
    "type jointDistWithMarginals\n",
    "  pdist::Array{Float64,2}\n",
    "  p_A::Array{Float64,1}\n",
    "  p_B::Array{Float64,1}\n",
    "end"
   ]
  },
  {
   "cell_type": "code",
   "execution_count": 22,
   "metadata": {
    "collapsed": false
   },
   "outputs": [
    {
     "data": {
      "text/plain": [
       "jointDistWithMarginals"
      ]
     },
     "execution_count": 22,
     "metadata": {},
     "output_type": "execute_result"
    }
   ],
   "source": [
    "# Constructor which calculates the marginals\n",
    "jointDistWithMarginals(pdist::Array{Float64,2}) = jointDistWithMarginals(pdist, vec(sum(pdist,1)), vec(sum(pdist,2)))"
   ]
  },
  {
   "cell_type": "code",
   "execution_count": 23,
   "metadata": {
    "collapsed": false
   },
   "outputs": [
    {
     "data": {
      "text/plain": [
       "jointDistWithMarginals(2x2 Array{Float64,2}:\n",
       " 0.25  0.25\n",
       " 0.25  0.25,[0.5,0.5],[0.5,0.5])"
      ]
     },
     "execution_count": 23,
     "metadata": {},
     "output_type": "execute_result"
    }
   ],
   "source": [
    "jointDistWithMarginals([[0.25 0.25]; [ 0.25 0.25]])"
   ]
  },
  {
   "cell_type": "code",
   "execution_count": 24,
   "metadata": {
    "collapsed": false
   },
   "outputs": [
    {
     "data": {
      "text/plain": [
       "readDataBinary (generic function with 1 method)"
      ]
     },
     "execution_count": 24,
     "metadata": {},
     "output_type": "execute_result"
    }
   ],
   "source": [
    "function readDataBinary(filePath::AbstractString)\n",
    "  dataArray = readdlm(filePath, ' ', Int);\n",
    "  nodes=size(dataArray)[2];\n",
    "  nval=2*ones(Int, nodes)\n",
    "  theModel = model(nodes,nval,dataArray);\n",
    "end\n"
   ]
  },
  {
   "cell_type": "code",
   "execution_count": 25,
   "metadata": {
    "collapsed": false
   },
   "outputs": [
    {
     "data": {
      "text/plain": [
       "readData (generic function with 1 method)"
      ]
     },
     "execution_count": 25,
     "metadata": {},
     "output_type": "execute_result"
    }
   ],
   "source": [
    "function readData(dataFilePath::AbstractString, nvalsFilePath::AbstractString)\n",
    "  dataArray = readdlm(dataFilePath, ',', Int);\n",
    "  nodes=size(dataArray)[2];\n",
    "    nval=vec(readdlm(nvalsFilePath, ',', Int));   #2*ones(Int, nodes)\n",
    "  theModel = model(nodes,nval,dataArray);\n",
    "end"
   ]
  },
  {
   "cell_type": "code",
   "execution_count": 26,
   "metadata": {
    "collapsed": false
   },
   "outputs": [
    {
     "data": {
      "text/plain": [
       "model(5,[2,2,3,2,2],100000x5 Array{Int64,2}:\n",
       " 0  0  1  0  0\n",
       " 0  0  0  1  1\n",
       " 1  0  2  0  0\n",
       " 0  0  2  0  0\n",
       " 1  1  0  1  1\n",
       " 0  0  1  0  0\n",
       " 0  0  2  0  0\n",
       " 0  0  0  0  1\n",
       " 0  0  1  0  1\n",
       " 0  0  1  0  0\n",
       " 0  0  1  0  0\n",
       " 0  1  0  1  1\n",
       " 0  0  0  0  1\n",
       " ⋮            \n",
       " 0  0  1  0  0\n",
       " 1  1  2  1  0\n",
       " 0  0  1  0  1\n",
       " 0  0  0  0  1\n",
       " 0  0  2  0  0\n",
       " 0  0  1  0  0\n",
       " 0  1  0  0  1\n",
       " 1  1  1  1  0\n",
       " 0  1  0  0  0\n",
       " 1  0  1  1  0\n",
       " 1  1  0  1  1\n",
       " 0  0  2  0  0)"
      ]
     },
     "execution_count": 26,
     "metadata": {},
     "output_type": "execute_result"
    }
   ],
   "source": [
    "m=readData(studentDataFile, studentNValsFile)"
   ]
  },
  {
   "cell_type": "code",
   "execution_count": 27,
   "metadata": {
    "collapsed": false
   },
   "outputs": [],
   "source": [
    "# test readData function\n",
    "m=readData(studentDataFile, studentNValsFile)\n",
    "@test size(m.dataArray) == (numStudentDataPts, numStudentVariable)"
   ]
  },
  {
   "cell_type": "code",
   "execution_count": 28,
   "metadata": {
    "collapsed": false
   },
   "outputs": [
    {
     "data": {
      "text/plain": [
       "verify (generic function with 1 method)"
      ]
     },
     "execution_count": 28,
     "metadata": {},
     "output_type": "execute_result"
    }
   ],
   "source": [
    "function verify(aJointDistributionWithMarginals::jointDistWithMarginals)\n",
    "  sumA=sum(aJointDistributionWithMarginals.pdist,1)\n",
    "  sumB=sum(aJointDistributionWithMarginals.pdist,2)\n",
    "  @test_approx_eq(transpose(sumA),aJointDistributionWithMarginals.p_A)\n",
    "  @test_approx_eq(sumB,aJointDistributionWithMarginals.p_B)\n",
    "  @test_approx_eq(sum(sumA),1.0)\n",
    "  return true\n",
    "end"
   ]
  },
  {
   "cell_type": "code",
   "execution_count": 29,
   "metadata": {
    "collapsed": false
   },
   "outputs": [],
   "source": [
    "goodDist=jointDistWithMarginals([[0.25 0.25]; [ 0.25 0.25]], [0.5; 0.5], [0.5; 0.5])\n",
    "@test verify(goodDist) == true"
   ]
  },
  {
   "cell_type": "code",
   "execution_count": 30,
   "metadata": {
    "collapsed": false
   },
   "outputs": [
    {
     "data": {
      "text/plain": [
       "ErrorException(\"assertion failed: |transpose(sumA) - aJointDistributionWithMarginals.p_A| <= 2.220446049250313e-12\\n  transpose(sumA) = [0.5\\n 0.5]\\n  aJointDistributionWithMarginals.p_A = [0.6,0.4]\\n  difference = 0.09999999999999998 > 2.220446049250313e-12\")"
      ]
     },
     "execution_count": 30,
     "metadata": {},
     "output_type": "execute_result"
    }
   ],
   "source": [
    "#TODO: determine why this this test fails instead of succeeding!\n",
    "badDist = jointDistWithMarginals([[0.25 0.25]; [ 0.25 0.25]], [0.6; 0.4], [0.5; 0.5])\n",
    "@test_throws( ErrorException, verify(badDist))"
   ]
  },
  {
   "cell_type": "code",
   "execution_count": 31,
   "metadata": {
    "collapsed": false
   },
   "outputs": [
    {
     "data": {
      "text/plain": [
       "MI_term (generic function with 1 method)"
      ]
     },
     "execution_count": 31,
     "metadata": {},
     "output_type": "execute_result"
    }
   ],
   "source": [
    "function MI_term(i::Int, j::Int, dist::jointDistWithMarginals)\n",
    "  return dist.pdist[i,j]*log(dist.pdist[i,j]/(dist.p_A[i]*dist.p_B[j])  )\n",
    "end"
   ]
  },
  {
   "cell_type": "code",
   "execution_count": 32,
   "metadata": {
    "collapsed": false
   },
   "outputs": [
    {
     "data": {
      "text/plain": [
       "MI (generic function with 1 method)"
      ]
     },
     "execution_count": 32,
     "metadata": {},
     "output_type": "execute_result"
    }
   ],
   "source": [
    "function MI(dist::jointDistWithMarginals)\n",
    "  (a,b)=size(dist.pdist)\n",
    "  return sum([(MI_term(i,j,dist)) for i=1:a, j=1:b])\n",
    "end"
   ]
  },
  {
   "cell_type": "code",
   "execution_count": 33,
   "metadata": {
    "collapsed": false
   },
   "outputs": [
    {
     "data": {
      "text/plain": [
       "0.0"
      ]
     },
     "execution_count": 33,
     "metadata": {},
     "output_type": "execute_result"
    }
   ],
   "source": [
    "MI_term(1,1,goodDist)"
   ]
  },
  {
   "cell_type": "code",
   "execution_count": 34,
   "metadata": {
    "collapsed": false
   },
   "outputs": [],
   "source": [
    "@test_approx_eq(MI(goodDist),0)"
   ]
  },
  {
   "cell_type": "code",
   "execution_count": 35,
   "metadata": {
    "collapsed": false
   },
   "outputs": [],
   "source": [
    "t=0.01\n",
    "anotherDist=jointDistWithMarginals([[0.25+t 0.25-t]; [ 0.25-t 0.25+t]], [0.5; 0.5], [0.5; 0.5])\n",
    "verify(anotherDist)\n",
    "@test_approx_eq(MI(anotherDist), 0.0008002134699838133)"
   ]
  },
  {
   "cell_type": "code",
   "execution_count": 36,
   "metadata": {
    "collapsed": false
   },
   "outputs": [
    {
     "data": {
      "text/plain": [
       "testNotInDict (generic function with 1 method)"
      ]
     },
     "execution_count": 36,
     "metadata": {},
     "output_type": "execute_result"
    }
   ],
   "source": [
    "testNotInDict(elt::Int, SToVal::Dict) = try\n",
    "    \"\"\"TODO: figure out how to propagate y up the call stack if it's not a KeyError\"\"\"\n",
    "    x=SToVal[elt] \n",
    "    warn(\"$elt is in $SToVal with value $x\")\n",
    "    throw(DomainError())\n",
    "  catch y\n",
    "    if isa(y, KeyError)\n",
    "      return true\n",
    "    else\n",
    "      return y\n",
    "    end\n",
    "  end"
   ]
  },
  {
   "cell_type": "code",
   "execution_count": 37,
   "metadata": {
    "collapsed": false
   },
   "outputs": [
    {
     "data": {
      "text/plain": [
       "Dict{Int64,Int64} with 2 entries:\n",
       "  3 => 4\n",
       "  1 => 2"
      ]
     },
     "execution_count": 37,
     "metadata": {},
     "output_type": "execute_result"
    }
   ],
   "source": [
    "S=Dict(1=>2, 3=>4)"
   ]
  },
  {
   "cell_type": "code",
   "execution_count": 38,
   "metadata": {
    "collapsed": false
   },
   "outputs": [
    {
     "name": "stderr",
     "output_type": "stream",
     "text": [
      "WARNING: 1 is in Dict(3=>4,1=>2) with value 2\n"
     ]
    },
    {
     "data": {
      "text/plain": [
       "DomainError()"
      ]
     },
     "execution_count": 38,
     "metadata": {},
     "output_type": "execute_result"
    }
   ],
   "source": [
    "testNotInDict(1,S)"
   ]
  },
  {
   "cell_type": "code",
   "execution_count": 39,
   "metadata": {
    "collapsed": false
   },
   "outputs": [
    {
     "data": {
      "text/plain": [
       "conditionalDist (generic function with 1 method)"
      ]
     },
     "execution_count": 39,
     "metadata": {},
     "output_type": "execute_result"
    }
   ],
   "source": [
    "function conditionalDist(m::model,i::Int,j::Int,SToVal::Dict)\n",
    "  \"\"\"\n",
    "  TODO: that S is a dict of integers and that both are valid for the model\n",
    "  TODO: vectorize the computation of the pDist\n",
    "  \"\"\"\n",
    "  @test i!=j\n",
    "  @test testNotInDict(i, SToVal) == true\n",
    "  @test testNotInDict(j, SToVal) ==true\n",
    "  selectedPoints = m.dataArray[reduce(&,[m.dataArray[:,condVar] .==SToVal[condVar] for condVar in keys(SToVal)]),:]\n",
    "  numSelectedPoints = size(selectedPoints)[1]\n",
    "  pDist = zeros(m.nval[i], m.nval[j])\n",
    "  for k = 1:m.nval[i]\n",
    "      for l = 1:m.nval[j]\n",
    "          pDist[k,l] = size(selectedPoints[(selectedPoints[:,i] .==k-1)&(selectedPoints[:,j] .==l-1), :])[1]/numSelectedPoints\n",
    "    end\n",
    "  end\n",
    "    jd = jointDistWithMarginals(pDist)\n",
    "    verify(jd)\n",
    "    return jd\n",
    "end"
   ]
  },
  {
   "cell_type": "code",
   "execution_count": 40,
   "metadata": {
    "collapsed": false
   },
   "outputs": [
    {
     "data": {
      "text/plain": [
       "jointDistWithMarginals(2x2 Array{Float64,2}:\n",
       " 0.0344865   0.700971\n",
       " 0.00431082  0.260231,[0.03879733711666485,0.9612026628833351],[0.7354578194914329,0.2645421805085671])"
      ]
     },
     "execution_count": 40,
     "metadata": {},
     "output_type": "execute_result"
    }
   ],
   "source": [
    "SToVal = Dict(3=>0, 4=>1)\n",
    "cd = conditionalDist(m, 1, 2, SToVal)"
   ]
  },
  {
   "cell_type": "code",
   "execution_count": 41,
   "metadata": {
    "collapsed": false
   },
   "outputs": [
    {
     "data": {
      "text/plain": [
       "ErrorException(\"test failed: 1 != 1\\n in expression: i != j\")"
      ]
     },
     "execution_count": 41,
     "metadata": {},
     "output_type": "execute_result"
    }
   ],
   "source": [
    "@test_throws(ErrorException,conditionalDist(m, 1, 1, SToVal))"
   ]
  },
  {
   "cell_type": "code",
   "execution_count": 42,
   "metadata": {
    "collapsed": false
   },
   "outputs": [
    {
     "name": "stderr",
     "output_type": "stream",
     "text": [
      "WARNING: 3 is in Dict(4=>1,3=>0) with value 0\n"
     ]
    },
    {
     "ename": "LoadError",
     "evalue": "LoadError: test failed: DomainError() == true\n in expression: testNotInDict(i,SToVal) == true\nwhile loading In[42], in expression starting on line 1",
     "output_type": "error",
     "traceback": [
      "LoadError: test failed: DomainError() == true\n in expression: testNotInDict(i,SToVal) == true\nwhile loading In[42], in expression starting on line 1",
      "",
      " in error at /Applications/Julia-0.4.0.app/Contents/Resources/julia/lib/julia/sys.dylib",
      " in default_handler at test.jl:30",
      " in do_test at test.jl:53",
      " in conditionalDist at In[39]:7"
     ]
    }
   ],
   "source": [
    "conditionalDist(m, 3, 1, SToVal)"
   ]
  },
  {
   "cell_type": "code",
   "execution_count": 43,
   "metadata": {
    "collapsed": false
   },
   "outputs": [
    {
     "ename": "LoadError",
     "evalue": "LoadError: test failed: ErrorException(\"test failed: DomainError() == true\\n in expression: testNotInDict(i,SToVal) == true\") was thrown instead of DomainError\n in expression: conditionalDist(m,3,1,S)\nwhile loading In[43], in expression starting on line 2",
     "output_type": "error",
     "traceback": [
      "LoadError: test failed: ErrorException(\"test failed: DomainError() == true\\n in expression: testNotInDict(i,SToVal) == true\") was thrown instead of DomainError\n in expression: conditionalDist(m,3,1,S)\nwhile loading In[43], in expression starting on line 2",
      "",
      " in error at /Applications/Julia-0.4.0.app/Contents/Resources/julia/lib/julia/sys.dylib",
      " in default_handler at test.jl:30",
      " in do_test_throws at test.jl:75"
     ]
    }
   ],
   "source": [
    "#TODO: determine why this test is failing\n",
    "@test_throws(DomainError, conditionalDist(m, 3, 1, S))"
   ]
  },
  {
   "cell_type": "code",
   "execution_count": 44,
   "metadata": {
    "collapsed": false
   },
   "outputs": [
    {
     "ename": "LoadError",
     "evalue": "LoadError: test failed: DomainError() == true\n in expression: testNotInDict(i,SToVal) == true\nwhile loading In[44], in expression starting on line 1",
     "output_type": "error",
     "traceback": [
      "LoadError: test failed: DomainError() == true\n in expression: testNotInDict(i,SToVal) == true\nwhile loading In[44], in expression starting on line 1",
      "",
      " in error at /Applications/Julia-0.4.0.app/Contents/Resources/julia/lib/julia/sys.dylib",
      " in default_handler at test.jl:30",
      " in do_test at test.jl:53",
      " in conditionalDist at In[39]:7"
     ]
    }
   ],
   "source": [
    "conditionalDist(m, 3, 1, S)"
   ]
  },
  {
   "cell_type": "code",
   "execution_count": 45,
   "metadata": {
    "collapsed": false
   },
   "outputs": [
    {
     "data": {
      "text/plain": [
       "MI (generic function with 2 methods)"
      ]
     },
     "execution_count": 45,
     "metadata": {},
     "output_type": "execute_result"
    }
   ],
   "source": [
    "function MI(m::model,i::Int,j::Int,SToVal::Dict)\n",
    "  \"\"\"\n",
    "  TODO: test\n",
    "  \"\"\"\n",
    "  MI(conditionalDist(m::model,i::Int,j::Int,SToVal::Dict))\n",
    "end"
   ]
  },
  {
   "cell_type": "code",
   "execution_count": 46,
   "metadata": {
    "collapsed": false
   },
   "outputs": [
    {
     "data": {
      "text/plain": [
       "MI (generic function with 3 methods)"
      ]
     },
     "execution_count": 46,
     "metadata": {},
     "output_type": "execute_result"
    }
   ],
   "source": [
    "function MI(m::model, i::Int, j::Int, S::Array{Int64,1})\n",
    "  \"\"\"\n",
    "  TODO: test\n",
    "  \"\"\"\n",
    "  max=-Inf\n",
    "  for p in Iterators.product([1:m.nval[i]-1 for i in S]...)\n",
    "        candidate=MI(m,i,j, Dict(zip(S,p)))\n",
    "    if candidate > max\n",
    "      max=candidate\n",
    "    end\n",
    "  end\n",
    "  return max\n",
    "end"
   ]
  },
  {
   "cell_type": "code",
   "execution_count": 47,
   "metadata": {
    "collapsed": false
   },
   "outputs": [
    {
     "data": {
      "text/plain": [
       "0.1712955999170267"
      ]
     },
     "execution_count": 47,
     "metadata": {},
     "output_type": "execute_result"
    },
    {
     "name": "stderr",
     "output_type": "stream",
     "text": [
      "WARNING: 3 is in Dict(3=>4,1=>2) with value 4\n",
      "WARNING: 3 is in Dict(3=>4,1=>2) with value 4\n"
     ]
    }
   ],
   "source": [
    "#MI(m,1,2, Dict(3=>1, 7=>1, 22=>1))\n",
    "MI(m,1,2,Dict(3=>1, 4=>1, 5=>1))"
   ]
  },
  {
   "cell_type": "code",
   "execution_count": 48,
   "metadata": {
    "collapsed": false
   },
   "outputs": [
    {
     "data": {
      "text/plain": [
       "epsilon (generic function with 1 method)"
      ]
     },
     "execution_count": 48,
     "metadata": {},
     "output_type": "execute_result"
    }
   ],
   "source": [
    "function epsilon(m::model, i::Int, j::Int, d::Int)\n",
    "    min=Inf\n",
    "    bestK=Array([])\n",
    "    for di in (1:d)\n",
    "        for k in combinations(1:m.nodes,di)\n",
    "            if (i in k) || (j in k)\n",
    "                continue\n",
    "            end\n",
    "            candidate = MI(m,i,j,k)\n",
    "            if candidate < min\n",
    "                min=candidate\n",
    "                bestK=k\n",
    "            end\n",
    "        end\n",
    "    end\n",
    "    return bestK, min\n",
    "end"
   ]
  },
  {
   "cell_type": "code",
   "execution_count": 49,
   "metadata": {
    "collapsed": false
   },
   "outputs": [
    {
     "data": {
      "text/plain": [
       "([5],0.16748672602478862)"
      ]
     },
     "execution_count": 49,
     "metadata": {},
     "output_type": "execute_result"
    }
   ],
   "source": [
    "epsilon(m,1,2,1)"
   ]
  },
  {
   "cell_type": "code",
   "execution_count": 2,
   "metadata": {
    "collapsed": true
   },
   "outputs": [],
   "source": [
    "using PyCall\n"
   ]
  },
  {
   "cell_type": "code",
   "execution_count": 50,
   "metadata": {
    "collapsed": false
   },
   "outputs": [],
   "source": [
    "@pyimport graphviz"
   ]
  },
  {
   "cell_type": "code",
   "execution_count": 14,
   "metadata": {
    "collapsed": false
   },
   "outputs": [
    {
     "data": {
      "text/plain": [
       "PyObject <module 'libpgm.nodedata' from '/Users/eliotpbrenner/anaconda/lib/python2.7/site-packages/libpgm/nodedata.pyc'>"
      ]
     },
     "execution_count": 14,
     "metadata": {},
     "output_type": "execute_result"
    }
   ],
   "source": [
    "ndModule = pyimport(\"libpgm.nodedata\")"
   ]
  },
  {
   "cell_type": "code",
   "execution_count": 15,
   "metadata": {
    "collapsed": false
   },
   "outputs": [
    {
     "data": {
      "text/plain": [
       "PyObject <libpgm.nodedata.NodeData object at 0x318fbacd0>"
      ]
     },
     "execution_count": 15,
     "metadata": {},
     "output_type": "execute_result"
    }
   ],
   "source": [
    "ndObj=pycall(ndModule[\"NodeData\"], PyCall.PyObject)"
   ]
  },
  {
   "cell_type": "code",
   "execution_count": 51,
   "metadata": {
    "collapsed": false
   },
   "outputs": [
    {
     "data": {
      "text/plain": [
       "PyObject None"
      ]
     },
     "execution_count": 51,
     "metadata": {},
     "output_type": "execute_result"
    }
   ],
   "source": [
    "pycall(ndObj[\"load\"],PyCall.PyObject, studentJSONFile)"
   ]
  },
  {
   "cell_type": "code",
   "execution_count": 53,
   "metadata": {
    "collapsed": false
   },
   "outputs": [
    {
     "data": {
      "text/plain": [
       "PyObject <module 'libpgm.graphskeleton' from '/Users/eliotpbrenner/anaconda/lib/python2.7/site-packages/libpgm/graphskeleton.pyc'>"
      ]
     },
     "execution_count": 53,
     "metadata": {},
     "output_type": "execute_result"
    }
   ],
   "source": [
    "gsModule = pyimport(\"libpgm.graphskeleton\")"
   ]
  },
  {
   "cell_type": "code",
   "execution_count": 55,
   "metadata": {
    "collapsed": false
   },
   "outputs": [
    {
     "data": {
      "text/plain": [
       "PyObject <libpgm.graphskeleton.GraphSkeleton object at 0x318fc4f50>"
      ]
     },
     "execution_count": 55,
     "metadata": {},
     "output_type": "execute_result"
    }
   ],
   "source": [
    "gsObj=pycall(gsModule[\"GraphSkeleton\"], PyCall.PyObject)"
   ]
  },
  {
   "cell_type": "code",
   "execution_count": 56,
   "metadata": {
    "collapsed": true
   },
   "outputs": [],
   "source": [
    "pycall(gsObj[\"load\"], PyCall.PyAny, studentJSONFile )"
   ]
  },
  {
   "cell_type": "markdown",
   "metadata": {},
   "source": [
    "dbnModule = pyimport(\"libpgm.discretebayesnetwork\")\n",
    "dbnObj = pycall(dbnModule[\"discretebayesiannetwork\"], PyCall.PyAny)\n",
    "adbn = pycall(dbnObj[\"DiscreteBayesianNetwork\"], PyCall.PyObject, skel, ndb)"
   ]
  },
  {
   "cell_type": "code",
   "execution_count": 63,
   "metadata": {
    "collapsed": false
   },
   "outputs": [
    {
     "data": {
      "text/plain": [
       "PyObject <module 'libpgm.discretebayesiannetwork' from '/Users/eliotpbrenner/anaconda/lib/python2.7/site-packages/libpgm/discretebayesiannetwork.pyc'>"
      ]
     },
     "execution_count": 63,
     "metadata": {},
     "output_type": "execute_result"
    }
   ],
   "source": [
    "dbnModule = pyimport(\"libpgm.discretebayesiannetwork\")\n"
   ]
  },
  {
   "cell_type": "code",
   "execution_count": 65,
   "metadata": {
    "collapsed": false
   },
   "outputs": [
    {
     "data": {
      "text/plain": [
       "PyObject <libpgm.discretebayesiannetwork.DiscreteBayesianNetwork object at 0x3190677d0>"
      ]
     },
     "execution_count": 65,
     "metadata": {},
     "output_type": "execute_result"
    }
   ],
   "source": [
    "dbnObj = pycall(dbnModule[\"DiscreteBayesianNetwork\"], PyCall.PyAny, gsObj, ndObj)\n"
   ]
  },
  {
   "cell_type": "code",
   "execution_count": 67,
   "metadata": {
    "collapsed": false
   },
   "outputs": [
    {
     "data": {
      "text/plain": [
       "5-element Array{Any,1}:\n",
       " \"Difficulty\"  \n",
       " \"Intelligence\"\n",
       " \"Grade\"       \n",
       " \"SAT\"         \n",
       " \"Letter\"      "
      ]
     },
     "execution_count": 67,
     "metadata": {},
     "output_type": "execute_result"
    }
   ],
   "source": [
    "V = pycall(dbnObj[\"__getattribute__\"], Array, \"V\")"
   ]
  },
  {
   "cell_type": "code",
   "execution_count": 68,
   "metadata": {
    "collapsed": false
   },
   "outputs": [
    {
     "data": {
      "text/plain": [
       "4x2 Array{Any,2}:\n",
       " \"Intelligence\"  \"Grade\" \n",
       " \"Difficulty\"    \"Grade\" \n",
       " \"Intelligence\"  \"SAT\"   \n",
       " \"Grade\"         \"Letter\""
      ]
     },
     "execution_count": 68,
     "metadata": {},
     "output_type": "execute_result"
    }
   ],
   "source": [
    "E = pycall(dbnObj[\"__getattribute__\"], Array, \"E\")"
   ]
  },
  {
   "cell_type": "code",
   "execution_count": 69,
   "metadata": {
    "collapsed": false
   },
   "outputs": [
    {
     "data": {
      "image/svg+xml": [
       "<?xml version=\"1.0\" encoding=\"UTF-8\" standalone=\"no\"?>\n",
       "<!DOCTYPE svg PUBLIC \"-//W3C//DTD SVG 1.1//EN\"\n",
       " \"http://www.w3.org/Graphics/SVG/1.1/DTD/svg11.dtd\">\n",
       "<!-- Generated by graphviz version 2.36.0 (20140111.2315)\n",
       " -->\n",
       "<!-- Title: %3 Pages: 1 -->\n",
       "<svg width=\"8pt\" height=\"8pt\"\n",
       " viewBox=\"0.00 0.00 8.00 8.00\" xmlns=\"http://www.w3.org/2000/svg\" xmlns:xlink=\"http://www.w3.org/1999/xlink\">\n",
       "<g id=\"graph0\" class=\"graph\" transform=\"scale(1 1) rotate(0) translate(4 4)\">\n",
       "<title>%3</title>\n",
       "<polygon fill=\"white\" stroke=\"none\" points=\"-4,4 -4,-4 4,-4 4,4 -4,4\"/>\n",
       "</g>\n",
       "</svg>\n"
      ],
      "text/plain": [
       "PyObject <graphviz.dot.Graph object at 0x319067810>"
      ]
     },
     "execution_count": 69,
     "metadata": {},
     "output_type": "execute_result"
    }
   ],
   "source": [
    "g = graphviz.Graph(format=\"svg\")"
   ]
  },
  {
   "cell_type": "code",
   "execution_count": 70,
   "metadata": {
    "collapsed": false
   },
   "outputs": [
    {
     "data": {
      "text/plain": [
       "PyObject None"
      ]
     },
     "execution_count": 70,
     "metadata": {},
     "output_type": "execute_result"
    }
   ],
   "source": [
    "pycall(g[\"node\"], PyCall.PyObject, \"Difficulty\")\n",
    "pycall(g[\"node\"], PyCall.PyObject, \"Grade\")\n",
    "pycall(g[\"edge\"], PyCall.PyObject, \"Difficulty\", \"Grade\")"
   ]
  },
  {
   "cell_type": "code",
   "execution_count": 71,
   "metadata": {
    "collapsed": false
   },
   "outputs": [
    {
     "name": "stdout",
     "output_type": "stream",
     "text": [
      "graph {\n",
      "\tDifficulty\n",
      "\tGrade\n",
      "\t\tDifficulty -- Grade\n",
      "}"
     ]
    }
   ],
   "source": [
    "print(pycall(g[\"__getattribute__\"], ASCIIString, \"source\"))"
   ]
  },
  {
   "cell_type": "code",
   "execution_count": 72,
   "metadata": {
    "collapsed": false
   },
   "outputs": [
    {
     "data": {
      "text/plain": [
       "Dict{Any,Int64} with 5 entries:\n",
       "  \"Intelligence\" => 2\n",
       "  \"Difficulty\"   => 1\n",
       "  \"SAT\"          => 4\n",
       "  \"Grade\"        => 3\n",
       "  \"Letter\"       => 5"
      ]
     },
     "execution_count": 72,
     "metadata": {},
     "output_type": "execute_result"
    }
   ],
   "source": [
    "vertexEncodings = [v=>i for (i,v) in enumerate(V)]"
   ]
  },
  {
   "cell_type": "code",
   "execution_count": 73,
   "metadata": {
    "collapsed": false
   },
   "outputs": [
    {
     "data": {
      "text/plain": [
       "4x2 Array{Any,2}:\n",
       " \"Intelligence\"  \"Grade\" \n",
       " \"Difficulty\"    \"Grade\" \n",
       " \"Intelligence\"  \"SAT\"   \n",
       " \"Grade\"         \"Letter\""
      ]
     },
     "execution_count": 73,
     "metadata": {},
     "output_type": "execute_result"
    }
   ],
   "source": [
    "E"
   ]
  },
  {
   "cell_type": "code",
   "execution_count": 74,
   "metadata": {
    "collapsed": false
   },
   "outputs": [
    {
     "data": {
      "text/plain": [
       "4-element Array{Any,1}:\n",
       " [2,3]\n",
       " [1,3]\n",
       " [2,4]\n",
       " [3,5]"
      ]
     },
     "execution_count": 74,
     "metadata": {},
     "output_type": "execute_result"
    }
   ],
   "source": [
    "edgesEncoded = [[vertexEncodings[E[i,1]],vertexEncodings[E[i,2]]] for i in 1:size(E)[1]]"
   ]
  },
  {
   "cell_type": "code",
   "execution_count": 75,
   "metadata": {
    "collapsed": false
   },
   "outputs": [
    {
     "data": {
      "image/svg+xml": [
       "<?xml version=\"1.0\" encoding=\"UTF-8\" standalone=\"no\"?>\n",
       "<!DOCTYPE svg PUBLIC \"-//W3C//DTD SVG 1.1//EN\"\n",
       " \"http://www.w3.org/Graphics/SVG/1.1/DTD/svg11.dtd\">\n",
       "<!-- Generated by graphviz version 2.36.0 (20140111.2315)\n",
       " -->\n",
       "<!-- Title: %3 Pages: 1 -->\n",
       "<svg width=\"8pt\" height=\"8pt\"\n",
       " viewBox=\"0.00 0.00 8.00 8.00\" xmlns=\"http://www.w3.org/2000/svg\" xmlns:xlink=\"http://www.w3.org/1999/xlink\">\n",
       "<g id=\"graph0\" class=\"graph\" transform=\"scale(1 1) rotate(0) translate(4 4)\">\n",
       "<title>%3</title>\n",
       "<polygon fill=\"white\" stroke=\"none\" points=\"-4,4 -4,-4 4,-4 4,4 -4,4\"/>\n",
       "</g>\n",
       "</svg>\n"
      ],
      "text/plain": [
       "PyObject <graphviz.dot.Digraph object at 0x319067850>"
      ]
     },
     "execution_count": 75,
     "metadata": {},
     "output_type": "execute_result"
    }
   ],
   "source": [
    "dg = graphviz.Digraph()"
   ]
  },
  {
   "cell_type": "code",
   "execution_count": 79,
   "metadata": {
    "collapsed": true
   },
   "outputs": [],
   "source": [
    "for (v,i) in vertexEncodings\n",
    "    pycall(dg[\"node\"], PyCall.PyObject, string(uppercase(Char(i+96))), v)\n",
    "end"
   ]
  },
  {
   "cell_type": "code",
   "execution_count": 115,
   "metadata": {
    "collapsed": false
   },
   "outputs": [],
   "source": [
    "for rownum in 1:size(edgesEncoded)[1]\n",
    "    string(uppercase(Char(edgesEncoded[rownum][1]+96)))*string(uppercase(Char(edgesEncoded[rownum][2]+96))) #*string(uppercase(Char(edgesEncoded[rownum][2]+96)))\n",
    "    pycall(dg[\"edges\"], PyCall.PyObject, \n",
    "    string(uppercase(Char(edgesEncoded[rownum][1]+96)))*string(uppercase(Char(edgesEncoded[rownum][2]+96))))\n",
    "end"
   ]
  },
  {
   "cell_type": "code",
   "execution_count": 102,
   "metadata": {
    "collapsed": false
   },
   "outputs": [
    {
     "data": {
      "text/plain": [
       "2"
      ]
     },
     "execution_count": 102,
     "metadata": {},
     "output_type": "execute_result"
    }
   ],
   "source": [
    "edgesEncoded[1][1]"
   ]
  },
  {
   "cell_type": "code",
   "execution_count": null,
   "metadata": {
    "collapsed": true
   },
   "outputs": [],
   "source": []
  }
 ],
 "metadata": {
  "kernelspec": {
   "display_name": "Julia 0.4.0",
   "language": "julia",
   "name": "julia-0.4"
  },
  "language_info": {
   "file_extension": ".jl",
   "mimetype": "application/julia",
   "name": "julia",
   "version": "0.4.0"
  }
 },
 "nbformat": 4,
 "nbformat_minor": 0
}
