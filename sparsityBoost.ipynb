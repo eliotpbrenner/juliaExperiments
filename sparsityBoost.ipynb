{
 "cells": [
  {
   "cell_type": "code",
   "execution_count": 1,
   "metadata": {
    "collapsed": false
   },
   "outputs": [
    {
     "data": {
      "text/plain": [
       "1000"
      ]
     },
     "execution_count": 1,
     "metadata": {},
     "output_type": "execute_result"
    }
   ],
   "source": [
    "#PARAMETERS\n",
    "testDataFile=\"/Users/eliotpbrenner/PycharmProjects/SparsityBoost/data/synthetic_examples/experiments/0/alarm1000.dat\"\n",
    "numTestVariable=37\n",
    "numTestDataPts=1000"
   ]
  },
  {
   "cell_type": "code",
   "execution_count": 2,
   "metadata": {
    "collapsed": true
   },
   "outputs": [],
   "source": [
    "# Imports\n",
    "using Base.Test"
   ]
  },
  {
   "cell_type": "code",
   "execution_count": 3,
   "metadata": {
    "collapsed": true
   },
   "outputs": [],
   "source": [
    "type model\n",
    "  nodes::Int64\n",
    "  nval::Array{Int64,1}\n",
    "  dataArray::Array{Int64,2}\n",
    "end"
   ]
  },
  {
   "cell_type": "code",
   "execution_count": 4,
   "metadata": {
    "collapsed": false
   },
   "outputs": [],
   "source": [
    "type jointDistWithMarginals\n",
    "  pdist::Array{Float64,2}\n",
    "  p_A::Array{Float64,1}\n",
    "  p_B::Array{Float64,1}\n",
    "end"
   ]
  },
  {
   "cell_type": "code",
   "execution_count": 10,
   "metadata": {
    "collapsed": false
   },
   "outputs": [
    {
     "data": {
      "text/plain": [
       "jointDistWithMarginals"
      ]
     },
     "execution_count": 10,
     "metadata": {},
     "output_type": "execute_result"
    }
   ],
   "source": [
    "# Constructor which calculates the marginals\n",
    "jointDistWithMarginals(pdist::Array{Float64,2}) = jointDistWithMarginals(pdist, vec(sum(pdist,1)), vec(sum(pdist,2)))"
   ]
  },
  {
   "cell_type": "code",
   "execution_count": 11,
   "metadata": {
    "collapsed": false
   },
   "outputs": [
    {
     "data": {
      "text/plain": [
       "jointDistWithMarginals(2x2 Array{Float64,2}:\n",
       " 0.25  0.25\n",
       " 0.25  0.25,[0.5,0.5],[0.5,0.5])"
      ]
     },
     "execution_count": 11,
     "metadata": {},
     "output_type": "execute_result"
    }
   ],
   "source": [
    "jointDistWithMarginals([[0.25 0.25]; [ 0.25 0.25]])"
   ]
  },
  {
   "cell_type": "code",
   "execution_count": 18,
   "metadata": {
    "collapsed": false
   },
   "outputs": [
    {
     "data": {
      "text/plain": [
       "readData (generic function with 3 methods)"
      ]
     },
     "execution_count": 18,
     "metadata": {},
     "output_type": "execute_result"
    }
   ],
   "source": [
    "function readData(filePath::AbstractString)\n",
    "  dataArray = readdlm(filePath, ' ', Int);\n",
    "  nodes=size(dataArray)[2];\n",
    "  nval=2*ones(Int, nodes)\n",
    "  theModel = model(nodes,nval,dataArray);\n",
    "end\n"
   ]
  },
  {
   "cell_type": "code",
   "execution_count": 19,
   "metadata": {
    "collapsed": false
   },
   "outputs": [],
   "source": [
    "# test readData function\n",
    "m=readData(testDataFile)\n",
    "@test size(m.dataArray) == (numTestDataPts, numTestVariable)"
   ]
  },
  {
   "cell_type": "code",
   "execution_count": 20,
   "metadata": {
    "collapsed": false
   },
   "outputs": [
    {
     "data": {
      "text/plain": [
       "verify (generic function with 1 method)"
      ]
     },
     "execution_count": 20,
     "metadata": {},
     "output_type": "execute_result"
    }
   ],
   "source": [
    "function verify(aJointDistributionWithMarginals::jointDistWithMarginals)\n",
    "  sumA=sum(aJointDistributionWithMarginals.pdist,1)\n",
    "  sumB=sum(aJointDistributionWithMarginals.pdist,2)\n",
    "  @test_approx_eq(transpose(sumA),aJointDistributionWithMarginals.p_A)\n",
    "  @test_approx_eq(sumB,aJointDistributionWithMarginals.p_B)\n",
    "  @test_approx_eq(sum(sumA),1.0)\n",
    "  return true\n",
    "end"
   ]
  },
  {
   "cell_type": "code",
   "execution_count": 22,
   "metadata": {
    "collapsed": false
   },
   "outputs": [],
   "source": [
    "goodDist=jointDistWithMarginals([[0.25 0.25]; [ 0.25 0.25]], [0.5; 0.5], [0.5; 0.5])\n",
    "@test verify(goodDist) == true"
   ]
  },
  {
   "cell_type": "code",
   "execution_count": 24,
   "metadata": {
    "collapsed": false
   },
   "outputs": [
    {
     "data": {
      "text/plain": [
       "ErrorException(\"assertion failed: |transpose(sumA) - aJointDistributionWithMarginals.p_A| <= 2.220446049250313e-12\\n  transpose(sumA) = [0.5\\n 0.5]\\n  aJointDistributionWithMarginals.p_A = [0.6,0.4]\\n  difference = 0.09999999999999998 > 2.220446049250313e-12\")"
      ]
     },
     "execution_count": 24,
     "metadata": {},
     "output_type": "execute_result"
    }
   ],
   "source": [
    "#TODO: determine why this this test fails instead of succeeding!\n",
    "badDist = jointDistWithMarginals([[0.25 0.25]; [ 0.25 0.25]], [0.6; 0.4], [0.5; 0.5])\n",
    "@test_throws ErrorException verify(badDist)"
   ]
  },
  {
   "cell_type": "code",
   "execution_count": 25,
   "metadata": {
    "collapsed": false
   },
   "outputs": [
    {
     "data": {
      "text/plain": [
       "MI_term (generic function with 1 method)"
      ]
     },
     "execution_count": 25,
     "metadata": {},
     "output_type": "execute_result"
    }
   ],
   "source": [
    "function MI_term(i::Int, j::Int, dist::jointDistWithMarginals)\n",
    "  return dist.pdist[i,j]*log(dist.pdist[i,j]/(dist.p_A[i]*dist.p_B[j])  )\n",
    "end"
   ]
  },
  {
   "cell_type": "code",
   "execution_count": 26,
   "metadata": {
    "collapsed": false
   },
   "outputs": [
    {
     "data": {
      "text/plain": [
       "MI (generic function with 1 method)"
      ]
     },
     "execution_count": 26,
     "metadata": {},
     "output_type": "execute_result"
    }
   ],
   "source": [
    "function MI(dist::jointDistWithMarginals)\n",
    "  (a,b)=size(dist.pdist)\n",
    "  return sum([(MI_term(i,j,dist)) for i=1:a, j=1:b])\n",
    "end"
   ]
  },
  {
   "cell_type": "code",
   "execution_count": 27,
   "metadata": {
    "collapsed": false
   },
   "outputs": [
    {
     "data": {
      "text/plain": [
       "0.0"
      ]
     },
     "execution_count": 27,
     "metadata": {},
     "output_type": "execute_result"
    }
   ],
   "source": [
    "MI_term(1,1,goodDist)"
   ]
  },
  {
   "cell_type": "code",
   "execution_count": 28,
   "metadata": {
    "collapsed": false
   },
   "outputs": [],
   "source": [
    "@test_approx_eq(MI(goodDist),0)"
   ]
  },
  {
   "cell_type": "code",
   "execution_count": 31,
   "metadata": {
    "collapsed": false
   },
   "outputs": [],
   "source": [
    "t=0.01\n",
    "anotherDist=jointDistWithMarginals([[0.25+t 0.25-t], [ 0.25-t 0.25+t]], [0.5; 0.5], [0.5; 0.5])\n",
    "verify(anotherDist)\n",
    "@test_approx_eq(MI(anotherDist), 0.0008002134699838133)"
   ]
  },
  {
   "cell_type": "code",
   "execution_count": 32,
   "metadata": {
    "collapsed": false
   },
   "outputs": [
    {
     "data": {
      "text/plain": [
       "testNotInDict (generic function with 1 method)"
      ]
     },
     "execution_count": 32,
     "metadata": {},
     "output_type": "execute_result"
    }
   ],
   "source": [
    "testNotInDict(elt::Int, SToVal::Dict) = try\n",
    "    \"\"\"TODO: figure out how to propagate y up the call stack if it's not a KeyError\"\"\"\n",
    "    x=SToVal[elt] \n",
    "    warn(\"$elt is in $SToVal with value $x\")\n",
    "    throw(DomainError())\n",
    "  catch y\n",
    "    if isa(y, KeyError)\n",
    "      return true\n",
    "    else\n",
    "      return y\n",
    "    end\n",
    "  end"
   ]
  },
  {
   "cell_type": "code",
   "execution_count": 33,
   "metadata": {
    "collapsed": false
   },
   "outputs": [
    {
     "data": {
      "text/plain": [
       "conditionalDist (generic function with 1 method)"
      ]
     },
     "execution_count": 33,
     "metadata": {},
     "output_type": "execute_result"
    }
   ],
   "source": [
    "function conditionalDist(m::model,i::Int,j::Int,SToVal::Dict)\n",
    "  \"\"\"\n",
    "  TODO: that S is a dict of integers and that both are valid for the model\n",
    "  TODO: vectorize the computation of the pDist\n",
    "  \"\"\"\n",
    "  @test i!=j\n",
    "  @test testNotInDict(i, SToVal)\n",
    "  @test testNotInDict(j, SToVal)\n",
    "  selectedPoints = m.dataArray[reduce(&,[m.dataArray[:,condVar] .==SToVal[condVar] for condVar in keys(SToVal)]),:]\n",
    "  numSelectedPoints = size(selectedPoints)[1]\n",
    "  pDist = zeros(m.nval[i], m.nval[j])\n",
    "  for k = 1:m.nval[i]\n",
    "      for l = 1:m.nval[j]\n",
    "          pDist[k,l] = size(selectedPoints[(selectedPoints[:,i] .==k-1)&(selectedPoints[:,j] .==l-1), :])[1]/numSelectedPoints\n",
    "    end\n",
    "  end\n",
    "  jointDistWithMarginals(pDist)\n",
    "end"
   ]
  },
  {
   "cell_type": "code",
   "execution_count": 34,
   "metadata": {
    "collapsed": false
   },
   "outputs": [
    {
     "data": {
      "text/plain": [
       "jointDistWithMarginals(2x2 Array{Float64,2}:\n",
       " 0.304239  0.316708\n",
       " 0.15212   0.226933,[0.456359102244389,0.543640897755611],[0.6209476309226932,0.3790523690773067])"
      ]
     },
     "execution_count": 34,
     "metadata": {},
     "output_type": "execute_result"
    }
   ],
   "source": [
    "SToVal = Dict(3=>0, 4=>1)\n",
    "cd = conditionalDist(m, 1, 2, SToVal)"
   ]
  },
  {
   "cell_type": "code",
   "execution_count": null,
   "metadata": {
    "collapsed": true
   },
   "outputs": [],
   "source": []
  }
 ],
 "metadata": {
  "kernelspec": {
   "display_name": "Julia 0.4.0",
   "language": "julia",
   "name": "julia-0.4"
  },
  "language_info": {
   "file_extension": ".jl",
   "mimetype": "application/julia",
   "name": "julia",
   "version": "0.4.0"
  }
 },
 "nbformat": 4,
 "nbformat_minor": 0
}
