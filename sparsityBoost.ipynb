{
 "cells": [
  {
   "cell_type": "code",
   "execution_count": 291,
   "metadata": {
    "collapsed": false
   },
   "outputs": [
    {
     "data": {
      "text/plain": [
       "100000"
      ]
     },
     "execution_count": 291,
     "metadata": {},
     "output_type": "execute_result"
    }
   ],
   "source": [
    "#PARAMETERS\n",
    "testDataFile=\"/Users/eliotpbrenner/PycharmProjects/SparsityBoost/data/synthetic_examples/experiments/0/alarm1000.dat\"\n",
    "numTestVariable=37\n",
    "numTestDataPts=1000\n",
    "studentJSONFile = \"student.txt\"\n",
    "studentDataFile=\"student_100kSamples.csv\"\n",
    "studentNValsFile=\"student_nvals.csv\"\n",
    "numStudentVariable=5\n",
    "numStudentDataPts=100000"
   ]
  },
  {
   "cell_type": "code",
   "execution_count": 292,
   "metadata": {
    "collapsed": false
   },
   "outputs": [],
   "source": [
    "# Imports\n",
    "using Base.Test\n",
    "using Iterators"
   ]
  },
  {
   "cell_type": "code",
   "execution_count": 293,
   "metadata": {
    "collapsed": true
   },
   "outputs": [],
   "source": [
    "type model\n",
    "  nodes::Int64\n",
    "  nval::Array{Int64,1}\n",
    "  dataArray::Array{Int64,2}\n",
    "end"
   ]
  },
  {
   "cell_type": "code",
   "execution_count": 294,
   "metadata": {
    "collapsed": false
   },
   "outputs": [],
   "source": [
    "type jointDistWithMarginals\n",
    "  pdist::Array{Float64,2}\n",
    "  p_A::Array{Float64,1}\n",
    "  p_B::Array{Float64,1}\n",
    "end"
   ]
  },
  {
   "cell_type": "code",
   "execution_count": 295,
   "metadata": {
    "collapsed": false
   },
   "outputs": [
    {
     "data": {
      "text/plain": [
       "jointDistWithMarginals"
      ]
     },
     "execution_count": 295,
     "metadata": {},
     "output_type": "execute_result"
    }
   ],
   "source": [
    "# Constructor which calculates the marginals\n",
    "jointDistWithMarginals(pdist::Array{Float64,2}) = jointDistWithMarginals(pdist, vec(sum(pdist,2)), vec(sum(pdist,1)))"
   ]
  },
  {
   "cell_type": "code",
   "execution_count": 296,
   "metadata": {
    "collapsed": false
   },
   "outputs": [
    {
     "data": {
      "text/plain": [
       "jointDistWithMarginals(2x2 Array{Float64,2}:\n",
       " 0.25  0.25\n",
       " 0.25  0.25,[0.5,0.5],[0.5,0.5])"
      ]
     },
     "execution_count": 296,
     "metadata": {},
     "output_type": "execute_result"
    }
   ],
   "source": [
    "jointDistWithMarginals([[0.25 0.25]; [ 0.25 0.25]])"
   ]
  },
  {
   "cell_type": "code",
   "execution_count": 297,
   "metadata": {
    "collapsed": false
   },
   "outputs": [
    {
     "data": {
      "text/plain": [
       "jointDistWithMarginals(2x3 Array{Float64,2}:\n",
       " 0.25  0.125  0.125\n",
       " 0.25  0.125  0.125,[0.5,0.5],[0.5,0.25,0.25])"
      ]
     },
     "execution_count": 297,
     "metadata": {},
     "output_type": "execute_result"
    }
   ],
   "source": [
    "jointDistWithMarginals([[0.25 0.125 0.125]; [ 0.25 0.125 0.125]])"
   ]
  },
  {
   "cell_type": "code",
   "execution_count": 298,
   "metadata": {
    "collapsed": false
   },
   "outputs": [
    {
     "data": {
      "text/plain": [
       "readDataBinary (generic function with 1 method)"
      ]
     },
     "execution_count": 298,
     "metadata": {},
     "output_type": "execute_result"
    }
   ],
   "source": [
    "function readDataBinary(filePath::AbstractString)\n",
    "  dataArray = readdlm(filePath, ' ', Int);\n",
    "  nodes=size(dataArray)[2];\n",
    "  nval=2*ones(Int, nodes)\n",
    "  theModel = model(nodes,nval,dataArray);\n",
    "end\n"
   ]
  },
  {
   "cell_type": "code",
   "execution_count": 299,
   "metadata": {
    "collapsed": false
   },
   "outputs": [
    {
     "data": {
      "text/plain": [
       "readData (generic function with 1 method)"
      ]
     },
     "execution_count": 299,
     "metadata": {},
     "output_type": "execute_result"
    }
   ],
   "source": [
    "function readData(dataFilePath::AbstractString, nvalsFilePath::AbstractString)\n",
    "  dataArray = readdlm(dataFilePath, ',', Int);\n",
    "  nodes=size(dataArray)[2];\n",
    "    nval=vec(readdlm(nvalsFilePath, ',', Int));   #2*ones(Int, nodes)\n",
    "  theModel = model(nodes,nval,dataArray);\n",
    "end"
   ]
  },
  {
   "cell_type": "code",
   "execution_count": 300,
   "metadata": {
    "collapsed": false
   },
   "outputs": [
    {
     "data": {
      "text/plain": [
       "model(5,[2,2,3,2,2],100000x5 Array{Int64,2}:\n",
       " 0  0  1  0  0\n",
       " 0  0  0  1  1\n",
       " 1  0  2  0  0\n",
       " 0  0  2  0  0\n",
       " 1  1  0  1  1\n",
       " 0  0  1  0  0\n",
       " 0  0  2  0  0\n",
       " 0  0  0  0  1\n",
       " 0  0  1  0  1\n",
       " 0  0  1  0  0\n",
       " 0  0  1  0  0\n",
       " 0  1  0  1  1\n",
       " 0  0  0  0  1\n",
       " ⋮            \n",
       " 0  0  1  0  0\n",
       " 1  1  2  1  0\n",
       " 0  0  1  0  1\n",
       " 0  0  0  0  1\n",
       " 0  0  2  0  0\n",
       " 0  0  1  0  0\n",
       " 0  1  0  0  1\n",
       " 1  1  1  1  0\n",
       " 0  1  0  0  0\n",
       " 1  0  1  1  0\n",
       " 1  1  0  1  1\n",
       " 0  0  2  0  0)"
      ]
     },
     "execution_count": 300,
     "metadata": {},
     "output_type": "execute_result"
    }
   ],
   "source": [
    "m=readData(studentDataFile, studentNValsFile)"
   ]
  },
  {
   "cell_type": "code",
   "execution_count": 301,
   "metadata": {
    "collapsed": false
   },
   "outputs": [],
   "source": [
    "# test readData function\n",
    "m=readData(studentDataFile, studentNValsFile)\n",
    "@test size(m.dataArray) == (numStudentDataPts, numStudentVariable)"
   ]
  },
  {
   "cell_type": "code",
   "execution_count": 302,
   "metadata": {
    "collapsed": false
   },
   "outputs": [
    {
     "data": {
      "text/plain": [
       "verify (generic function with 1 method)"
      ]
     },
     "execution_count": 302,
     "metadata": {},
     "output_type": "execute_result"
    }
   ],
   "source": [
    "function verify(aJointDistributionWithMarginals::jointDistWithMarginals)\n",
    "  sumA=sum(aJointDistributionWithMarginals.pdist,2)\n",
    "  sumB=sum(aJointDistributionWithMarginals.pdist,1)\n",
    "  @test_approx_eq(transpose(sumA),aJointDistributionWithMarginals.p_A)\n",
    "  @test_approx_eq(sumB,aJointDistributionWithMarginals.p_B)\n",
    "  @test_approx_eq(sum(sumA),1.0)\n",
    "  return true\n",
    "end"
   ]
  },
  {
   "cell_type": "code",
   "execution_count": 303,
   "metadata": {
    "collapsed": false
   },
   "outputs": [],
   "source": [
    "goodDist=jointDistWithMarginals([[0.25 0.25]; [ 0.25 0.25]], [0.5; 0.5], [0.5; 0.5])\n",
    "@test verify(goodDist) == true"
   ]
  },
  {
   "cell_type": "code",
   "execution_count": 304,
   "metadata": {
    "collapsed": false
   },
   "outputs": [
    {
     "data": {
      "text/plain": [
       "ErrorException(\"assertion failed: |transpose(sumA) - aJointDistributionWithMarginals.p_A| <= 2.220446049250313e-12\\n  transpose(sumA) = [0.5 0.5]\\n  aJointDistributionWithMarginals.p_A = [0.6,0.4]\\n  difference = 0.09999999999999998 > 2.220446049250313e-12\")"
      ]
     },
     "execution_count": 304,
     "metadata": {},
     "output_type": "execute_result"
    }
   ],
   "source": [
    "#TODO: determine why this this test fails instead of succeeding!\n",
    "badDist = jointDistWithMarginals([[0.25 0.25]; [ 0.25 0.25]], [0.6; 0.4], [0.5; 0.5])\n",
    "@test_throws( ErrorException, verify(badDist))"
   ]
  },
  {
   "cell_type": "code",
   "execution_count": 305,
   "metadata": {
    "collapsed": false
   },
   "outputs": [
    {
     "data": {
      "text/plain": [
       "MI_term (generic function with 1 method)"
      ]
     },
     "execution_count": 305,
     "metadata": {},
     "output_type": "execute_result"
    }
   ],
   "source": [
    "function MI_term(i::Int, j::Int, dist::jointDistWithMarginals)\n",
    "  return dist.pdist[i,j]*log(dist.pdist[i,j]/(dist.p_A[i]*dist.p_B[j])  )\n",
    "end"
   ]
  },
  {
   "cell_type": "code",
   "execution_count": 306,
   "metadata": {
    "collapsed": false
   },
   "outputs": [
    {
     "data": {
      "text/plain": [
       "MI (generic function with 3 methods)"
      ]
     },
     "execution_count": 306,
     "metadata": {},
     "output_type": "execute_result"
    }
   ],
   "source": [
    "function MI(dist::jointDistWithMarginals)\n",
    "  (a,b)=size(dist.pdist)\n",
    "  return sum([(MI_term(i,j,dist)) for i=1:a, j=1:b])\n",
    "end"
   ]
  },
  {
   "cell_type": "code",
   "execution_count": 307,
   "metadata": {
    "collapsed": false
   },
   "outputs": [
    {
     "data": {
      "text/plain": [
       "MI (generic function with 3 methods)"
      ]
     },
     "execution_count": 307,
     "metadata": {},
     "output_type": "execute_result"
    }
   ],
   "source": [
    "function MI(m::model,i::Int,j::Int,SToVal::Dict)\n",
    "  \"\"\"\n",
    "  TODO: test\n",
    "  \"\"\"\n",
    "  MI(conditionalDist(m::model,i::Int,j::Int,SToVal::Dict))\n",
    "end"
   ]
  },
  {
   "cell_type": "code",
   "execution_count": 308,
   "metadata": {
    "collapsed": false
   },
   "outputs": [
    {
     "data": {
      "text/plain": [
       "0.10408784888114189"
      ]
     },
     "execution_count": 308,
     "metadata": {},
     "output_type": "execute_result"
    }
   ],
   "source": [
    "MI(m,1,3,Dict(2=>1, 4=>1))"
   ]
  },
  {
   "cell_type": "code",
   "execution_count": 309,
   "metadata": {
    "collapsed": false
   },
   "outputs": [
    {
     "data": {
      "text/plain": [
       "0.0"
      ]
     },
     "execution_count": 309,
     "metadata": {},
     "output_type": "execute_result"
    }
   ],
   "source": [
    "MI_term(1,1,goodDist)"
   ]
  },
  {
   "cell_type": "code",
   "execution_count": 310,
   "metadata": {
    "collapsed": false
   },
   "outputs": [],
   "source": [
    "@test_approx_eq(MI(goodDist),0)"
   ]
  },
  {
   "cell_type": "code",
   "execution_count": 311,
   "metadata": {
    "collapsed": false
   },
   "outputs": [],
   "source": [
    "t=0.01\n",
    "anotherDist=jointDistWithMarginals([[0.25+t 0.25-t]; [ 0.25-t 0.25+t]], [0.5; 0.5], [0.5; 0.5])\n",
    "verify(anotherDist)\n",
    "@test_approx_eq(MI(anotherDist), 0.0008002134699838133)"
   ]
  },
  {
   "cell_type": "code",
   "execution_count": 312,
   "metadata": {
    "collapsed": false
   },
   "outputs": [
    {
     "data": {
      "text/plain": [
       "testNotInDict (generic function with 1 method)"
      ]
     },
     "execution_count": 312,
     "metadata": {},
     "output_type": "execute_result"
    }
   ],
   "source": [
    "testNotInDict(elt::Int, SToVal::Dict) = try\n",
    "    \"\"\"TODO: figure out how to propagate y up the call stack if it's not a KeyError\"\"\"\n",
    "    x=SToVal[elt] \n",
    "    warn(\"$elt is in $SToVal with value $x\")\n",
    "    throw(DomainError())\n",
    "  catch y\n",
    "    if isa(y, KeyError)\n",
    "      return true\n",
    "    else\n",
    "      return y\n",
    "    end\n",
    "  end"
   ]
  },
  {
   "cell_type": "code",
   "execution_count": 313,
   "metadata": {
    "collapsed": false
   },
   "outputs": [
    {
     "data": {
      "text/plain": [
       "Dict{Int64,Int64} with 2 entries:\n",
       "  3 => 4\n",
       "  1 => 2"
      ]
     },
     "execution_count": 313,
     "metadata": {},
     "output_type": "execute_result"
    }
   ],
   "source": [
    "S=Dict(1=>2, 3=>4)"
   ]
  },
  {
   "cell_type": "code",
   "execution_count": 314,
   "metadata": {
    "collapsed": false
   },
   "outputs": [
    {
     "name": "stderr",
     "output_type": "stream",
     "text": [
      "WARNING: 1 is in Dict(3=>4,1=>2) with value 2\n"
     ]
    },
    {
     "data": {
      "text/plain": [
       "DomainError()"
      ]
     },
     "execution_count": 314,
     "metadata": {},
     "output_type": "execute_result"
    }
   ],
   "source": [
    "testNotInDict(1,S)"
   ]
  },
  {
   "cell_type": "code",
   "execution_count": 315,
   "metadata": {
    "collapsed": false
   },
   "outputs": [
    {
     "data": {
      "text/plain": [
       "conditionalDist (generic function with 1 method)"
      ]
     },
     "execution_count": 315,
     "metadata": {},
     "output_type": "execute_result"
    }
   ],
   "source": [
    "function conditionalDist(m::model,i::Int,j::Int,SToVal::Dict)\n",
    "  \"\"\"\n",
    "  TODO: that S is a dict of integers and that both are valid for the model\n",
    "  TODO: vectorize the computation of the pDist\n",
    "  \"\"\"\n",
    "  @test i!=j\n",
    "  @test testNotInDict(i, SToVal) == true\n",
    "  @test testNotInDict(j, SToVal) ==true\n",
    "  selectedPoints = m.dataArray[reduce(&,[m.dataArray[:,condVar] .==SToVal[condVar] for condVar in keys(SToVal)]),:]\n",
    "  numSelectedPoints = size(selectedPoints)[1]\n",
    "  pDist = zeros(m.nval[i], m.nval[j])\n",
    "  for k = 1:m.nval[i]\n",
    "      for l = 1:m.nval[j]\n",
    "          pDist[k,l] = size(selectedPoints[(selectedPoints[:,i] .==k-1)&(selectedPoints[:,j] .==l-1), :])[1]/numSelectedPoints\n",
    "    end\n",
    "  end\n",
    "    jd = jointDistWithMarginals(pDist)\n",
    "    #verify(jd)\n",
    "    return jd\n",
    "end"
   ]
  },
  {
   "cell_type": "code",
   "execution_count": 316,
   "metadata": {
    "collapsed": false
   },
   "outputs": [
    {
     "data": {
      "text/plain": [
       "jointDistWithMarginals(2x3 Array{Float64,2}:\n",
       " 0.18229    0.241131  0.183444\n",
       " 0.0227863  0.09576   0.274589,[0.6068647245457167,0.39313527545428323],[0.2050764349581771,0.3368906835881165,0.45803288145370635])"
      ]
     },
     "execution_count": 316,
     "metadata": {},
     "output_type": "execute_result"
    }
   ],
   "source": [
    "SToVal = Dict(2=>0, 4=>1)\n",
    "cd = conditionalDist(m, 1, 3, SToVal)"
   ]
  },
  {
   "cell_type": "code",
   "execution_count": 317,
   "metadata": {
    "collapsed": false
   },
   "outputs": [
    {
     "data": {
      "text/plain": [
       "ErrorException(\"test failed: 1 != 1\\n in expression: i != j\")"
      ]
     },
     "execution_count": 317,
     "metadata": {},
     "output_type": "execute_result"
    }
   ],
   "source": [
    "@test_throws(ErrorException,conditionalDist(m, 1, 1, SToVal))"
   ]
  },
  {
   "cell_type": "code",
   "execution_count": 318,
   "metadata": {
    "collapsed": false
   },
   "outputs": [
    {
     "data": {
      "text/plain": [
       "jointDistWithMarginals(3x2 Array{Float64,2}:\n",
       " 0.18229   0.0227863\n",
       " 0.241131  0.09576  \n",
       " 0.183444  0.274589 ,[0.2050764349581771,0.3368906835881165,0.45803288145370635],[0.6068647245457167,0.39313527545428323])"
      ]
     },
     "execution_count": 318,
     "metadata": {},
     "output_type": "execute_result"
    }
   ],
   "source": [
    "conditionalDist(m, 3, 1, SToVal)"
   ]
  },
  {
   "cell_type": "code",
   "execution_count": 319,
   "metadata": {
    "collapsed": false
   },
   "outputs": [
    {
     "name": "stderr",
     "output_type": "stream",
     "text": [
      "WARNING: 3 is in Dict(3=>4,1=>2) with value 4\n"
     ]
    },
    {
     "ename": "LoadError",
     "evalue": "LoadError: test failed: ErrorException(\"test failed: DomainError() == true\\n in expression: testNotInDict(i,SToVal) == true\") was thrown instead of DomainError\n in expression: conditionalDist(m,3,1,S)\nwhile loading In[319], in expression starting on line 2",
     "output_type": "error",
     "traceback": [
      "LoadError: test failed: ErrorException(\"test failed: DomainError() == true\\n in expression: testNotInDict(i,SToVal) == true\") was thrown instead of DomainError\n in expression: conditionalDist(m,3,1,S)\nwhile loading In[319], in expression starting on line 2",
      "",
      " in error at /Applications/Julia-0.4.0.app/Contents/Resources/julia/lib/julia/sys.dylib",
      " in default_handler at test.jl:30",
      " in do_test_throws at test.jl:75"
     ]
    }
   ],
   "source": [
    "#TODO: determine why this test is failing\n",
    "@test_throws(DomainError, conditionalDist(m, 3, 1, S))"
   ]
  },
  {
   "cell_type": "code",
   "execution_count": 320,
   "metadata": {
    "collapsed": false
   },
   "outputs": [
    {
     "name": "stderr",
     "output_type": "stream",
     "text": [
      "WARNING: 3 is in Dict(3=>4,1=>2) with value 4\n"
     ]
    },
    {
     "ename": "LoadError",
     "evalue": "LoadError: test failed: DomainError() == true\n in expression: testNotInDict(i,SToVal) == true\nwhile loading In[320], in expression starting on line 1",
     "output_type": "error",
     "traceback": [
      "LoadError: test failed: DomainError() == true\n in expression: testNotInDict(i,SToVal) == true\nwhile loading In[320], in expression starting on line 1",
      "",
      " in error at /Applications/Julia-0.4.0.app/Contents/Resources/julia/lib/julia/sys.dylib",
      " in default_handler at test.jl:30",
      " in do_test at test.jl:53",
      " in conditionalDist at In[315]:7"
     ]
    }
   ],
   "source": [
    "conditionalDist(m, 3, 1, S)"
   ]
  },
  {
   "cell_type": "code",
   "execution_count": 321,
   "metadata": {
    "collapsed": false
   },
   "outputs": [
    {
     "data": {
      "text/plain": [
       "MI (generic function with 3 methods)"
      ]
     },
     "execution_count": 321,
     "metadata": {},
     "output_type": "execute_result"
    }
   ],
   "source": [
    "function MI(m::model, i::Int, j::Int, S::Array{Int64,1})\n",
    "  \"\"\"\n",
    "  TODO: test\n",
    "  \"\"\"\n",
    "  max=-Inf\n",
    "  for p in Iterators.product([1:m.nval[k]-1 for k in S]...)\n",
    "        candidate=MI(m,i,j, Dict(zip(S,p)))\n",
    "    if candidate > max\n",
    "      max=candidate\n",
    "    end\n",
    "  end\n",
    "  return max\n",
    "end"
   ]
  },
  {
   "cell_type": "code",
   "execution_count": 322,
   "metadata": {
    "collapsed": false
   },
   "outputs": [
    {
     "data": {
      "text/plain": [
       "epsilon (generic function with 2 methods)"
      ]
     },
     "execution_count": 322,
     "metadata": {},
     "output_type": "execute_result"
    }
   ],
   "source": [
    "function epsilon(m::model, i::Int, j::Int, d::Int)\n",
    "    min=Inf\n",
    "    bestK=Array([])\n",
    "    for di in (1:d)\n",
    "        for k in combinations(1:m.nodes,di)\n",
    "            if (i in k) || (j in k)\n",
    "                continue\n",
    "            end\n",
    "            candidate = MI(m,i,j,k)\n",
    "            if candidate < min\n",
    "                min=candidate\n",
    "                bestK=k\n",
    "            end\n",
    "        end\n",
    "    end\n",
    "    return bestK, min\n",
    "end"
   ]
  },
  {
   "cell_type": "code",
   "execution_count": 323,
   "metadata": {
    "collapsed": false
   },
   "outputs": [
    {
     "data": {
      "text/plain": [
       "([4],1.0097662376677198e-5)"
      ]
     },
     "execution_count": 323,
     "metadata": {},
     "output_type": "execute_result"
    }
   ],
   "source": [
    "epsilon(m,1,2,1)"
   ]
  },
  {
   "cell_type": "code",
   "execution_count": 324,
   "metadata": {
    "collapsed": true
   },
   "outputs": [],
   "source": [
    "using PyCall\n"
   ]
  },
  {
   "cell_type": "code",
   "execution_count": 325,
   "metadata": {
    "collapsed": false
   },
   "outputs": [],
   "source": [
    "@pyimport graphviz"
   ]
  },
  {
   "cell_type": "code",
   "execution_count": 326,
   "metadata": {
    "collapsed": false
   },
   "outputs": [
    {
     "data": {
      "text/plain": [
       "PyObject <module 'libpgm.nodedata' from '/Users/eliotpbrenner/anaconda/lib/python2.7/site-packages/libpgm/nodedata.pyc'>"
      ]
     },
     "execution_count": 326,
     "metadata": {},
     "output_type": "execute_result"
    }
   ],
   "source": [
    "ndModule = pyimport(\"libpgm.nodedata\")"
   ]
  },
  {
   "cell_type": "code",
   "execution_count": 327,
   "metadata": {
    "collapsed": false
   },
   "outputs": [
    {
     "data": {
      "text/plain": [
       "PyObject <libpgm.nodedata.NodeData object at 0x319076150>"
      ]
     },
     "execution_count": 327,
     "metadata": {},
     "output_type": "execute_result"
    }
   ],
   "source": [
    "ndObj=pycall(ndModule[\"NodeData\"], PyCall.PyObject)"
   ]
  },
  {
   "cell_type": "code",
   "execution_count": 328,
   "metadata": {
    "collapsed": false
   },
   "outputs": [
    {
     "data": {
      "text/plain": [
       "PyObject None"
      ]
     },
     "execution_count": 328,
     "metadata": {},
     "output_type": "execute_result"
    }
   ],
   "source": [
    "pycall(ndObj[\"load\"],PyCall.PyObject, studentJSONFile)"
   ]
  },
  {
   "cell_type": "code",
   "execution_count": 329,
   "metadata": {
    "collapsed": false
   },
   "outputs": [
    {
     "data": {
      "text/plain": [
       "PyObject <module 'libpgm.graphskeleton' from '/Users/eliotpbrenner/anaconda/lib/python2.7/site-packages/libpgm/graphskeleton.pyc'>"
      ]
     },
     "execution_count": 329,
     "metadata": {},
     "output_type": "execute_result"
    }
   ],
   "source": [
    "gsModule = pyimport(\"libpgm.graphskeleton\")"
   ]
  },
  {
   "cell_type": "code",
   "execution_count": 330,
   "metadata": {
    "collapsed": false
   },
   "outputs": [
    {
     "data": {
      "text/plain": [
       "PyObject <libpgm.graphskeleton.GraphSkeleton object at 0x319076250>"
      ]
     },
     "execution_count": 330,
     "metadata": {},
     "output_type": "execute_result"
    }
   ],
   "source": [
    "gsObj=pycall(gsModule[\"GraphSkeleton\"], PyCall.PyObject)"
   ]
  },
  {
   "cell_type": "code",
   "execution_count": 331,
   "metadata": {
    "collapsed": true
   },
   "outputs": [],
   "source": [
    "pycall(gsObj[\"load\"], PyCall.PyAny, studentJSONFile )"
   ]
  },
  {
   "cell_type": "markdown",
   "metadata": {},
   "source": [
    "dbnModule = pyimport(\"libpgm.discretebayesnetwork\")\n",
    "dbnObj = pycall(dbnModule[\"discretebayesiannetwork\"], PyCall.PyAny)\n",
    "adbn = pycall(dbnObj[\"DiscreteBayesianNetwork\"], PyCall.PyObject, skel, ndb)"
   ]
  },
  {
   "cell_type": "code",
   "execution_count": 332,
   "metadata": {
    "collapsed": false
   },
   "outputs": [
    {
     "data": {
      "text/plain": [
       "PyObject <module 'libpgm.discretebayesiannetwork' from '/Users/eliotpbrenner/anaconda/lib/python2.7/site-packages/libpgm/discretebayesiannetwork.pyc'>"
      ]
     },
     "execution_count": 332,
     "metadata": {},
     "output_type": "execute_result"
    }
   ],
   "source": [
    "dbnModule = pyimport(\"libpgm.discretebayesiannetwork\")\n"
   ]
  },
  {
   "cell_type": "code",
   "execution_count": 333,
   "metadata": {
    "collapsed": false
   },
   "outputs": [
    {
     "data": {
      "text/plain": [
       "PyObject <libpgm.discretebayesiannetwork.DiscreteBayesianNetwork object at 0x319076590>"
      ]
     },
     "execution_count": 333,
     "metadata": {},
     "output_type": "execute_result"
    }
   ],
   "source": [
    "dbnObj = pycall(dbnModule[\"DiscreteBayesianNetwork\"], PyCall.PyAny, gsObj, ndObj)\n"
   ]
  },
  {
   "cell_type": "code",
   "execution_count": 334,
   "metadata": {
    "collapsed": false
   },
   "outputs": [
    {
     "data": {
      "text/plain": [
       "5-element Array{Any,1}:\n",
       " \"Difficulty\"  \n",
       " \"Intelligence\"\n",
       " \"Grade\"       \n",
       " \"SAT\"         \n",
       " \"Letter\"      "
      ]
     },
     "execution_count": 334,
     "metadata": {},
     "output_type": "execute_result"
    }
   ],
   "source": [
    "V = pycall(dbnObj[\"__getattribute__\"], Array, \"V\")"
   ]
  },
  {
   "cell_type": "code",
   "execution_count": 335,
   "metadata": {
    "collapsed": false
   },
   "outputs": [
    {
     "data": {
      "text/plain": [
       "4x2 Array{Any,2}:\n",
       " \"Intelligence\"  \"Grade\" \n",
       " \"Difficulty\"    \"Grade\" \n",
       " \"Intelligence\"  \"SAT\"   \n",
       " \"Grade\"         \"Letter\""
      ]
     },
     "execution_count": 335,
     "metadata": {},
     "output_type": "execute_result"
    }
   ],
   "source": [
    "E = pycall(dbnObj[\"__getattribute__\"], Array, \"E\")"
   ]
  },
  {
   "cell_type": "code",
   "execution_count": 336,
   "metadata": {
    "collapsed": false
   },
   "outputs": [
    {
     "data": {
      "image/svg+xml": [
       "<?xml version=\"1.0\" encoding=\"UTF-8\" standalone=\"no\"?>\n",
       "<!DOCTYPE svg PUBLIC \"-//W3C//DTD SVG 1.1//EN\"\n",
       " \"http://www.w3.org/Graphics/SVG/1.1/DTD/svg11.dtd\">\n",
       "<!-- Generated by graphviz version 2.36.0 (20140111.2315)\n",
       " -->\n",
       "<!-- Title: %3 Pages: 1 -->\n",
       "<svg width=\"8pt\" height=\"8pt\"\n",
       " viewBox=\"0.00 0.00 8.00 8.00\" xmlns=\"http://www.w3.org/2000/svg\" xmlns:xlink=\"http://www.w3.org/1999/xlink\">\n",
       "<g id=\"graph0\" class=\"graph\" transform=\"scale(1 1) rotate(0) translate(4 4)\">\n",
       "<title>%3</title>\n",
       "<polygon fill=\"white\" stroke=\"none\" points=\"-4,4 -4,-4 4,-4 4,4 -4,4\"/>\n",
       "</g>\n",
       "</svg>\n"
      ],
      "text/plain": [
       "PyObject <graphviz.dot.Graph object at 0x319076650>"
      ]
     },
     "execution_count": 336,
     "metadata": {},
     "output_type": "execute_result"
    }
   ],
   "source": [
    "g = graphviz.Graph(format=\"svg\")"
   ]
  },
  {
   "cell_type": "code",
   "execution_count": 337,
   "metadata": {
    "collapsed": false
   },
   "outputs": [
    {
     "data": {
      "text/plain": [
       "PyObject None"
      ]
     },
     "execution_count": 337,
     "metadata": {},
     "output_type": "execute_result"
    }
   ],
   "source": [
    "pycall(g[\"node\"], PyCall.PyObject, \"Difficulty\")\n",
    "pycall(g[\"node\"], PyCall.PyObject, \"Grade\")\n",
    "pycall(g[\"edge\"], PyCall.PyObject, \"Difficulty\", \"Grade\")"
   ]
  },
  {
   "cell_type": "code",
   "execution_count": 338,
   "metadata": {
    "collapsed": false
   },
   "outputs": [
    {
     "name": "stdout",
     "output_type": "stream",
     "text": [
      "graph {\n",
      "\tDifficulty\n",
      "\tGrade\n",
      "\t\tDifficulty -- Grade\n",
      "}"
     ]
    }
   ],
   "source": [
    "print(pycall(g[\"__getattribute__\"], ASCIIString, \"source\"))"
   ]
  },
  {
   "cell_type": "code",
   "execution_count": 339,
   "metadata": {
    "collapsed": false
   },
   "outputs": [
    {
     "data": {
      "text/plain": [
       "Dict{Any,Int64} with 5 entries:\n",
       "  \"Intelligence\" => 2\n",
       "  \"Difficulty\"   => 1\n",
       "  \"SAT\"          => 4\n",
       "  \"Grade\"        => 3\n",
       "  \"Letter\"       => 5"
      ]
     },
     "execution_count": 339,
     "metadata": {},
     "output_type": "execute_result"
    }
   ],
   "source": [
    "vertexEncodings = [v=>i for (i,v) in enumerate(V)]"
   ]
  },
  {
   "cell_type": "code",
   "execution_count": 340,
   "metadata": {
    "collapsed": false
   },
   "outputs": [
    {
     "data": {
      "text/plain": [
       "4x2 Array{Any,2}:\n",
       " \"Intelligence\"  \"Grade\" \n",
       " \"Difficulty\"    \"Grade\" \n",
       " \"Intelligence\"  \"SAT\"   \n",
       " \"Grade\"         \"Letter\""
      ]
     },
     "execution_count": 340,
     "metadata": {},
     "output_type": "execute_result"
    }
   ],
   "source": [
    "E"
   ]
  },
  {
   "cell_type": "code",
   "execution_count": 357,
   "metadata": {
    "collapsed": false
   },
   "outputs": [
    {
     "data": {
      "image/svg+xml": [
       "<?xml version=\"1.0\" encoding=\"UTF-8\" standalone=\"no\"?>\n",
       "<!DOCTYPE svg PUBLIC \"-//W3C//DTD SVG 1.1//EN\"\n",
       " \"http://www.w3.org/Graphics/SVG/1.1/DTD/svg11.dtd\">\n",
       "<!-- Generated by graphviz version 2.36.0 (20140111.2315)\n",
       " -->\n",
       "<!-- Title: %3 Pages: 1 -->\n",
       "<svg width=\"8pt\" height=\"8pt\"\n",
       " viewBox=\"0.00 0.00 8.00 8.00\" xmlns=\"http://www.w3.org/2000/svg\" xmlns:xlink=\"http://www.w3.org/1999/xlink\">\n",
       "<g id=\"graph0\" class=\"graph\" transform=\"scale(1 1) rotate(0) translate(4 4)\">\n",
       "<title>%3</title>\n",
       "<polygon fill=\"white\" stroke=\"none\" points=\"-4,4 -4,-4 4,-4 4,4 -4,4\"/>\n",
       "</g>\n",
       "</svg>\n"
      ],
      "text/plain": [
       "PyObject <graphviz.dot.Digraph object at 0x3190766d0>"
      ]
     },
     "execution_count": 357,
     "metadata": {},
     "output_type": "execute_result"
    }
   ],
   "source": [
    "edgesEncoded = [[vertexEncodings[E[i,1]],vertexEncodings[E[i,2]]] for i in 1:size(E)[1]]\n",
    "\n"
   ]
  },
  {
   "cell_type": "code",
   "execution_count": 364,
   "metadata": {
    "collapsed": false
   },
   "outputs": [
    {
     "data": {
      "image/svg+xml": [
       "<?xml version=\"1.0\" encoding=\"UTF-8\" standalone=\"no\"?>\n",
       "<!DOCTYPE svg PUBLIC \"-//W3C//DTD SVG 1.1//EN\"\n",
       " \"http://www.w3.org/Graphics/SVG/1.1/DTD/svg11.dtd\">\n",
       "<!-- Generated by graphviz version 2.36.0 (20140111.2315)\n",
       " -->\n",
       "<!-- Title: %3 Pages: 1 -->\n",
       "<svg width=\"225pt\" height=\"220pt\"\n",
       " viewBox=\"0.00 0.00 225.00 220.00\" xmlns=\"http://www.w3.org/2000/svg\" xmlns:xlink=\"http://www.w3.org/1999/xlink\">\n",
       "<g id=\"graph0\" class=\"graph\" transform=\"scale(1 1) rotate(0) translate(4 216)\">\n",
       "<title>%3</title>\n",
       "<polygon fill=\"white\" stroke=\"none\" points=\"-4,4 -4,-216 221,-216 221,4 -4,4\"/>\n",
       "<!-- B -->\n",
       "<g id=\"node1\" class=\"node\"><title>B</title>\n",
       "<ellipse fill=\"none\" stroke=\"black\" cx=\"53\" cy=\"-194\" rx=\"53.4184\" ry=\"18\"/>\n",
       "<text text-anchor=\"middle\" x=\"53\" y=\"-190.3\" font-family=\"Times,serif\" font-size=\"14.00\">Intelligence</text>\n",
       "</g>\n",
       "<!-- D -->\n",
       "<g id=\"node3\" class=\"node\"><title>D</title>\n",
       "<ellipse fill=\"none\" stroke=\"black\" cx=\"53\" cy=\"-106\" rx=\"27.4223\" ry=\"18\"/>\n",
       "<text text-anchor=\"middle\" x=\"53\" y=\"-102.3\" font-family=\"Times,serif\" font-size=\"14.00\">SAT</text>\n",
       "</g>\n",
       "<!-- B&#45;&gt;D -->\n",
       "<g id=\"edge3\" class=\"edge\"><title>B&#45;&gt;D</title>\n",
       "<path fill=\"none\" stroke=\"black\" d=\"M53,-175.597C53,-163.746 53,-147.817 53,-134.292\"/>\n",
       "<polygon fill=\"black\" stroke=\"black\" points=\"56.5001,-134.084 53,-124.084 49.5001,-134.084 56.5001,-134.084\"/>\n",
       "<text text-anchor=\"middle\" x=\"57\" y=\"-146.3\" font-family=\"Times,serif\" font-size=\"14.00\">3</text>\n",
       "</g>\n",
       "<!-- C -->\n",
       "<g id=\"node4\" class=\"node\"><title>C</title>\n",
       "<ellipse fill=\"none\" stroke=\"black\" cx=\"152\" cy=\"-106\" rx=\"33.2209\" ry=\"18\"/>\n",
       "<text text-anchor=\"middle\" x=\"152\" y=\"-102.3\" font-family=\"Times,serif\" font-size=\"14.00\">Grade</text>\n",
       "</g>\n",
       "<!-- B&#45;&gt;C -->\n",
       "<g id=\"edge1\" class=\"edge\"><title>B&#45;&gt;C</title>\n",
       "<path fill=\"none\" stroke=\"black\" d=\"M71.6211,-176.824C87.3131,-163.193 109.898,-143.573 127.135,-128.6\"/>\n",
       "<polygon fill=\"black\" stroke=\"black\" points=\"129.859,-130.87 135.113,-121.669 125.268,-125.585 129.859,-130.87\"/>\n",
       "<text text-anchor=\"middle\" x=\"116\" y=\"-146.3\" font-family=\"Times,serif\" font-size=\"14.00\">1</text>\n",
       "</g>\n",
       "<!-- A -->\n",
       "<g id=\"node2\" class=\"node\"><title>A</title>\n",
       "<ellipse fill=\"none\" stroke=\"black\" cx=\"171\" cy=\"-194\" rx=\"46.2191\" ry=\"18\"/>\n",
       "<text text-anchor=\"middle\" x=\"171\" y=\"-190.3\" font-family=\"Times,serif\" font-size=\"14.00\">Difficulty</text>\n",
       "</g>\n",
       "<!-- A&#45;&gt;C -->\n",
       "<g id=\"edge2\" class=\"edge\"><title>A&#45;&gt;C</title>\n",
       "<path fill=\"none\" stroke=\"black\" d=\"M167.246,-176.009C164.592,-163.995 160.979,-147.641 157.936,-133.869\"/>\n",
       "<polygon fill=\"black\" stroke=\"black\" points=\"161.321,-132.965 155.746,-123.956 154.486,-134.475 161.321,-132.965\"/>\n",
       "<text text-anchor=\"middle\" x=\"168\" y=\"-146.3\" font-family=\"Times,serif\" font-size=\"14.00\">2</text>\n",
       "</g>\n",
       "<!-- E -->\n",
       "<g id=\"node5\" class=\"node\"><title>E</title>\n",
       "<ellipse fill=\"none\" stroke=\"black\" cx=\"152\" cy=\"-18\" rx=\"32.2457\" ry=\"18\"/>\n",
       "<text text-anchor=\"middle\" x=\"152\" y=\"-14.3\" font-family=\"Times,serif\" font-size=\"14.00\">Letter</text>\n",
       "</g>\n",
       "<!-- C&#45;&gt;E -->\n",
       "<g id=\"edge4\" class=\"edge\"><title>C&#45;&gt;E</title>\n",
       "<path fill=\"none\" stroke=\"black\" d=\"M152,-87.5966C152,-75.7459 152,-59.8169 152,-46.2917\"/>\n",
       "<polygon fill=\"black\" stroke=\"black\" points=\"155.5,-46.084 152,-36.084 148.5,-46.084 155.5,-46.084\"/>\n",
       "<text text-anchor=\"middle\" x=\"156\" y=\"-58.3\" font-family=\"Times,serif\" font-size=\"14.00\">4</text>\n",
       "</g>\n",
       "</g>\n",
       "</svg>\n"
      ],
      "text/plain": [
       "PyObject <graphviz.dot.Digraph object at 0x319076610>"
      ]
     },
     "execution_count": 364,
     "metadata": {},
     "output_type": "execute_result"
    }
   ],
   "source": [
    "dg = graphviz.Digraph()\n",
    "for (v,i) in vertexEncodings\n",
    "    pycall(dg[\"node\"], PyCall.PyObject, string(uppercase(Char(i+96))), v)\n",
    "end\n",
    "\n",
    "for rownum in 1:size(edgesEncoded)[1]\n",
    "    string(uppercase(Char(edgesEncoded[rownum][1]+96)))*string(uppercase(Char(edgesEncoded[rownum][2]+96))) #*string(uppercase(Char(edgesEncoded[rownum][2]+96)))\n",
    "    pycall(dg[\"edge\"], PyCall.PyObject, string(uppercase(Char(edgesEncoded[rownum][1]+96))), string(uppercase(Char(edgesEncoded[rownum][2]+96))), label=\"$rownum\")\n",
    "end\n",
    "\n",
    "dg"
   ]
  },
  {
   "cell_type": "code",
   "execution_count": 346,
   "metadata": {
    "collapsed": false
   },
   "outputs": [
    {
     "data": {
      "text/plain": [
       "([2,5],3.9410283949802694e-5)"
      ]
     },
     "execution_count": 346,
     "metadata": {},
     "output_type": "execute_result"
    }
   ],
   "source": [
    "epsilon(bn, \"SAT\", \"Grade\", 2)"
   ]
  },
  {
   "cell_type": "code",
   "execution_count": 347,
   "metadata": {
    "collapsed": false
   },
   "outputs": [],
   "source": [
    "type ModelWithBN\n",
    "    m::model\n",
    "    vertexEncodings::Dict{ASCIIString,Int64}\n",
    "    edgesEncoded::Array{Array{Int64,1},1}\n",
    "end"
   ]
  },
  {
   "cell_type": "code",
   "execution_count": 348,
   "metadata": {
    "collapsed": false
   },
   "outputs": [
    {
     "data": {
      "text/plain": [
       "epsilon (generic function with 2 methods)"
      ]
     },
     "execution_count": 348,
     "metadata": {},
     "output_type": "execute_result"
    }
   ],
   "source": [
    "function epsilon(BN::ModelWithBN, node_i::ASCIIString, node_j::ASCIIString, d::Int)\n",
    "    epsilon(BN.m, BN.vertexEncodings[node_i], BN.vertexEncodings[node_j],d)\n",
    "end"
   ]
  },
  {
   "cell_type": "code",
   "execution_count": 349,
   "metadata": {
    "collapsed": false
   },
   "outputs": [
    {
     "data": {
      "text/plain": [
       "ModelWithBN(model(5,[2,2,3,2,2],100000x5 Array{Int64,2}:\n",
       " 0  0  1  0  0\n",
       " 0  0  0  1  1\n",
       " 1  0  2  0  0\n",
       " 0  0  2  0  0\n",
       " 1  1  0  1  1\n",
       " 0  0  1  0  0\n",
       " 0  0  2  0  0\n",
       " 0  0  0  0  1\n",
       " 0  0  1  0  1\n",
       " 0  0  1  0  0\n",
       " 0  0  1  0  0\n",
       " 0  1  0  1  1\n",
       " 0  0  0  0  1\n",
       " ⋮            \n",
       " 0  0  1  0  0\n",
       " 1  1  2  1  0\n",
       " 0  0  1  0  1\n",
       " 0  0  0  0  1\n",
       " 0  0  2  0  0\n",
       " 0  0  1  0  0\n",
       " 0  1  0  0  1\n",
       " 1  1  1  1  0\n",
       " 0  1  0  0  0\n",
       " 1  0  1  1  0\n",
       " 1  1  0  1  1\n",
       " 0  0  2  0  0),Dict(\"Intelligence\"=>2,\"Difficulty\"=>1,\"SAT\"=>4,\"Grade\"=>3,\"Letter\"=>5),[[2,3],[1,3],[2,4],[3,5]])"
      ]
     },
     "execution_count": 349,
     "metadata": {},
     "output_type": "execute_result"
    }
   ],
   "source": [
    "bn = ModelWithBN(m,vertexEncodings, edgesEncoded)"
   ]
  },
  {
   "cell_type": "code",
   "execution_count": 350,
   "metadata": {
    "collapsed": false
   },
   "outputs": [
    {
     "data": {
      "text/plain": [
       "computeEpsilonArray (generic function with 1 method)"
      ]
     },
     "execution_count": 350,
     "metadata": {},
     "output_type": "execute_result"
    }
   ],
   "source": [
    "function computeEpsilonArray(BN::ModelWithBN, d::Int)\n",
    "    for i in 1:1 #length(BN.edgesEncoded)\n",
    "        return [epsilon(BN.m,BN.edgesEncoded[i][1], BN.edgesEncoded[i][2],d ) for i in 1:length(BN.edgesEncoded)]\n",
    "    end\n",
    "end"
   ]
  },
  {
   "cell_type": "code",
   "execution_count": 351,
   "metadata": {
    "collapsed": false
   },
   "outputs": [
    {
     "data": {
      "text/plain": [
       "4-element Array{Tuple{Union{Array{Any,1},Array{Int64,1}},Float64},1}:\n",
       " ([4,5],0.027708964861958035)\n",
       " ([5],0.016717629711182107)  \n",
       " ([3],0.22425733287320757)   \n",
       " ([2],0.1807663791582597)    "
      ]
     },
     "execution_count": 351,
     "metadata": {},
     "output_type": "execute_result"
    }
   ],
   "source": [
    "a=computeEpsilonArray(bn,2)"
   ]
  },
  {
   "cell_type": "code",
   "execution_count": 352,
   "metadata": {
    "collapsed": false
   },
   "outputs": [
    {
     "data": {
      "text/plain": [
       "0.0"
      ]
     },
     "execution_count": 352,
     "metadata": {},
     "output_type": "execute_result"
    }
   ],
   "source": [
    "epsilonArray[1]"
   ]
  },
  {
   "cell_type": "code",
   "execution_count": 367,
   "metadata": {
    "collapsed": false
   },
   "outputs": [
    {
     "data": {
      "text/plain": [
       "0.027708964861958035"
      ]
     },
     "execution_count": 367,
     "metadata": {},
     "output_type": "execute_result"
    }
   ],
   "source": [
    "a[1][2]"
   ]
  },
  {
   "cell_type": "code",
   "execution_count": 371,
   "metadata": {
    "collapsed": false
   },
   "outputs": [
    {
     "name": "stderr",
     "output_type": "stream",
     "text": [
      "INFO: Cloning cache of Formatting from git://github.com/lindahua/Formatting.jl.git\n",
      "INFO: Installing Formatting v0.1.4\n",
      "INFO: Package database updated\n"
     ]
    }
   ],
   "source": [
    "Pkg.add(\"Formatting\")"
   ]
  },
  {
   "cell_type": "code",
   "execution_count": 372,
   "metadata": {
    "collapsed": true
   },
   "outputs": [],
   "source": [
    "using Formatting"
   ]
  },
  {
   "cell_type": "code",
   "execution_count": 377,
   "metadata": {
    "collapsed": false
   },
   "outputs": [
    {
     "data": {
      "text/plain": [
       "\"3.14\""
      ]
     },
     "execution_count": 377,
     "metadata": {},
     "output_type": "execute_result"
    }
   ],
   "source": [
    "fmt = \"%1.2f\"\n",
    "s = sprintf1( fmt, 3.14159 )"
   ]
  },
  {
   "cell_type": "code",
   "execution_count": 378,
   "metadata": {
    "collapsed": false
   },
   "outputs": [
    {
     "data": {
      "image/svg+xml": [
       "<?xml version=\"1.0\" encoding=\"UTF-8\" standalone=\"no\"?>\n",
       "<!DOCTYPE svg PUBLIC \"-//W3C//DTD SVG 1.1//EN\"\n",
       " \"http://www.w3.org/Graphics/SVG/1.1/DTD/svg11.dtd\">\n",
       "<!-- Generated by graphviz version 2.36.0 (20140111.2315)\n",
       " -->\n",
       "<!-- Title: %3 Pages: 1 -->\n",
       "<svg width=\"225pt\" height=\"220pt\"\n",
       " viewBox=\"0.00 0.00 225.00 220.00\" xmlns=\"http://www.w3.org/2000/svg\" xmlns:xlink=\"http://www.w3.org/1999/xlink\">\n",
       "<g id=\"graph0\" class=\"graph\" transform=\"scale(1 1) rotate(0) translate(4 216)\">\n",
       "<title>%3</title>\n",
       "<polygon fill=\"white\" stroke=\"none\" points=\"-4,4 -4,-216 221,-216 221,4 -4,4\"/>\n",
       "<!-- B -->\n",
       "<g id=\"node1\" class=\"node\"><title>B</title>\n",
       "<ellipse fill=\"none\" stroke=\"black\" cx=\"53\" cy=\"-194\" rx=\"53.4184\" ry=\"18\"/>\n",
       "<text text-anchor=\"middle\" x=\"53\" y=\"-190.3\" font-family=\"Times,serif\" font-size=\"14.00\">Intelligence</text>\n",
       "</g>\n",
       "<!-- D -->\n",
       "<g id=\"node3\" class=\"node\"><title>D</title>\n",
       "<ellipse fill=\"none\" stroke=\"black\" cx=\"53\" cy=\"-106\" rx=\"27.4223\" ry=\"18\"/>\n",
       "<text text-anchor=\"middle\" x=\"53\" y=\"-102.3\" font-family=\"Times,serif\" font-size=\"14.00\">SAT</text>\n",
       "</g>\n",
       "<!-- B&#45;&gt;D -->\n",
       "<g id=\"edge3\" class=\"edge\"><title>B&#45;&gt;D</title>\n",
       "<path fill=\"none\" stroke=\"black\" d=\"M53,-175.597C53,-163.746 53,-147.817 53,-134.292\"/>\n",
       "<polygon fill=\"black\" stroke=\"black\" points=\"56.5001,-134.084 53,-124.084 49.5001,-134.084 56.5001,-134.084\"/>\n",
       "<text text-anchor=\"middle\" x=\"65.5\" y=\"-146.3\" font-family=\"Times,serif\" font-size=\"14.00\">0.22</text>\n",
       "</g>\n",
       "<!-- C -->\n",
       "<g id=\"node4\" class=\"node\"><title>C</title>\n",
       "<ellipse fill=\"none\" stroke=\"black\" cx=\"151\" cy=\"-106\" rx=\"33.2209\" ry=\"18\"/>\n",
       "<text text-anchor=\"middle\" x=\"151\" y=\"-102.3\" font-family=\"Times,serif\" font-size=\"14.00\">Grade</text>\n",
       "</g>\n",
       "<!-- B&#45;&gt;C -->\n",
       "<g id=\"edge1\" class=\"edge\"><title>B&#45;&gt;C</title>\n",
       "<path fill=\"none\" stroke=\"black\" d=\"M71.4331,-176.824C86.9665,-163.193 109.324,-143.573 126.386,-128.6\"/>\n",
       "<polygon fill=\"black\" stroke=\"black\" points=\"129.076,-130.896 134.284,-121.669 124.459,-125.635 129.076,-130.896\"/>\n",
       "<text text-anchor=\"middle\" x=\"123.5\" y=\"-146.3\" font-family=\"Times,serif\" font-size=\"14.00\">0.03</text>\n",
       "</g>\n",
       "<!-- A -->\n",
       "<g id=\"node2\" class=\"node\"><title>A</title>\n",
       "<ellipse fill=\"none\" stroke=\"black\" cx=\"171\" cy=\"-194\" rx=\"46.2191\" ry=\"18\"/>\n",
       "<text text-anchor=\"middle\" x=\"171\" y=\"-190.3\" font-family=\"Times,serif\" font-size=\"14.00\">Difficulty</text>\n",
       "</g>\n",
       "<!-- A&#45;&gt;C -->\n",
       "<g id=\"edge2\" class=\"edge\"><title>A&#45;&gt;C</title>\n",
       "<path fill=\"none\" stroke=\"black\" d=\"M167.049,-176.009C164.255,-163.995 160.451,-147.641 157.249,-133.869\"/>\n",
       "<polygon fill=\"black\" stroke=\"black\" points=\"160.617,-132.903 154.943,-123.956 153.799,-134.488 160.617,-132.903\"/>\n",
       "<text text-anchor=\"middle\" x=\"174.5\" y=\"-146.3\" font-family=\"Times,serif\" font-size=\"14.00\">0.02</text>\n",
       "</g>\n",
       "<!-- E -->\n",
       "<g id=\"node5\" class=\"node\"><title>E</title>\n",
       "<ellipse fill=\"none\" stroke=\"black\" cx=\"151\" cy=\"-18\" rx=\"32.2457\" ry=\"18\"/>\n",
       "<text text-anchor=\"middle\" x=\"151\" y=\"-14.3\" font-family=\"Times,serif\" font-size=\"14.00\">Letter</text>\n",
       "</g>\n",
       "<!-- C&#45;&gt;E -->\n",
       "<g id=\"edge4\" class=\"edge\"><title>C&#45;&gt;E</title>\n",
       "<path fill=\"none\" stroke=\"black\" d=\"M151,-87.5966C151,-75.7459 151,-59.8169 151,-46.2917\"/>\n",
       "<polygon fill=\"black\" stroke=\"black\" points=\"154.5,-46.084 151,-36.084 147.5,-46.084 154.5,-46.084\"/>\n",
       "<text text-anchor=\"middle\" x=\"163.5\" y=\"-58.3\" font-family=\"Times,serif\" font-size=\"14.00\">0.18</text>\n",
       "</g>\n",
       "</g>\n",
       "</svg>\n"
      ],
      "text/plain": [
       "PyObject <graphviz.dot.Digraph object at 0x319076810>"
      ]
     },
     "execution_count": 378,
     "metadata": {},
     "output_type": "execute_result"
    }
   ],
   "source": [
    "dg = graphviz.Digraph()\n",
    "for (v,i) in vertexEncodings\n",
    "    pycall(dg[\"node\"], PyCall.PyObject, string(uppercase(Char(i+96))), v)\n",
    "end\n",
    "\n",
    "for rownum in 1:size(edgesEncoded)[1]\n",
    "    label=sprintf1(\"%1.2f\", a[rownum][2])\n",
    "    string(uppercase(Char(edgesEncoded[rownum][1]+96)))*string(uppercase(Char(edgesEncoded[rownum][2]+96))) #*string(uppercase(Char(edgesEncoded[rownum][2]+96)))\n",
    "    pycall(dg[\"edge\"], PyCall.PyObject, string(uppercase(Char(edgesEncoded[rownum][1]+96))), string(uppercase(Char(edgesEncoded[rownum][2]+96))), label=\"$label\")\n",
    "end\n",
    "\n",
    "dg"
   ]
  },
  {
   "cell_type": "code",
   "execution_count": null,
   "metadata": {
    "collapsed": true
   },
   "outputs": [],
   "source": []
  }
 ],
 "metadata": {
  "kernelspec": {
   "display_name": "Julia 0.4.0",
   "language": "julia",
   "name": "julia-0.4"
  },
  "language_info": {
   "file_extension": ".jl",
   "mimetype": "application/julia",
   "name": "julia",
   "version": "0.4.0"
  }
 },
 "nbformat": 4,
 "nbformat_minor": 0
}
