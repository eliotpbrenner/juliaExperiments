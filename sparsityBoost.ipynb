{
 "cells": [
  {
   "cell_type": "code",
   "execution_count": 1,
   "metadata": {
    "collapsed": false
   },
   "outputs": [
    {
     "data": {
      "text/plain": [
       "1000"
      ]
     },
     "execution_count": 1,
     "metadata": {},
     "output_type": "execute_result"
    }
   ],
   "source": [
    "#PARAMETERS\n",
    "testDataFile=\"/Users/eliotpbrenner/PycharmProjects/SparsityBoost/data/synthetic_examples/experiments/0/alarm1000.dat\"\n",
    "numTestVariable=37\n",
    "numTestDataPts=1000"
   ]
  },
  {
   "cell_type": "code",
   "execution_count": 82,
   "metadata": {
    "collapsed": false
   },
   "outputs": [
    {
     "name": "stderr",
     "output_type": "stream",
     "text": [
      "INFO: Updating METADATA...\n",
      "INFO: Computing changes...\n",
      "INFO: No packages to install, update or remove\n"
     ]
    }
   ],
   "source": [
    "Pkg.update()"
   ]
  },
  {
   "cell_type": "code",
   "execution_count": 81,
   "metadata": {
    "collapsed": false
   },
   "outputs": [
    {
     "name": "stderr",
     "output_type": "stream",
     "text": [
      "INFO: Cloning cache of Iterators from git://github.com/JuliaLang/Iterators.jl.git\n",
      "INFO: Installing Iterators v0.1.9\n",
      "INFO: Package database updated\n",
      "INFO: METADATA is out-of-date — you may not have the latest version of Iterators\n",
      "INFO: Use `Pkg.update()` to get the latest versions of your packages\n",
      "INFO: Precompiling module Iterators...\n"
     ]
    }
   ],
   "source": [
    "# Imports\n",
    "using Base.Test\n",
    "Pkg.add(\"Iterators\")\n",
    "using Iterators"
   ]
  },
  {
   "cell_type": "code",
   "execution_count": 3,
   "metadata": {
    "collapsed": true
   },
   "outputs": [],
   "source": [
    "type model\n",
    "  nodes::Int64\n",
    "  nval::Array{Int64,1}\n",
    "  dataArray::Array{Int64,2}\n",
    "end"
   ]
  },
  {
   "cell_type": "code",
   "execution_count": 4,
   "metadata": {
    "collapsed": false
   },
   "outputs": [],
   "source": [
    "type jointDistWithMarginals\n",
    "  pdist::Array{Float64,2}\n",
    "  p_A::Array{Float64,1}\n",
    "  p_B::Array{Float64,1}\n",
    "end"
   ]
  },
  {
   "cell_type": "code",
   "execution_count": 10,
   "metadata": {
    "collapsed": false
   },
   "outputs": [
    {
     "data": {
      "text/plain": [
       "jointDistWithMarginals"
      ]
     },
     "execution_count": 10,
     "metadata": {},
     "output_type": "execute_result"
    }
   ],
   "source": [
    "# Constructor which calculates the marginals\n",
    "jointDistWithMarginals(pdist::Array{Float64,2}) = jointDistWithMarginals(pdist, vec(sum(pdist,1)), vec(sum(pdist,2)))"
   ]
  },
  {
   "cell_type": "code",
   "execution_count": 11,
   "metadata": {
    "collapsed": false
   },
   "outputs": [
    {
     "data": {
      "text/plain": [
       "jointDistWithMarginals(2x2 Array{Float64,2}:\n",
       " 0.25  0.25\n",
       " 0.25  0.25,[0.5,0.5],[0.5,0.5])"
      ]
     },
     "execution_count": 11,
     "metadata": {},
     "output_type": "execute_result"
    }
   ],
   "source": [
    "jointDistWithMarginals([[0.25 0.25]; [ 0.25 0.25]])"
   ]
  },
  {
   "cell_type": "code",
   "execution_count": 18,
   "metadata": {
    "collapsed": false
   },
   "outputs": [
    {
     "data": {
      "text/plain": [
       "readData (generic function with 3 methods)"
      ]
     },
     "execution_count": 18,
     "metadata": {},
     "output_type": "execute_result"
    }
   ],
   "source": [
    "function readData(filePath::AbstractString)\n",
    "  dataArray = readdlm(filePath, ' ', Int);\n",
    "  nodes=size(dataArray)[2];\n",
    "  nval=2*ones(Int, nodes)\n",
    "  theModel = model(nodes,nval,dataArray);\n",
    "end\n"
   ]
  },
  {
   "cell_type": "code",
   "execution_count": 19,
   "metadata": {
    "collapsed": false
   },
   "outputs": [],
   "source": [
    "# test readData function\n",
    "m=readData(testDataFile)\n",
    "@test size(m.dataArray) == (numTestDataPts, numTestVariable)"
   ]
  },
  {
   "cell_type": "code",
   "execution_count": 20,
   "metadata": {
    "collapsed": false
   },
   "outputs": [
    {
     "data": {
      "text/plain": [
       "verify (generic function with 1 method)"
      ]
     },
     "execution_count": 20,
     "metadata": {},
     "output_type": "execute_result"
    }
   ],
   "source": [
    "function verify(aJointDistributionWithMarginals::jointDistWithMarginals)\n",
    "  sumA=sum(aJointDistributionWithMarginals.pdist,1)\n",
    "  sumB=sum(aJointDistributionWithMarginals.pdist,2)\n",
    "  @test_approx_eq(transpose(sumA),aJointDistributionWithMarginals.p_A)\n",
    "  @test_approx_eq(sumB,aJointDistributionWithMarginals.p_B)\n",
    "  @test_approx_eq(sum(sumA),1.0)\n",
    "  return true\n",
    "end"
   ]
  },
  {
   "cell_type": "code",
   "execution_count": 22,
   "metadata": {
    "collapsed": false
   },
   "outputs": [],
   "source": [
    "goodDist=jointDistWithMarginals([[0.25 0.25]; [ 0.25 0.25]], [0.5; 0.5], [0.5; 0.5])\n",
    "@test verify(goodDist) == true"
   ]
  },
  {
   "cell_type": "code",
   "execution_count": 43,
   "metadata": {
    "collapsed": false
   },
   "outputs": [
    {
     "data": {
      "text/plain": [
       "ErrorException(\"assertion failed: |transpose(sumA) - aJointDistributionWithMarginals.p_A| <= 2.220446049250313e-12\\n  transpose(sumA) = [0.5\\n 0.5]\\n  aJointDistributionWithMarginals.p_A = [0.6,0.4]\\n  difference = 0.09999999999999998 > 2.220446049250313e-12\")"
      ]
     },
     "execution_count": 43,
     "metadata": {},
     "output_type": "execute_result"
    }
   ],
   "source": [
    "#TODO: determine why this this test fails instead of succeeding!\n",
    "badDist = jointDistWithMarginals([[0.25 0.25]; [ 0.25 0.25]], [0.6; 0.4], [0.5; 0.5])\n",
    "@test_throws( ErrorException, verify(badDist))"
   ]
  },
  {
   "cell_type": "code",
   "execution_count": 25,
   "metadata": {
    "collapsed": false
   },
   "outputs": [
    {
     "data": {
      "text/plain": [
       "MI_term (generic function with 1 method)"
      ]
     },
     "execution_count": 25,
     "metadata": {},
     "output_type": "execute_result"
    }
   ],
   "source": [
    "function MI_term(i::Int, j::Int, dist::jointDistWithMarginals)\n",
    "  return dist.pdist[i,j]*log(dist.pdist[i,j]/(dist.p_A[i]*dist.p_B[j])  )\n",
    "end"
   ]
  },
  {
   "cell_type": "code",
   "execution_count": 26,
   "metadata": {
    "collapsed": false
   },
   "outputs": [
    {
     "data": {
      "text/plain": [
       "MI (generic function with 1 method)"
      ]
     },
     "execution_count": 26,
     "metadata": {},
     "output_type": "execute_result"
    }
   ],
   "source": [
    "function MI(dist::jointDistWithMarginals)\n",
    "  (a,b)=size(dist.pdist)\n",
    "  return sum([(MI_term(i,j,dist)) for i=1:a, j=1:b])\n",
    "end"
   ]
  },
  {
   "cell_type": "code",
   "execution_count": 27,
   "metadata": {
    "collapsed": false
   },
   "outputs": [
    {
     "data": {
      "text/plain": [
       "0.0"
      ]
     },
     "execution_count": 27,
     "metadata": {},
     "output_type": "execute_result"
    }
   ],
   "source": [
    "MI_term(1,1,goodDist)"
   ]
  },
  {
   "cell_type": "code",
   "execution_count": 28,
   "metadata": {
    "collapsed": false
   },
   "outputs": [],
   "source": [
    "@test_approx_eq(MI(goodDist),0)"
   ]
  },
  {
   "cell_type": "code",
   "execution_count": 31,
   "metadata": {
    "collapsed": false
   },
   "outputs": [],
   "source": [
    "t=0.01\n",
    "anotherDist=jointDistWithMarginals([[0.25+t 0.25-t], [ 0.25-t 0.25+t]], [0.5; 0.5], [0.5; 0.5])\n",
    "verify(anotherDist)\n",
    "@test_approx_eq(MI(anotherDist), 0.0008002134699838133)"
   ]
  },
  {
   "cell_type": "code",
   "execution_count": 65,
   "metadata": {
    "collapsed": false
   },
   "outputs": [
    {
     "data": {
      "text/plain": [
       "testNotInDict (generic function with 1 method)"
      ]
     },
     "execution_count": 65,
     "metadata": {},
     "output_type": "execute_result"
    }
   ],
   "source": [
    "testNotInDict(elt::Int, SToVal::Dict) = try\n",
    "    \"\"\"TODO: figure out how to propagate y up the call stack if it's not a KeyError\"\"\"\n",
    "    x=SToVal[elt] \n",
    "    warn(\"$elt is in $SToVal with value $x\")\n",
    "    throw(DomainError())\n",
    "  catch y\n",
    "    if isa(y, KeyError)\n",
    "      return true\n",
    "    else\n",
    "      return y\n",
    "    end\n",
    "  end"
   ]
  },
  {
   "cell_type": "code",
   "execution_count": 45,
   "metadata": {
    "collapsed": false
   },
   "outputs": [
    {
     "data": {
      "text/plain": [
       "Dict{Int64,Int64} with 2 entries:\n",
       "  3 => 4\n",
       "  1 => 2"
      ]
     },
     "execution_count": 45,
     "metadata": {},
     "output_type": "execute_result"
    }
   ],
   "source": [
    "S=Dict(1=>2, 3=>4)"
   ]
  },
  {
   "cell_type": "code",
   "execution_count": 68,
   "metadata": {
    "collapsed": false
   },
   "outputs": [
    {
     "name": "stderr",
     "output_type": "stream",
     "text": [
      "WARNING: 1 is in Dict(3=>4,1=>2) with value 2\n"
     ]
    },
    {
     "data": {
      "text/plain": [
       "DomainError()"
      ]
     },
     "execution_count": 68,
     "metadata": {},
     "output_type": "execute_result"
    }
   ],
   "source": [
    "testNotInDict(1,S)"
   ]
  },
  {
   "cell_type": "code",
   "execution_count": 78,
   "metadata": {
    "collapsed": false
   },
   "outputs": [
    {
     "data": {
      "text/plain": [
       "conditionalDist (generic function with 1 method)"
      ]
     },
     "execution_count": 78,
     "metadata": {},
     "output_type": "execute_result"
    }
   ],
   "source": [
    "function conditionalDist(m::model,i::Int,j::Int,SToVal::Dict)\n",
    "  \"\"\"\n",
    "  TODO: that S is a dict of integers and that both are valid for the model\n",
    "  TODO: vectorize the computation of the pDist\n",
    "  \"\"\"\n",
    "  @test i!=j\n",
    "  @test testNotInDict(i, SToVal) == true\n",
    "  @test testNotInDict(j, SToVal) ==true\n",
    "  selectedPoints = m.dataArray[reduce(&,[m.dataArray[:,condVar] .==SToVal[condVar] for condVar in keys(SToVal)]),:]\n",
    "  numSelectedPoints = size(selectedPoints)[1]\n",
    "  pDist = zeros(m.nval[i], m.nval[j])\n",
    "  for k = 1:m.nval[i]\n",
    "      for l = 1:m.nval[j]\n",
    "          pDist[k,l] = size(selectedPoints[(selectedPoints[:,i] .==k-1)&(selectedPoints[:,j] .==l-1), :])[1]/numSelectedPoints\n",
    "    end\n",
    "  end\n",
    "    jd = jointDistWithMarginals(pDist)\n",
    "    verify(jd)\n",
    "    return jd\n",
    "end"
   ]
  },
  {
   "cell_type": "code",
   "execution_count": 34,
   "metadata": {
    "collapsed": false
   },
   "outputs": [
    {
     "data": {
      "text/plain": [
       "jointDistWithMarginals(2x2 Array{Float64,2}:\n",
       " 0.304239  0.316708\n",
       " 0.15212   0.226933,[0.456359102244389,0.543640897755611],[0.6209476309226932,0.3790523690773067])"
      ]
     },
     "execution_count": 34,
     "metadata": {},
     "output_type": "execute_result"
    }
   ],
   "source": [
    "SToVal = Dict(3=>0, 4=>1)\n",
    "cd = conditionalDist(m, 1, 2, SToVal)"
   ]
  },
  {
   "cell_type": "code",
   "execution_count": 41,
   "metadata": {
    "collapsed": false
   },
   "outputs": [
    {
     "data": {
      "text/plain": [
       "ErrorException(\"test failed: 1 != 1\\n in expression: i != j\")"
      ]
     },
     "execution_count": 41,
     "metadata": {},
     "output_type": "execute_result"
    }
   ],
   "source": [
    "@test_throws(ErrorException,conditionalDist(m, 1, 1, SToVal))"
   ]
  },
  {
   "cell_type": "code",
   "execution_count": 64,
   "metadata": {
    "collapsed": false
   },
   "outputs": [
    {
     "name": "stderr",
     "output_type": "stream",
     "text": [
      "WARNING: 3 is in Dict(4=>1,3=>0) with value 0\n"
     ]
    },
    {
     "data": {
      "text/plain": [
       "jointDistWithMarginals(2x2 Array{Float64,2}:\n",
       " 0.620948  0.379052\n",
       " 0.0       0.0     ,[0.6209476309226932,0.3790523690773067],[1.0,0.0])"
      ]
     },
     "execution_count": 64,
     "metadata": {},
     "output_type": "execute_result"
    }
   ],
   "source": [
    "conditionalDist(m, 3, 1, SToVal)"
   ]
  },
  {
   "cell_type": "code",
   "execution_count": 80,
   "metadata": {
    "collapsed": false
   },
   "outputs": [
    {
     "name": "stderr",
     "output_type": "stream",
     "text": [
      "WARNING: 3 is in Dict(3=>4,1=>2) with value 4\n"
     ]
    },
    {
     "ename": "LoadError",
     "evalue": "LoadError: test failed: ErrorException(\"test failed: DomainError() == true\\n in expression: testNotInDict(i,SToVal) == true\") was thrown instead of DomainError\n in expression: conditionalDist(m,3,1,S)\nwhile loading In[80], in expression starting on line 2",
     "output_type": "error",
     "traceback": [
      "LoadError: test failed: ErrorException(\"test failed: DomainError() == true\\n in expression: testNotInDict(i,SToVal) == true\") was thrown instead of DomainError\n in expression: conditionalDist(m,3,1,S)\nwhile loading In[80], in expression starting on line 2",
      "",
      " in error at /Applications/Julia-0.4.0.app/Contents/Resources/julia/lib/julia/sys.dylib",
      " in default_handler at test.jl:30",
      " in do_test_throws at test.jl:75"
     ]
    }
   ],
   "source": [
    "#TODO: determine why this test is failing\n",
    "@test_throws(DomainError, conditionalDist(m, 3, 1, S))"
   ]
  },
  {
   "cell_type": "code",
   "execution_count": 79,
   "metadata": {
    "collapsed": false
   },
   "outputs": [
    {
     "name": "stderr",
     "output_type": "stream",
     "text": [
      "WARNING: 3 is in Dict(3=>4,1=>2) with value 4\n"
     ]
    },
    {
     "ename": "LoadError",
     "evalue": "LoadError: test failed: DomainError() == true\n in expression: testNotInDict(i,SToVal) == true\nwhile loading In[79], in expression starting on line 1",
     "output_type": "error",
     "traceback": [
      "LoadError: test failed: DomainError() == true\n in expression: testNotInDict(i,SToVal) == true\nwhile loading In[79], in expression starting on line 1",
      "",
      " in error at /Applications/Julia-0.4.0.app/Contents/Resources/julia/lib/julia/sys.dylib",
      " in default_handler at test.jl:30",
      " in do_test at test.jl:53",
      " in conditionalDist at In[78]:7"
     ]
    }
   ],
   "source": [
    "conditionalDist(m, 3, 1, S)"
   ]
  },
  {
   "cell_type": "code",
   "execution_count": 103,
   "metadata": {
    "collapsed": false
   },
   "outputs": [
    {
     "data": {
      "text/plain": [
       "MI (generic function with 4 methods)"
      ]
     },
     "execution_count": 103,
     "metadata": {},
     "output_type": "execute_result"
    }
   ],
   "source": [
    "function MI(m::model,i::Int,j::Int,SToVal::Dict)\n",
    "  \"\"\"\n",
    "  TODO: test\n",
    "  \"\"\"\n",
    "  MI(conditionalDist(m::model,i::Int,j::Int,SToVal::Dict))\n",
    "end"
   ]
  },
  {
   "cell_type": "code",
   "execution_count": 197,
   "metadata": {
    "collapsed": false
   },
   "outputs": [
    {
     "data": {
      "text/plain": [
       "MI (generic function with 5 methods)"
      ]
     },
     "execution_count": 197,
     "metadata": {},
     "output_type": "execute_result"
    }
   ],
   "source": [
    "function MI(m::model, i::Int, j::Int, S::Array{Int64,1})\n",
    "  \"\"\"\n",
    "  TODO: test\n",
    "  \"\"\"\n",
    "  max=-Inf\n",
    "  for p in Iterators.product([1:m.nval[i]-1 for i in S]...)\n",
    "        candidate=MI(m,i,j, Dict(zip(S,p)))\n",
    "        return zip(S,p)\n",
    "    if candidate > max\n",
    "      max=candidate\n",
    "    end\n",
    "  end\n",
    "  return max\n",
    "end"
   ]
  },
  {
   "cell_type": "code",
   "execution_count": 202,
   "metadata": {
    "collapsed": false
   },
   "outputs": [
    {
     "data": {
      "text/plain": [
       "jointDistWithMarginals(2x2 Array{Float64,2}:\n",
       " 0.495575  0.132743\n",
       " 0.371681  0.0     ,[0.8672566371681416,0.13274336283185842],[0.6283185840707964,0.37168141592920356])"
      ]
     },
     "execution_count": 202,
     "metadata": {},
     "output_type": "execute_result"
    }
   ],
   "source": [
    "#MI(m,1,2, Dict(3=>1, 7=>1, 22=>1))\n",
    "conditionalDist(m,1,2,Dict(3=>1, 7=>1, 22=>1))"
   ]
  },
  {
   "cell_type": "code",
   "execution_count": 131,
   "metadata": {
    "collapsed": false
   },
   "outputs": [
    {
     "name": "stdout",
     "output_type": "stream",
     "text": [
      "Array{Int64,1}Array{Int64,1}Array{Int64,1}Array{Int64,1}Array{Int64,1}Array{Int64,1}Array{Int64,1}Array{Int64,1}Array{Int64,1}Array{Int64,1}"
     ]
    }
   ],
   "source": [
    "for i in combinations(1:5,3)\n",
    "    print(typeof(Array(i)))\n",
    "end"
   ]
  },
  {
   "cell_type": "code",
   "execution_count": 145,
   "metadata": {
    "collapsed": false
   },
   "outputs": [
    {
     "name": "stdout",
     "output_type": "stream",
     "text": [
      "[1,3,4]"
     ]
    }
   ],
   "source": [
    "for i in combinations(1:5,3)\n",
    "    if (2 in i) || (5 in i)\n",
    "        continue\n",
    "    end\n",
    "    print(Array(i))\n",
    "end"
   ]
  },
  {
   "cell_type": "code",
   "execution_count": 193,
   "metadata": {
    "collapsed": false
   },
   "outputs": [
    {
     "data": {
      "text/plain": [
       "epsilon (generic function with 1 method)"
      ]
     },
     "execution_count": 193,
     "metadata": {},
     "output_type": "execute_result"
    }
   ],
   "source": [
    "function epsilon(m::model, i::Int, j::Int, d::Int)\n",
    "    \"\"\"\n",
    "    TODO: test\n",
    "    \"\"\"\n",
    "    min=Inf\n",
    "    bestK=Array([])\n",
    "    for k in combinations(1:m.nodes,d)\n",
    "        if (i in k) || (j in k)\n",
    "            continue\n",
    "        end\n",
    "        candidate = MI(m,i,j,k)\n",
    "        if candidate < min\n",
    "            min=candidate\n",
    "            bestK=k\n",
    "        end\n",
    "    end\n",
    "    return bestK, min\n",
    "end"
   ]
  },
  {
   "cell_type": "code",
   "execution_count": 206,
   "metadata": {
    "collapsed": false
   },
   "outputs": [
    {
     "data": {
      "text/plain": [
       "([14,28,37],-Inf)"
      ]
     },
     "execution_count": 206,
     "metadata": {},
     "output_type": "execute_result"
    }
   ],
   "source": [
    "epsilon(m,5,10,3)"
   ]
  },
  {
   "cell_type": "code",
   "execution_count": null,
   "metadata": {
    "collapsed": true
   },
   "outputs": [],
   "source": []
  }
 ],
 "metadata": {
  "kernelspec": {
   "display_name": "Julia 0.4.0",
   "language": "julia",
   "name": "julia-0.4"
  },
  "language_info": {
   "file_extension": ".jl",
   "mimetype": "application/julia",
   "name": "julia",
   "version": "0.4.0"
  }
 },
 "nbformat": 4,
 "nbformat_minor": 0
}
