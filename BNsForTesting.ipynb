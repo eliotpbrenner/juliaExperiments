{
 "cells": [
  {
   "cell_type": "code",
   "execution_count": 84,
   "metadata": {
    "collapsed": true
   },
   "outputs": [],
   "source": [
    "from libpgm.graphskeleton import GraphSkeleton\n",
    "from libpgm.nodedata import NodeData\n",
    "from libpgm.discretebayesiannetwork import DiscreteBayesianNetwork\n",
    "from libpgm.tablecpdfactorization import TableCPDFactorization\n",
    "import pandas as pd\n",
    "import numpy as np"
   ]
  },
  {
   "cell_type": "code",
   "execution_count": 2,
   "metadata": {
    "collapsed": false
   },
   "outputs": [],
   "source": [
    "def getTableCPD():\n",
    "    nd = NodeData()\n",
    "    skel = GraphSkeleton()\n",
    "    jsonpath=\"student.txt\"\n",
    "    nd.load(jsonpath)\n",
    "    skel.load(jsonpath)\n",
    "    # load bayesian network\n",
    "    bn = DiscreteBayesianNetwork(skel, nd)\n",
    "    tablecpd=TableCPDFactorization(bn)\n",
    "    return tablecpd"
   ]
  },
  {
   "cell_type": "code",
   "execution_count": 10,
   "metadata": {
    "collapsed": false
   },
   "outputs": [],
   "source": [
    "def getBN():\n",
    "    nd = NodeData()\n",
    "    skel = GraphSkeleton()\n",
    "    jsonpath=\"student.txt\"\n",
    "    nd.load(jsonpath)\n",
    "    skel.load(jsonpath)\n",
    "    # load bayesian network\n",
    "    bn = DiscreteBayesianNetwork(skel, nd)\n",
    "    return bn"
   ]
  },
  {
   "cell_type": "code",
   "execution_count": 11,
   "metadata": {
    "collapsed": false
   },
   "outputs": [],
   "source": [
    "bn = getBN()"
   ]
  },
  {
   "cell_type": "code",
   "execution_count": 12,
   "metadata": {
    "collapsed": false
   },
   "outputs": [
    {
     "data": {
      "text/plain": [
       "[u'Difficulty', u'Intelligence', u'Grade', u'SAT', u'Letter']"
      ]
     },
     "execution_count": 12,
     "metadata": {},
     "output_type": "execute_result"
    }
   ],
   "source": [
    "bn.V"
   ]
  },
  {
   "cell_type": "code",
   "execution_count": 13,
   "metadata": {
    "collapsed": false
   },
   "outputs": [
    {
     "data": {
      "text/plain": [
       "[[u'Intelligence', u'Grade'],\n",
       " [u'Difficulty', u'Grade'],\n",
       " [u'Intelligence', u'SAT'],\n",
       " [u'Grade', u'Letter']]"
      ]
     },
     "execution_count": 13,
     "metadata": {},
     "output_type": "execute_result"
    }
   ],
   "source": [
    "bn.E"
   ]
  },
  {
   "cell_type": "code",
   "execution_count": 16,
   "metadata": {
    "collapsed": false
   },
   "outputs": [
    {
     "data": {
      "text/plain": [
       "{u'Difficulty': {u'children': [u'Grade'],\n",
       "  u'cprob': [0.6, 0.4],\n",
       "  u'numoutcomes': 2,\n",
       "  u'ord': 0,\n",
       "  u'parents': None,\n",
       "  u'vals': [u'easy', u'hard']},\n",
       " u'Grade': {u'children': [u'Letter'],\n",
       "  u'cprob': {u\"['easy', 'high']\": [0.9, 0.08, 0.02],\n",
       "   u\"['easy', 'low']\": [0.3, 0.4, 0.3],\n",
       "   u\"['hard', 'high']\": [0.5, 0.3, 0.2],\n",
       "   u\"['hard', 'low']\": [0.05, 0.25, 0.7]},\n",
       "  u'numoutcomes': 3,\n",
       "  u'ord': 2,\n",
       "  u'parents': [u'Difficulty', u'Intelligence'],\n",
       "  u'vals': [u'A', u'B', u'C']},\n",
       " u'Intelligence': {u'children': [u'SAT', u'Grade'],\n",
       "  u'cprob': [0.7, 0.3],\n",
       "  u'numoutcomes': 2,\n",
       "  u'ord': 1,\n",
       "  u'parents': None,\n",
       "  u'vals': [u'low', u'high']},\n",
       " u'Letter': {u'children': None,\n",
       "  u'cprob': {u\"['A']\": [0.1, 0.9],\n",
       "   u\"['B']\": [0.4, 0.6],\n",
       "   u\"['C']\": [0.99, 0.01]},\n",
       "  u'numoutcomes': 2,\n",
       "  u'ord': 4,\n",
       "  u'parents': [u'Grade'],\n",
       "  u'vals': [u'weak', u'strong']},\n",
       " u'SAT': {u'children': None,\n",
       "  u'cprob': {u\"['high']\": [0.2, 0.8], u\"['low']\": [0.95, 0.05]},\n",
       "  u'numoutcomes': 2,\n",
       "  u'ord': 3,\n",
       "  u'parents': [u'Intelligence'],\n",
       "  u'vals': [u'lowscore', u'highscore']}}"
      ]
     },
     "execution_count": 16,
     "metadata": {},
     "output_type": "execute_result"
    }
   ],
   "source": [
    "bn.Vdata"
   ]
  },
  {
   "cell_type": "code",
   "execution_count": 17,
   "metadata": {
    "collapsed": false
   },
   "outputs": [
    {
     "data": {
      "text/plain": [
       "[u'Difficulty', u'Intelligence', u'Grade', u'SAT', u'Letter']"
      ]
     },
     "execution_count": 17,
     "metadata": {},
     "output_type": "execute_result"
    }
   ],
   "source": [
    "bn.V"
   ]
  },
  {
   "cell_type": "code",
   "execution_count": 49,
   "metadata": {
    "collapsed": false
   },
   "outputs": [],
   "source": [
    "aSample = bn.randomsample(1)[0]"
   ]
  },
  {
   "cell_type": "code",
   "execution_count": 50,
   "metadata": {
    "collapsed": false
   },
   "outputs": [
    {
     "data": {
      "text/plain": [
       "{u'Difficulty': u'hard',\n",
       " u'Grade': u'C',\n",
       " u'Intelligence': u'low',\n",
       " u'Letter': u'weak',\n",
       " u'SAT': u'lowscore'}"
      ]
     },
     "execution_count": 50,
     "metadata": {},
     "output_type": "execute_result"
    }
   ],
   "source": [
    "aSample"
   ]
  },
  {
   "cell_type": "code",
   "execution_count": 32,
   "metadata": {
    "collapsed": false
   },
   "outputs": [],
   "source": [
    "varValEncodings = {variable: {v: i for i,v in enumerate(bn.Vdata[variable]['vals'])} for variable in bn.Vdata.keys()}"
   ]
  },
  {
   "cell_type": "code",
   "execution_count": 33,
   "metadata": {
    "collapsed": false
   },
   "outputs": [
    {
     "data": {
      "text/plain": [
       "{u'Difficulty': {u'easy': 0, u'hard': 1},\n",
       " u'Grade': {u'A': 0, u'B': 1, u'C': 2},\n",
       " u'Intelligence': {u'high': 1, u'low': 0},\n",
       " u'Letter': {u'strong': 1, u'weak': 0},\n",
       " u'SAT': {u'highscore': 1, u'lowscore': 0}}"
      ]
     },
     "execution_count": 33,
     "metadata": {},
     "output_type": "execute_result"
    }
   ],
   "source": [
    "varValEncodings"
   ]
  },
  {
   "cell_type": "code",
   "execution_count": 40,
   "metadata": {
    "collapsed": false
   },
   "outputs": [],
   "source": [
    "def encodedSample(aSample, varValEncodings, bn):\n",
    "    return [varValEncodings[aVar][aSample[aVar]] for aVar in bn.V]\n",
    "    "
   ]
  },
  {
   "cell_type": "code",
   "execution_count": 51,
   "metadata": {
    "collapsed": false
   },
   "outputs": [
    {
     "data": {
      "text/plain": [
       "[1, 0, 2, 0, 0]"
      ]
     },
     "execution_count": 51,
     "metadata": {},
     "output_type": "execute_result"
    }
   ],
   "source": [
    "encodedSample(aSample, varValEncodings, bn)"
   ]
  },
  {
   "cell_type": "code",
   "execution_count": 70,
   "metadata": {
    "collapsed": false
   },
   "outputs": [],
   "source": [
    "def encodedSamples(numSamples, bn):\n",
    "    varValEncodings = {variable: {v: i for i,v in enumerate(bn.Vdata[variable]['vals'])} for variable in bn.V}\n",
    "    samples = bn.randomsample(numSamples)\n",
    "    return pd.DataFrame([encodedSample(aSample, varValEncodings, bn) for aSample in samples], columns=bn.V)"
   ]
  },
  {
   "cell_type": "code",
   "execution_count": 71,
   "metadata": {
    "collapsed": false
   },
   "outputs": [],
   "source": [
    "lotsaSamples = encodedSamples(100000, bn)"
   ]
  },
  {
   "cell_type": "code",
   "execution_count": 80,
   "metadata": {
    "collapsed": false
   },
   "outputs": [
    {
     "data": {
      "text/html": [
       "<div>\n",
       "<table border=\"1\" class=\"dataframe\">\n",
       "  <thead>\n",
       "    <tr style=\"text-align: right;\">\n",
       "      <th></th>\n",
       "      <th>Difficulty</th>\n",
       "      <th>Intelligence</th>\n",
       "      <th>Grade</th>\n",
       "      <th>SAT</th>\n",
       "      <th>Letter</th>\n",
       "    </tr>\n",
       "  </thead>\n",
       "  <tbody>\n",
       "    <tr>\n",
       "      <th>0</th>\n",
       "      <td>0</td>\n",
       "      <td>0</td>\n",
       "      <td>1</td>\n",
       "      <td>0</td>\n",
       "      <td>1</td>\n",
       "    </tr>\n",
       "    <tr>\n",
       "      <th>1</th>\n",
       "      <td>0</td>\n",
       "      <td>0</td>\n",
       "      <td>0</td>\n",
       "      <td>0</td>\n",
       "      <td>1</td>\n",
       "    </tr>\n",
       "    <tr>\n",
       "      <th>2</th>\n",
       "      <td>0</td>\n",
       "      <td>0</td>\n",
       "      <td>0</td>\n",
       "      <td>0</td>\n",
       "      <td>1</td>\n",
       "    </tr>\n",
       "    <tr>\n",
       "      <th>3</th>\n",
       "      <td>0</td>\n",
       "      <td>0</td>\n",
       "      <td>2</td>\n",
       "      <td>0</td>\n",
       "      <td>0</td>\n",
       "    </tr>\n",
       "    <tr>\n",
       "      <th>4</th>\n",
       "      <td>1</td>\n",
       "      <td>1</td>\n",
       "      <td>1</td>\n",
       "      <td>1</td>\n",
       "      <td>0</td>\n",
       "    </tr>\n",
       "    <tr>\n",
       "      <th>5</th>\n",
       "      <td>1</td>\n",
       "      <td>1</td>\n",
       "      <td>0</td>\n",
       "      <td>1</td>\n",
       "      <td>1</td>\n",
       "    </tr>\n",
       "    <tr>\n",
       "      <th>6</th>\n",
       "      <td>0</td>\n",
       "      <td>1</td>\n",
       "      <td>0</td>\n",
       "      <td>1</td>\n",
       "      <td>1</td>\n",
       "    </tr>\n",
       "    <tr>\n",
       "      <th>7</th>\n",
       "      <td>0</td>\n",
       "      <td>0</td>\n",
       "      <td>2</td>\n",
       "      <td>0</td>\n",
       "      <td>0</td>\n",
       "    </tr>\n",
       "    <tr>\n",
       "      <th>8</th>\n",
       "      <td>1</td>\n",
       "      <td>1</td>\n",
       "      <td>1</td>\n",
       "      <td>1</td>\n",
       "      <td>1</td>\n",
       "    </tr>\n",
       "    <tr>\n",
       "      <th>9</th>\n",
       "      <td>1</td>\n",
       "      <td>0</td>\n",
       "      <td>2</td>\n",
       "      <td>0</td>\n",
       "      <td>0</td>\n",
       "    </tr>\n",
       "  </tbody>\n",
       "</table>\n",
       "</div>"
      ],
      "text/plain": [
       "   Difficulty  Intelligence  Grade  SAT  Letter\n",
       "0           0             0      1    0       1\n",
       "1           0             0      0    0       1\n",
       "2           0             0      0    0       1\n",
       "3           0             0      2    0       0\n",
       "4           1             1      1    1       0\n",
       "5           1             1      0    1       1\n",
       "6           0             1      0    1       1\n",
       "7           0             0      2    0       0\n",
       "8           1             1      1    1       1\n",
       "9           1             0      2    0       0"
      ]
     },
     "execution_count": 80,
     "metadata": {},
     "output_type": "execute_result"
    }
   ],
   "source": [
    "lotsaSamples[[variable for variable in bn.V]].head(10)"
   ]
  },
  {
   "cell_type": "code",
   "execution_count": 81,
   "metadata": {
    "collapsed": false
   },
   "outputs": [
    {
     "name": "stdout",
     "output_type": "stream",
     "text": [
      "0,0,1,0,1\n",
      "0,0,0,0,1\n",
      "0,0,0,0,1\n",
      "0,0,2,0,0\n",
      "1,1,1,1,0\n",
      "1,1,0,1,1\n",
      "0,1,0,1,1\n",
      "0,0,2,0,0\n",
      "1,1,1,1,1\n",
      "1,0,2,0,0\n"
     ]
    }
   ],
   "source": [
    "%%bash\n",
    "head -10 student_100kSamples.csv"
   ]
  },
  {
   "cell_type": "code",
   "execution_count": 77,
   "metadata": {
    "collapsed": false
   },
   "outputs": [],
   "source": [
    "lotsaSamples[[variable for variable in bn.V]].to_csv('student_100kSamples.csv', index=False, header=False)"
   ]
  },
  {
   "cell_type": "code",
   "execution_count": 96,
   "metadata": {
    "collapsed": false
   },
   "outputs": [],
   "source": [
    "nvals=np.array([bn.Vdata[variable]['numoutcomes'] for variable in bn.V], dtype=np.int8)"
   ]
  },
  {
   "cell_type": "code",
   "execution_count": 109,
   "metadata": {
    "collapsed": false
   },
   "outputs": [],
   "source": [
    "np.set_printoptions(suppress=True)\n",
    "np.savetxt('student_nvals.csv', nvals.astype(int),delimiter=',', fmt='%i',)"
   ]
  },
  {
   "cell_type": "code",
   "execution_count": 110,
   "metadata": {
    "collapsed": false
   },
   "outputs": [
    {
     "name": "stdout",
     "output_type": "stream",
     "text": [
      "2\n",
      "2\n",
      "3\n",
      "2\n",
      "2\n"
     ]
    }
   ],
   "source": [
    "%%bash\n",
    "cat student_nvals.csv"
   ]
  },
  {
   "cell_type": "code",
   "execution_count": 111,
   "metadata": {
    "collapsed": true
   },
   "outputs": [],
   "source": [
    "import graphviz as gv"
   ]
  },
  {
   "cell_type": "code",
   "execution_count": 112,
   "metadata": {
    "collapsed": true
   },
   "outputs": [],
   "source": [
    "vertexEncodings = {v: i for i,v in enumerate(bn.V)}"
   ]
  },
  {
   "cell_type": "code",
   "execution_count": 113,
   "metadata": {
    "collapsed": false
   },
   "outputs": [
    {
     "data": {
      "text/plain": [
       "{u'Difficulty': 0, u'Grade': 2, u'Intelligence': 1, u'Letter': 4, u'SAT': 3}"
      ]
     },
     "execution_count": 113,
     "metadata": {},
     "output_type": "execute_result"
    }
   ],
   "source": [
    "vertexEncodings"
   ]
  },
  {
   "cell_type": "code",
   "execution_count": 115,
   "metadata": {
    "collapsed": false
   },
   "outputs": [],
   "source": [
    "edgesEncoded = [[vertexEncodings[edge[0]],vertexEncodings[edge[1]] ]for edge in bn.E]"
   ]
  },
  {
   "cell_type": "code",
   "execution_count": 116,
   "metadata": {
    "collapsed": false
   },
   "outputs": [
    {
     "data": {
      "text/plain": [
       "[[1, 2], [0, 2], [1, 3], [2, 4]]"
      ]
     },
     "execution_count": 116,
     "metadata": {},
     "output_type": "execute_result"
    }
   ],
   "source": [
    "edgesEncoded"
   ]
  },
  {
   "cell_type": "code",
   "execution_count": 117,
   "metadata": {
    "collapsed": true
   },
   "outputs": [],
   "source": [
    "g1 = gv.Graph(format='svg')"
   ]
  },
  {
   "cell_type": "code",
   "execution_count": 118,
   "metadata": {
    "collapsed": false
   },
   "outputs": [
    {
     "data": {
      "text/plain": [
       "([u'Difficulty', u'Intelligence', u'Grade', u'SAT', u'Letter'],\n",
       " [[u'Intelligence', u'Grade'],\n",
       "  [u'Difficulty', u'Grade'],\n",
       "  [u'Intelligence', u'SAT'],\n",
       "  [u'Grade', u'Letter']])"
      ]
     },
     "execution_count": 118,
     "metadata": {},
     "output_type": "execute_result"
    }
   ],
   "source": [
    "bn.V, bn.E"
   ]
  },
  {
   "cell_type": "code",
   "execution_count": 119,
   "metadata": {
    "collapsed": true
   },
   "outputs": [],
   "source": [
    "g1.node('Difficulty')"
   ]
  },
  {
   "cell_type": "code",
   "execution_count": 120,
   "metadata": {
    "collapsed": true
   },
   "outputs": [],
   "source": [
    "g1.node('Grade')"
   ]
  },
  {
   "cell_type": "code",
   "execution_count": 121,
   "metadata": {
    "collapsed": true
   },
   "outputs": [],
   "source": [
    "g1.edge('Difficulty', 'Grade')"
   ]
  },
  {
   "cell_type": "code",
   "execution_count": 122,
   "metadata": {
    "collapsed": false
   },
   "outputs": [
    {
     "name": "stdout",
     "output_type": "stream",
     "text": [
      "graph {\n",
      "\tDifficulty\n",
      "\tGrade\n",
      "\t\tDifficulty -- Grade\n",
      "}\n"
     ]
    }
   ],
   "source": [
    "print(g1.source)"
   ]
  },
  {
   "cell_type": "code",
   "execution_count": 123,
   "metadata": {
    "collapsed": true
   },
   "outputs": [],
   "source": [
    "from graphviz import Digraph"
   ]
  },
  {
   "cell_type": "code",
   "execution_count": 125,
   "metadata": {
    "collapsed": false
   },
   "outputs": [
    {
     "data": {
      "image/svg+xml": [
       "<?xml version=\"1.0\" encoding=\"UTF-8\" standalone=\"no\"?>\n",
       "<!DOCTYPE svg PUBLIC \"-//W3C//DTD SVG 1.1//EN\"\n",
       " \"http://www.w3.org/Graphics/SVG/1.1/DTD/svg11.dtd\">\n",
       "<!-- Generated by graphviz version 2.36.0 (20140111.2315)\n",
       " -->\n",
       "<!-- Title: %3 Pages: 1 -->\n",
       "<svg width=\"100pt\" height=\"116pt\"\n",
       " viewBox=\"0.00 0.00 100.00 116.00\" xmlns=\"http://www.w3.org/2000/svg\" xmlns:xlink=\"http://www.w3.org/1999/xlink\">\n",
       "<g id=\"graph0\" class=\"graph\" transform=\"scale(1 1) rotate(0) translate(4 112)\">\n",
       "<title>%3</title>\n",
       "<polygon fill=\"white\" stroke=\"none\" points=\"-4,4 -4,-112 96,-112 96,4 -4,4\"/>\n",
       "<!-- A -->\n",
       "<g id=\"node1\" class=\"node\"><title>A</title>\n",
       "<ellipse fill=\"none\" stroke=\"black\" cx=\"46\" cy=\"-90\" rx=\"46.2191\" ry=\"18\"/>\n",
       "<text text-anchor=\"middle\" x=\"46\" y=\"-86.3\" font-family=\"Times,serif\" font-size=\"14.00\">Difficulty</text>\n",
       "</g>\n",
       "<!-- B -->\n",
       "<g id=\"node2\" class=\"node\"><title>B</title>\n",
       "<ellipse fill=\"none\" stroke=\"black\" cx=\"46\" cy=\"-18\" rx=\"33.2209\" ry=\"18\"/>\n",
       "<text text-anchor=\"middle\" x=\"46\" y=\"-14.3\" font-family=\"Times,serif\" font-size=\"14.00\">Grade</text>\n",
       "</g>\n",
       "<!-- A&#45;&gt;B -->\n",
       "<g id=\"edge1\" class=\"edge\"><title>A&#45;&gt;B</title>\n",
       "<path fill=\"none\" stroke=\"black\" d=\"M46,-71.6966C46,-63.9827 46,-54.7125 46,-46.1124\"/>\n",
       "<polygon fill=\"black\" stroke=\"black\" points=\"49.5001,-46.1043 46,-36.1043 42.5001,-46.1044 49.5001,-46.1043\"/>\n",
       "</g>\n",
       "</g>\n",
       "</svg>\n"
      ],
      "text/plain": [
       "<graphviz.dot.Digraph at 0x1092a4750>"
      ]
     },
     "execution_count": 125,
     "metadata": {},
     "output_type": "execute_result"
    }
   ],
   "source": [
    "dot = Digraph(comment='Student Network')\n",
    "for v,i in vertexEncodings.items():\n",
    "    dot.note(chr())\n",
    "\n",
    "dot.node('A', 'Difficulty')\n",
    "dot.node('B', 'Grade')\n",
    "dot.edges(['AB'])\n",
    "dot"
   ]
  },
  {
   "cell_type": "code",
   "execution_count": 134,
   "metadata": {
    "collapsed": false
   },
   "outputs": [
    {
     "data": {
      "text/plain": [
       "'A'"
      ]
     },
     "execution_count": 134,
     "metadata": {},
     "output_type": "execute_result"
    }
   ],
   "source": [
    "chr(97).upper()"
   ]
  },
  {
   "cell_type": "code",
   "execution_count": null,
   "metadata": {
    "collapsed": true
   },
   "outputs": [],
   "source": []
  }
 ],
 "metadata": {
  "kernelspec": {
   "display_name": "Python 2",
   "language": "python",
   "name": "python2"
  },
  "language_info": {
   "codemirror_mode": {
    "name": "ipython",
    "version": 2
   },
   "file_extension": ".py",
   "mimetype": "text/x-python",
   "name": "python",
   "nbconvert_exporter": "python",
   "pygments_lexer": "ipython2",
   "version": "2.7.10"
  }
 },
 "nbformat": 4,
 "nbformat_minor": 0
}
