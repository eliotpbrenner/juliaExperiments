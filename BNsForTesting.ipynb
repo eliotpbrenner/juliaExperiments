{
 "cells": [
  {
   "cell_type": "code",
   "execution_count": 52,
   "metadata": {
    "collapsed": true
   },
   "outputs": [],
   "source": [
    "from libpgm.graphskeleton import GraphSkeleton\n",
    "from libpgm.nodedata import NodeData\n",
    "from libpgm.discretebayesiannetwork import DiscreteBayesianNetwork\n",
    "from libpgm.tablecpdfactorization import TableCPDFactorization\n",
    "import pandas as pd"
   ]
  },
  {
   "cell_type": "code",
   "execution_count": 2,
   "metadata": {
    "collapsed": false
   },
   "outputs": [],
   "source": [
    "def getTableCPD():\n",
    "    nd = NodeData()\n",
    "    skel = GraphSkeleton()\n",
    "    jsonpath=\"student.txt\"\n",
    "    nd.load(jsonpath)\n",
    "    skel.load(jsonpath)\n",
    "    # load bayesian network\n",
    "    bn = DiscreteBayesianNetwork(skel, nd)\n",
    "    tablecpd=TableCPDFactorization(bn)\n",
    "    return tablecpd"
   ]
  },
  {
   "cell_type": "code",
   "execution_count": 10,
   "metadata": {
    "collapsed": false
   },
   "outputs": [],
   "source": [
    "def getBN():\n",
    "    nd = NodeData()\n",
    "    skel = GraphSkeleton()\n",
    "    jsonpath=\"student.txt\"\n",
    "    nd.load(jsonpath)\n",
    "    skel.load(jsonpath)\n",
    "    # load bayesian network\n",
    "    bn = DiscreteBayesianNetwork(skel, nd)\n",
    "    return bn"
   ]
  },
  {
   "cell_type": "code",
   "execution_count": 11,
   "metadata": {
    "collapsed": false
   },
   "outputs": [],
   "source": [
    "bn = getBN()"
   ]
  },
  {
   "cell_type": "code",
   "execution_count": 12,
   "metadata": {
    "collapsed": false
   },
   "outputs": [
    {
     "data": {
      "text/plain": [
       "[u'Difficulty', u'Intelligence', u'Grade', u'SAT', u'Letter']"
      ]
     },
     "execution_count": 12,
     "metadata": {},
     "output_type": "execute_result"
    }
   ],
   "source": [
    "bn.V"
   ]
  },
  {
   "cell_type": "code",
   "execution_count": 13,
   "metadata": {
    "collapsed": false
   },
   "outputs": [
    {
     "data": {
      "text/plain": [
       "[[u'Intelligence', u'Grade'],\n",
       " [u'Difficulty', u'Grade'],\n",
       " [u'Intelligence', u'SAT'],\n",
       " [u'Grade', u'Letter']]"
      ]
     },
     "execution_count": 13,
     "metadata": {},
     "output_type": "execute_result"
    }
   ],
   "source": [
    "bn.E"
   ]
  },
  {
   "cell_type": "code",
   "execution_count": 16,
   "metadata": {
    "collapsed": false
   },
   "outputs": [
    {
     "data": {
      "text/plain": [
       "{u'Difficulty': {u'children': [u'Grade'],\n",
       "  u'cprob': [0.6, 0.4],\n",
       "  u'numoutcomes': 2,\n",
       "  u'ord': 0,\n",
       "  u'parents': None,\n",
       "  u'vals': [u'easy', u'hard']},\n",
       " u'Grade': {u'children': [u'Letter'],\n",
       "  u'cprob': {u\"['easy', 'high']\": [0.9, 0.08, 0.02],\n",
       "   u\"['easy', 'low']\": [0.3, 0.4, 0.3],\n",
       "   u\"['hard', 'high']\": [0.5, 0.3, 0.2],\n",
       "   u\"['hard', 'low']\": [0.05, 0.25, 0.7]},\n",
       "  u'numoutcomes': 3,\n",
       "  u'ord': 2,\n",
       "  u'parents': [u'Difficulty', u'Intelligence'],\n",
       "  u'vals': [u'A', u'B', u'C']},\n",
       " u'Intelligence': {u'children': [u'SAT', u'Grade'],\n",
       "  u'cprob': [0.7, 0.3],\n",
       "  u'numoutcomes': 2,\n",
       "  u'ord': 1,\n",
       "  u'parents': None,\n",
       "  u'vals': [u'low', u'high']},\n",
       " u'Letter': {u'children': None,\n",
       "  u'cprob': {u\"['A']\": [0.1, 0.9],\n",
       "   u\"['B']\": [0.4, 0.6],\n",
       "   u\"['C']\": [0.99, 0.01]},\n",
       "  u'numoutcomes': 2,\n",
       "  u'ord': 4,\n",
       "  u'parents': [u'Grade'],\n",
       "  u'vals': [u'weak', u'strong']},\n",
       " u'SAT': {u'children': None,\n",
       "  u'cprob': {u\"['high']\": [0.2, 0.8], u\"['low']\": [0.95, 0.05]},\n",
       "  u'numoutcomes': 2,\n",
       "  u'ord': 3,\n",
       "  u'parents': [u'Intelligence'],\n",
       "  u'vals': [u'lowscore', u'highscore']}}"
      ]
     },
     "execution_count": 16,
     "metadata": {},
     "output_type": "execute_result"
    }
   ],
   "source": [
    "bn.Vdata"
   ]
  },
  {
   "cell_type": "code",
   "execution_count": 17,
   "metadata": {
    "collapsed": false
   },
   "outputs": [
    {
     "data": {
      "text/plain": [
       "[u'Difficulty', u'Intelligence', u'Grade', u'SAT', u'Letter']"
      ]
     },
     "execution_count": 17,
     "metadata": {},
     "output_type": "execute_result"
    }
   ],
   "source": [
    "bn.V"
   ]
  },
  {
   "cell_type": "code",
   "execution_count": 49,
   "metadata": {
    "collapsed": false
   },
   "outputs": [],
   "source": [
    "aSample = bn.randomsample(1)[0]"
   ]
  },
  {
   "cell_type": "code",
   "execution_count": 50,
   "metadata": {
    "collapsed": false
   },
   "outputs": [
    {
     "data": {
      "text/plain": [
       "{u'Difficulty': u'hard',\n",
       " u'Grade': u'C',\n",
       " u'Intelligence': u'low',\n",
       " u'Letter': u'weak',\n",
       " u'SAT': u'lowscore'}"
      ]
     },
     "execution_count": 50,
     "metadata": {},
     "output_type": "execute_result"
    }
   ],
   "source": [
    "aSample"
   ]
  },
  {
   "cell_type": "code",
   "execution_count": 32,
   "metadata": {
    "collapsed": false
   },
   "outputs": [],
   "source": [
    "varValEncodings = {variable: {v: i for i,v in enumerate(bn.Vdata[variable]['vals'])} for variable in bn.Vdata.keys()}"
   ]
  },
  {
   "cell_type": "code",
   "execution_count": 33,
   "metadata": {
    "collapsed": false
   },
   "outputs": [
    {
     "data": {
      "text/plain": [
       "{u'Difficulty': {u'easy': 0, u'hard': 1},\n",
       " u'Grade': {u'A': 0, u'B': 1, u'C': 2},\n",
       " u'Intelligence': {u'high': 1, u'low': 0},\n",
       " u'Letter': {u'strong': 1, u'weak': 0},\n",
       " u'SAT': {u'highscore': 1, u'lowscore': 0}}"
      ]
     },
     "execution_count": 33,
     "metadata": {},
     "output_type": "execute_result"
    }
   ],
   "source": [
    "varValEncodings"
   ]
  },
  {
   "cell_type": "code",
   "execution_count": 40,
   "metadata": {
    "collapsed": false
   },
   "outputs": [],
   "source": [
    "def encodedSample(aSample, varValEncodings, bn):\n",
    "    return [varValEncodings[aVar][aSample[aVar]] for aVar in bn.V]\n",
    "    "
   ]
  },
  {
   "cell_type": "code",
   "execution_count": 51,
   "metadata": {
    "collapsed": false
   },
   "outputs": [
    {
     "data": {
      "text/plain": [
       "[1, 0, 2, 0, 0]"
      ]
     },
     "execution_count": 51,
     "metadata": {},
     "output_type": "execute_result"
    }
   ],
   "source": [
    "encodedSample(aSample, varValEncodings, bn)"
   ]
  },
  {
   "cell_type": "code",
   "execution_count": 54,
   "metadata": {
    "collapsed": false
   },
   "outputs": [],
   "source": [
    "def encodedSamples(numSamples, bn):\n",
    "    varValEncodings = {variable: {v: i for i,v in enumerate(bn.Vdata[variable]['vals'])} for variable in bn.Vdata.keys()}\n",
    "    samples = bn.randomsample(numSamples)\n",
    "    return pd.DataFrame([encodedSample(aSample, varValEncodings, b) for aSample in samples], names=bn.V)"
   ]
  },
  {
   "cell_type": "code",
   "execution_count": null,
   "metadata": {
    "collapsed": true
   },
   "outputs": [],
   "source": [
    "encodedSamp"
   ]
  }
 ],
 "metadata": {
  "kernelspec": {
   "display_name": "Python 2",
   "language": "python",
   "name": "python2"
  },
  "language_info": {
   "codemirror_mode": {
    "name": "ipython",
    "version": 2
   },
   "file_extension": ".py",
   "mimetype": "text/x-python",
   "name": "python",
   "nbconvert_exporter": "python",
   "pygments_lexer": "ipython2",
   "version": "2.7.10"
  }
 },
 "nbformat": 4,
 "nbformat_minor": 0
}
